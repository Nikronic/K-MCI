{
 "cells": [
  {
   "cell_type": "markdown",
   "metadata": {},
   "source": [
    "# K-MCI\n",
    "### Intro\n",
    "In this notebook we have the main algorithm of the article. All necessary functions are implemented in function.py file.<br>\n",
    "This document have blow sections:<br>\n",
    "1. Importing Libraries & classes\n",
    "2. Reading datasets\n",
    "3. Preprocessing datasets\n",
    "4. Main Algorithm"
   ]
  },
  {
   "cell_type": "markdown",
   "metadata": {},
   "source": [
    "### Importing Libraries & classes\n",
    "We import some libraries from third party."
   ]
  },
  {
   "cell_type": "code",
   "execution_count": 21,
   "metadata": {},
   "outputs": [],
   "source": [
    "import pandas as pd\n",
    "import numpy as np\n",
    "from sklearn.cluster import KMeans\n",
    "import random\n",
    "import copy\n",
    "from sklearn import preprocessing"
   ]
  },
  {
   "cell_type": "code",
   "execution_count": 22,
   "metadata": {},
   "outputs": [],
   "source": [
    "# defnition of Candidate class\n",
    "class Candidate:    \n",
    "    def __init__(self,nodes,sampling_interval,fitness=-1):\n",
    "        self.nodes = nodes\n",
    "        self.sampling_interval = sampling_interval \n",
    "        self.variation = []\n",
    "        self.random_number\n",
    "        self.fitness = fitness\n",
    "        self.centers = []\n",
    "        self.probability = []\n",
    "        self.labels = []\n",
    "        self.each_fitness = []\n",
    "        \n",
    "    def random_number(self):\n",
    "        self.random_number = random.random()\n",
    "        \n",
    "    def describe(self):\n",
    "        print(\"Candidate with #{} nodes, #{} centers, fitness={}\\n clusters:\\n{} \\n Centers:\\n{}\\n sampling_interval:\\n{}\"\n",
    "              .format(len(self.nodes),len(self.centers),self.fitness,self.nodes[np.random.randint(self.nodes.shape[0], size=5), :],self.centers,self.sampling_interval))"
   ]
  },
  {
   "cell_type": "markdown",
   "metadata": {},
   "source": [
    "### Reading Datasets and Preprocessing\n",
    "We show the structure of our data for all of datasets.<br>\n",
    "We have these datasets from UCI Machine Learning Repository:\n",
    "1. Breast Cancer Wisconsin\n",
    "2. Contraceptive Method Choice data\n",
    "3. Glass\n",
    "4. Iris\n",
    "5. Vowel\n",
    "6. Wine"
   ]
  },
  {
   "cell_type": "code",
   "execution_count": 23,
   "metadata": {},
   "outputs": [],
   "source": [
    "\"\"\" In this cell we have some code which will do preprocessing for us on all datasets \"\"\"\n",
    "\"\"\" the resourses of these datasets are mentioned in README.md file. \"\"\"\n",
    "\n",
    "path = 'datasets/' \n",
    "# because we are using local files, you need to download datasets and change the \"path\" variable\n",
    "# local folder of your downloaded datasets\n",
    "\n",
    "\n",
    "def bcw(): \n",
    "    # importing dataset\n",
    "    dataset = pd.read_csv(path+'bcw.csv',\n",
    "                          names = ['Sample code number','Clump Thickness','Uniformity of Cell Size',\n",
    "                                   'Uniformity of Cell Shape','Marginal Adhesion','Single Epithelial',\n",
    "                                   'Bare Nuclei','Bland Chromatin','Normal Nucleoli','Mitoses','Class'])\n",
    "    dataset = dataset.drop(dataset.columns[0], axis=1)\n",
    "    dataset= dataset.replace(to_replace='?',value=np.nan)\n",
    "    dataset = dataset.dropna(axis =0) # resolving missing values\n",
    "    dataset = dataset.astype('int64') # casting string valued column to int64\n",
    "    x = dataset.iloc[:,:-1].values # features\n",
    "    y = dataset.iloc[:,-1].values # target values\n",
    "    return (x,y,dataset)\n",
    "\n",
    "\n",
    "def cmc():\n",
    "    # importing dataset\n",
    "    dataset = pd.read_csv(path+'cmc.csv', names=[\"Wife's age\",\"Wife's education\",\"Husband's education\",\n",
    "                                                 \"Number of children ever born\",\"Wife's religion\",\n",
    "                                                 \"Wife's now working?\",\"Husband's occupation\",\n",
    "                                                 \"Standard-of-living index\",\"Media exposure\",\"Contraceptive method used\"])\n",
    "    x = dataset.iloc[:,:-1].values # features\n",
    "    y = dataset.iloc[:,-1].values # target values\n",
    "    return (x,y,dataset)\n",
    "\n",
    "\n",
    "def glass():\n",
    "    # importing dataset\n",
    "    dataset = pd.read_csv(path+'glass.csv', names= ['Id','refractive index','Sodium','Magnesium','Aluminum','Silicon','Potassium'\n",
    "                                                    ,'Calcium','Barium','Iron','glass'])\n",
    "    x = dataset.iloc[:,1:10].values # features\n",
    "    y = dataset.iloc[:,-1].values # target values\n",
    "    return (x,y,dataset)\n",
    "\n",
    "\n",
    "def iris():\n",
    "    # importing dataset\n",
    "    dataset = pd.read_csv(path+'iris.csv', names= ['sepal length','sepal width','petal length','petal width','class'])\n",
    "    x = dataset.iloc[:,:-1].values # features\n",
    "    y = dataset.iloc[:,-1].values # target values\n",
    "    \n",
    "    # encoding categorial data types to labelEncoder\n",
    "    from sklearn.preprocessing import LabelEncoder\n",
    "    labelencoder_y = LabelEncoder()\n",
    "    labelencoder_y = labelencoder_y.fit(y)\n",
    "    y = labelencoder_y.transform(y)  # 0 for 'Iris-setosa', 1 for 'Iris-versicolor', 2 for 'Iris-virginica'\n",
    "    return (x,y,dataset)\n",
    "\n",
    "\n",
    "def vowel():\n",
    "    # importing dataset\n",
    "    dataset = pd.read_csv(path+'vowel.csv', names= ['vowel','type 1 frq','type 2 frq','type 3 frq'])\n",
    "    x = dataset.iloc[:,1:].values # features\n",
    "    y = dataset.iloc[:,0].values # target values\n",
    "    return (x,y,dataset)\n",
    "\n",
    "def wine():\n",
    "    # importing dataset\n",
    "    dataset = pd.read_csv(path+'wine.csv', names= ['class','Alcohol','Malic acid','Ash','Alcalinity of ash','Magnesium','Total phenols','Flavanoids','Nonflavanoid phenols','Proanthocyanins','Color intensity','Hue','OD280/OD315','Proline'])\n",
    "    x = dataset.iloc[:,1:].values # features\n",
    "    y = dataset.iloc[:,0].values # target values\n",
    "    return (x,y,dataset)"
   ]
  },
  {
   "cell_type": "code",
   "execution_count": 24,
   "metadata": {
    "scrolled": true
   },
   "outputs": [],
   "source": [
    "# Getting data from our preprocessing class Datasets\n",
    "x_bcw, y_bcw, df_bcw = bcw()\n",
    "x_cmc, y_cmc, df_cmc = cmc()\n",
    "x_glass, y_glass, df_glass = glass()\n",
    "x_iris, y_iris, df_iris = iris()\n",
    "x_vowel, y_vowel, df_vowel = vowel()\n",
    "x_wine, y_wine, df_wine = wine()"
   ]
  },
  {
   "cell_type": "code",
   "execution_count": 25,
   "metadata": {},
   "outputs": [
    {
     "data": {
      "text/html": [
       "<div>\n",
       "<style scoped>\n",
       "    .dataframe tbody tr th:only-of-type {\n",
       "        vertical-align: middle;\n",
       "    }\n",
       "\n",
       "    .dataframe tbody tr th {\n",
       "        vertical-align: top;\n",
       "    }\n",
       "\n",
       "    .dataframe thead th {\n",
       "        text-align: right;\n",
       "    }\n",
       "</style>\n",
       "<table border=\"1\" class=\"dataframe\">\n",
       "  <thead>\n",
       "    <tr style=\"text-align: right;\">\n",
       "      <th></th>\n",
       "      <th>Clump Thickness</th>\n",
       "      <th>Uniformity of Cell Size</th>\n",
       "      <th>Uniformity of Cell Shape</th>\n",
       "      <th>Marginal Adhesion</th>\n",
       "      <th>Single Epithelial</th>\n",
       "      <th>Bare Nuclei</th>\n",
       "      <th>Bland Chromatin</th>\n",
       "      <th>Normal Nucleoli</th>\n",
       "      <th>Mitoses</th>\n",
       "      <th>Class</th>\n",
       "    </tr>\n",
       "  </thead>\n",
       "  <tbody>\n",
       "    <tr>\n",
       "      <th>0</th>\n",
       "      <td>5</td>\n",
       "      <td>1</td>\n",
       "      <td>1</td>\n",
       "      <td>1</td>\n",
       "      <td>2</td>\n",
       "      <td>1</td>\n",
       "      <td>3</td>\n",
       "      <td>1</td>\n",
       "      <td>1</td>\n",
       "      <td>2</td>\n",
       "    </tr>\n",
       "    <tr>\n",
       "      <th>1</th>\n",
       "      <td>5</td>\n",
       "      <td>4</td>\n",
       "      <td>4</td>\n",
       "      <td>5</td>\n",
       "      <td>7</td>\n",
       "      <td>10</td>\n",
       "      <td>3</td>\n",
       "      <td>2</td>\n",
       "      <td>1</td>\n",
       "      <td>2</td>\n",
       "    </tr>\n",
       "    <tr>\n",
       "      <th>2</th>\n",
       "      <td>3</td>\n",
       "      <td>1</td>\n",
       "      <td>1</td>\n",
       "      <td>1</td>\n",
       "      <td>2</td>\n",
       "      <td>2</td>\n",
       "      <td>3</td>\n",
       "      <td>1</td>\n",
       "      <td>1</td>\n",
       "      <td>2</td>\n",
       "    </tr>\n",
       "  </tbody>\n",
       "</table>\n",
       "</div>"
      ],
      "text/plain": [
       "   Clump Thickness  Uniformity of Cell Size  Uniformity of Cell Shape  \\\n",
       "0                5                        1                         1   \n",
       "1                5                        4                         4   \n",
       "2                3                        1                         1   \n",
       "\n",
       "   Marginal Adhesion  Single Epithelial  Bare Nuclei  Bland Chromatin  \\\n",
       "0                  1                  2            1                3   \n",
       "1                  5                  7           10                3   \n",
       "2                  1                  2            2                3   \n",
       "\n",
       "   Normal Nucleoli  Mitoses  Class  \n",
       "0                1        1      2  \n",
       "1                2        1      2  \n",
       "2                1        1      2  "
      ]
     },
     "execution_count": 25,
     "metadata": {},
     "output_type": "execute_result"
    }
   ],
   "source": [
    "# Showing dataset of Breast Cancer Wisconsin\n",
    "df_bcw.head(3)"
   ]
  },
  {
   "cell_type": "code",
   "execution_count": 26,
   "metadata": {},
   "outputs": [
    {
     "data": {
      "text/html": [
       "<div>\n",
       "<style scoped>\n",
       "    .dataframe tbody tr th:only-of-type {\n",
       "        vertical-align: middle;\n",
       "    }\n",
       "\n",
       "    .dataframe tbody tr th {\n",
       "        vertical-align: top;\n",
       "    }\n",
       "\n",
       "    .dataframe thead th {\n",
       "        text-align: right;\n",
       "    }\n",
       "</style>\n",
       "<table border=\"1\" class=\"dataframe\">\n",
       "  <thead>\n",
       "    <tr style=\"text-align: right;\">\n",
       "      <th></th>\n",
       "      <th>Wife's age</th>\n",
       "      <th>Wife's education</th>\n",
       "      <th>Husband's education</th>\n",
       "      <th>Number of children ever born</th>\n",
       "      <th>Wife's religion</th>\n",
       "      <th>Wife's now working?</th>\n",
       "      <th>Husband's occupation</th>\n",
       "      <th>Standard-of-living index</th>\n",
       "      <th>Media exposure</th>\n",
       "      <th>Contraceptive method used</th>\n",
       "    </tr>\n",
       "  </thead>\n",
       "  <tbody>\n",
       "    <tr>\n",
       "      <th>0</th>\n",
       "      <td>24</td>\n",
       "      <td>2</td>\n",
       "      <td>3</td>\n",
       "      <td>3</td>\n",
       "      <td>1</td>\n",
       "      <td>1</td>\n",
       "      <td>2</td>\n",
       "      <td>3</td>\n",
       "      <td>0</td>\n",
       "      <td>1</td>\n",
       "    </tr>\n",
       "    <tr>\n",
       "      <th>1</th>\n",
       "      <td>45</td>\n",
       "      <td>1</td>\n",
       "      <td>3</td>\n",
       "      <td>10</td>\n",
       "      <td>1</td>\n",
       "      <td>1</td>\n",
       "      <td>3</td>\n",
       "      <td>4</td>\n",
       "      <td>0</td>\n",
       "      <td>1</td>\n",
       "    </tr>\n",
       "    <tr>\n",
       "      <th>2</th>\n",
       "      <td>43</td>\n",
       "      <td>2</td>\n",
       "      <td>3</td>\n",
       "      <td>7</td>\n",
       "      <td>1</td>\n",
       "      <td>1</td>\n",
       "      <td>3</td>\n",
       "      <td>4</td>\n",
       "      <td>0</td>\n",
       "      <td>1</td>\n",
       "    </tr>\n",
       "  </tbody>\n",
       "</table>\n",
       "</div>"
      ],
      "text/plain": [
       "   Wife's age  Wife's education  Husband's education  \\\n",
       "0          24                 2                    3   \n",
       "1          45                 1                    3   \n",
       "2          43                 2                    3   \n",
       "\n",
       "   Number of children ever born  Wife's religion  Wife's now working?  \\\n",
       "0                             3                1                    1   \n",
       "1                            10                1                    1   \n",
       "2                             7                1                    1   \n",
       "\n",
       "   Husband's occupation  Standard-of-living index  Media exposure  \\\n",
       "0                     2                         3               0   \n",
       "1                     3                         4               0   \n",
       "2                     3                         4               0   \n",
       "\n",
       "   Contraceptive method used  \n",
       "0                          1  \n",
       "1                          1  \n",
       "2                          1  "
      ]
     },
     "execution_count": 26,
     "metadata": {},
     "output_type": "execute_result"
    }
   ],
   "source": [
    "# Showing dataset of Contraceptive Method Choice data\n",
    "df_cmc.head(3)"
   ]
  },
  {
   "cell_type": "code",
   "execution_count": 27,
   "metadata": {},
   "outputs": [
    {
     "data": {
      "text/html": [
       "<div>\n",
       "<style scoped>\n",
       "    .dataframe tbody tr th:only-of-type {\n",
       "        vertical-align: middle;\n",
       "    }\n",
       "\n",
       "    .dataframe tbody tr th {\n",
       "        vertical-align: top;\n",
       "    }\n",
       "\n",
       "    .dataframe thead th {\n",
       "        text-align: right;\n",
       "    }\n",
       "</style>\n",
       "<table border=\"1\" class=\"dataframe\">\n",
       "  <thead>\n",
       "    <tr style=\"text-align: right;\">\n",
       "      <th></th>\n",
       "      <th>Id</th>\n",
       "      <th>refractive index</th>\n",
       "      <th>Sodium</th>\n",
       "      <th>Magnesium</th>\n",
       "      <th>Aluminum</th>\n",
       "      <th>Silicon</th>\n",
       "      <th>Potassium</th>\n",
       "      <th>Calcium</th>\n",
       "      <th>Barium</th>\n",
       "      <th>Iron</th>\n",
       "      <th>glass</th>\n",
       "    </tr>\n",
       "  </thead>\n",
       "  <tbody>\n",
       "    <tr>\n",
       "      <th>0</th>\n",
       "      <td>1</td>\n",
       "      <td>1.52101</td>\n",
       "      <td>13.64</td>\n",
       "      <td>4.49</td>\n",
       "      <td>1.10</td>\n",
       "      <td>71.78</td>\n",
       "      <td>0.06</td>\n",
       "      <td>8.75</td>\n",
       "      <td>0.0</td>\n",
       "      <td>0.0</td>\n",
       "      <td>1</td>\n",
       "    </tr>\n",
       "    <tr>\n",
       "      <th>1</th>\n",
       "      <td>2</td>\n",
       "      <td>1.51761</td>\n",
       "      <td>13.89</td>\n",
       "      <td>3.60</td>\n",
       "      <td>1.36</td>\n",
       "      <td>72.73</td>\n",
       "      <td>0.48</td>\n",
       "      <td>7.83</td>\n",
       "      <td>0.0</td>\n",
       "      <td>0.0</td>\n",
       "      <td>1</td>\n",
       "    </tr>\n",
       "    <tr>\n",
       "      <th>2</th>\n",
       "      <td>3</td>\n",
       "      <td>1.51618</td>\n",
       "      <td>13.53</td>\n",
       "      <td>3.55</td>\n",
       "      <td>1.54</td>\n",
       "      <td>72.99</td>\n",
       "      <td>0.39</td>\n",
       "      <td>7.78</td>\n",
       "      <td>0.0</td>\n",
       "      <td>0.0</td>\n",
       "      <td>1</td>\n",
       "    </tr>\n",
       "  </tbody>\n",
       "</table>\n",
       "</div>"
      ],
      "text/plain": [
       "   Id  refractive index  Sodium  Magnesium  Aluminum  Silicon  Potassium  \\\n",
       "0   1           1.52101   13.64       4.49      1.10    71.78       0.06   \n",
       "1   2           1.51761   13.89       3.60      1.36    72.73       0.48   \n",
       "2   3           1.51618   13.53       3.55      1.54    72.99       0.39   \n",
       "\n",
       "   Calcium  Barium  Iron  glass  \n",
       "0     8.75     0.0   0.0      1  \n",
       "1     7.83     0.0   0.0      1  \n",
       "2     7.78     0.0   0.0      1  "
      ]
     },
     "execution_count": 27,
     "metadata": {},
     "output_type": "execute_result"
    }
   ],
   "source": [
    "# Showing dataset of Glass\n",
    "df_glass.head(3)"
   ]
  },
  {
   "cell_type": "code",
   "execution_count": 28,
   "metadata": {},
   "outputs": [
    {
     "data": {
      "text/html": [
       "<div>\n",
       "<style scoped>\n",
       "    .dataframe tbody tr th:only-of-type {\n",
       "        vertical-align: middle;\n",
       "    }\n",
       "\n",
       "    .dataframe tbody tr th {\n",
       "        vertical-align: top;\n",
       "    }\n",
       "\n",
       "    .dataframe thead th {\n",
       "        text-align: right;\n",
       "    }\n",
       "</style>\n",
       "<table border=\"1\" class=\"dataframe\">\n",
       "  <thead>\n",
       "    <tr style=\"text-align: right;\">\n",
       "      <th></th>\n",
       "      <th>sepal length</th>\n",
       "      <th>sepal width</th>\n",
       "      <th>petal length</th>\n",
       "      <th>petal width</th>\n",
       "      <th>class</th>\n",
       "    </tr>\n",
       "  </thead>\n",
       "  <tbody>\n",
       "    <tr>\n",
       "      <th>0</th>\n",
       "      <td>5.1</td>\n",
       "      <td>3.5</td>\n",
       "      <td>1.4</td>\n",
       "      <td>0.2</td>\n",
       "      <td>Iris-setosa</td>\n",
       "    </tr>\n",
       "    <tr>\n",
       "      <th>1</th>\n",
       "      <td>4.9</td>\n",
       "      <td>3.0</td>\n",
       "      <td>1.4</td>\n",
       "      <td>0.2</td>\n",
       "      <td>Iris-setosa</td>\n",
       "    </tr>\n",
       "    <tr>\n",
       "      <th>2</th>\n",
       "      <td>4.7</td>\n",
       "      <td>3.2</td>\n",
       "      <td>1.3</td>\n",
       "      <td>0.2</td>\n",
       "      <td>Iris-setosa</td>\n",
       "    </tr>\n",
       "  </tbody>\n",
       "</table>\n",
       "</div>"
      ],
      "text/plain": [
       "   sepal length  sepal width  petal length  petal width        class\n",
       "0           5.1          3.5           1.4          0.2  Iris-setosa\n",
       "1           4.9          3.0           1.4          0.2  Iris-setosa\n",
       "2           4.7          3.2           1.3          0.2  Iris-setosa"
      ]
     },
     "execution_count": 28,
     "metadata": {},
     "output_type": "execute_result"
    }
   ],
   "source": [
    "# Showing dataset of Iris\n",
    "df_iris.head(3)"
   ]
  },
  {
   "cell_type": "code",
   "execution_count": 29,
   "metadata": {},
   "outputs": [
    {
     "data": {
      "text/html": [
       "<div>\n",
       "<style scoped>\n",
       "    .dataframe tbody tr th:only-of-type {\n",
       "        vertical-align: middle;\n",
       "    }\n",
       "\n",
       "    .dataframe tbody tr th {\n",
       "        vertical-align: top;\n",
       "    }\n",
       "\n",
       "    .dataframe thead th {\n",
       "        text-align: right;\n",
       "    }\n",
       "</style>\n",
       "<table border=\"1\" class=\"dataframe\">\n",
       "  <thead>\n",
       "    <tr style=\"text-align: right;\">\n",
       "      <th></th>\n",
       "      <th>vowel</th>\n",
       "      <th>type 1 frq</th>\n",
       "      <th>type 2 frq</th>\n",
       "      <th>type 3 frq</th>\n",
       "    </tr>\n",
       "  </thead>\n",
       "  <tbody>\n",
       "    <tr>\n",
       "      <th>0</th>\n",
       "      <td>1</td>\n",
       "      <td>700</td>\n",
       "      <td>1500</td>\n",
       "      <td>2600</td>\n",
       "    </tr>\n",
       "    <tr>\n",
       "      <th>1</th>\n",
       "      <td>1</td>\n",
       "      <td>550</td>\n",
       "      <td>1550</td>\n",
       "      <td>2400</td>\n",
       "    </tr>\n",
       "    <tr>\n",
       "      <th>2</th>\n",
       "      <td>1</td>\n",
       "      <td>700</td>\n",
       "      <td>1500</td>\n",
       "      <td>2600</td>\n",
       "    </tr>\n",
       "  </tbody>\n",
       "</table>\n",
       "</div>"
      ],
      "text/plain": [
       "   vowel  type 1 frq  type 2 frq  type 3 frq\n",
       "0      1         700        1500        2600\n",
       "1      1         550        1550        2400\n",
       "2      1         700        1500        2600"
      ]
     },
     "execution_count": 29,
     "metadata": {},
     "output_type": "execute_result"
    }
   ],
   "source": [
    "# Showing dataset of Vowel\n",
    "df_vowel.head(3)"
   ]
  },
  {
   "cell_type": "code",
   "execution_count": 30,
   "metadata": {
    "scrolled": false
   },
   "outputs": [
    {
     "data": {
      "text/html": [
       "<div>\n",
       "<style scoped>\n",
       "    .dataframe tbody tr th:only-of-type {\n",
       "        vertical-align: middle;\n",
       "    }\n",
       "\n",
       "    .dataframe tbody tr th {\n",
       "        vertical-align: top;\n",
       "    }\n",
       "\n",
       "    .dataframe thead th {\n",
       "        text-align: right;\n",
       "    }\n",
       "</style>\n",
       "<table border=\"1\" class=\"dataframe\">\n",
       "  <thead>\n",
       "    <tr style=\"text-align: right;\">\n",
       "      <th></th>\n",
       "      <th>class</th>\n",
       "      <th>Alcohol</th>\n",
       "      <th>Malic acid</th>\n",
       "      <th>Ash</th>\n",
       "      <th>Alcalinity of ash</th>\n",
       "      <th>Magnesium</th>\n",
       "      <th>Total phenols</th>\n",
       "      <th>Flavanoids</th>\n",
       "      <th>Nonflavanoid phenols</th>\n",
       "      <th>Proanthocyanins</th>\n",
       "      <th>Color intensity</th>\n",
       "      <th>Hue</th>\n",
       "      <th>OD280/OD315</th>\n",
       "      <th>Proline</th>\n",
       "    </tr>\n",
       "  </thead>\n",
       "  <tbody>\n",
       "    <tr>\n",
       "      <th>0</th>\n",
       "      <td>1</td>\n",
       "      <td>14.23</td>\n",
       "      <td>1.71</td>\n",
       "      <td>2.43</td>\n",
       "      <td>15.6</td>\n",
       "      <td>127</td>\n",
       "      <td>2.80</td>\n",
       "      <td>3.06</td>\n",
       "      <td>0.28</td>\n",
       "      <td>2.29</td>\n",
       "      <td>5.64</td>\n",
       "      <td>1.04</td>\n",
       "      <td>3.92</td>\n",
       "      <td>1065</td>\n",
       "    </tr>\n",
       "    <tr>\n",
       "      <th>1</th>\n",
       "      <td>1</td>\n",
       "      <td>13.20</td>\n",
       "      <td>1.78</td>\n",
       "      <td>2.14</td>\n",
       "      <td>11.2</td>\n",
       "      <td>100</td>\n",
       "      <td>2.65</td>\n",
       "      <td>2.76</td>\n",
       "      <td>0.26</td>\n",
       "      <td>1.28</td>\n",
       "      <td>4.38</td>\n",
       "      <td>1.05</td>\n",
       "      <td>3.40</td>\n",
       "      <td>1050</td>\n",
       "    </tr>\n",
       "    <tr>\n",
       "      <th>2</th>\n",
       "      <td>1</td>\n",
       "      <td>13.16</td>\n",
       "      <td>2.36</td>\n",
       "      <td>2.67</td>\n",
       "      <td>18.6</td>\n",
       "      <td>101</td>\n",
       "      <td>2.80</td>\n",
       "      <td>3.24</td>\n",
       "      <td>0.30</td>\n",
       "      <td>2.81</td>\n",
       "      <td>5.68</td>\n",
       "      <td>1.03</td>\n",
       "      <td>3.17</td>\n",
       "      <td>1185</td>\n",
       "    </tr>\n",
       "  </tbody>\n",
       "</table>\n",
       "</div>"
      ],
      "text/plain": [
       "   class  Alcohol  Malic acid   Ash  Alcalinity of ash  Magnesium  \\\n",
       "0      1    14.23        1.71  2.43               15.6        127   \n",
       "1      1    13.20        1.78  2.14               11.2        100   \n",
       "2      1    13.16        2.36  2.67               18.6        101   \n",
       "\n",
       "   Total phenols  Flavanoids  Nonflavanoid phenols  Proanthocyanins  \\\n",
       "0           2.80        3.06                  0.28             2.29   \n",
       "1           2.65        2.76                  0.26             1.28   \n",
       "2           2.80        3.24                  0.30             2.81   \n",
       "\n",
       "   Color intensity   Hue  OD280/OD315  Proline  \n",
       "0             5.64  1.04         3.92     1065  \n",
       "1             4.38  1.05         3.40     1050  \n",
       "2             5.68  1.03         3.17     1185  "
      ]
     },
     "execution_count": 30,
     "metadata": {},
     "output_type": "execute_result"
    }
   ],
   "source": [
    "# Showing dataset of Wine\n",
    "df_wine.head(3)"
   ]
  },
  {
   "cell_type": "markdown",
   "metadata": {},
   "source": [
    "### Standardization\n",
    "In this cell, we standard our data using this equation: <img src='http://3.bp.blogspot.com/_xqXlcaQiGRk/RpO4yR0oKtI/AAAAAAAAABM/7rUWCMwizus/s200/fig2.png'></img>"
   ]
  },
  {
   "cell_type": "code",
   "execution_count": 31,
   "metadata": {},
   "outputs": [
    {
     "name": "stderr",
     "output_type": "stream",
     "text": [
      "C:\\Users\\HaMeD\\Anaconda3\\lib\\site-packages\\sklearn\\utils\\validation.py:475: DataConversionWarning: Data with input dtype int64 was converted to float64 by the scale function.\n",
      "  warnings.warn(msg, DataConversionWarning)\n"
     ]
    }
   ],
   "source": [
    "x_bcw = preprocessing.scale(x_bcw)\n",
    "x_wine = preprocessing.scale(x_wine)\n",
    "x_cmc = preprocessing.scale(x_cmc)\n",
    "x_glass = preprocessing.scale(x_glass)\n",
    "x_iris = preprocessing.scale(x_iris)\n",
    "x_vowel = preprocessing.scale(x_vowel)"
   ]
  },
  {
   "cell_type": "markdown",
   "metadata": {},
   "source": [
    "# Main Algorithm \n",
    "\n",
    "The implementation of main algorithm have below sections:\n",
    "1. <Strong>Initializing Parameters and Candidates</Strong>\n",
    "    1. Sampling Interval\n",
    "    2. Apply Random Centers to Candidates\n",
    "    3. Visualizing Candidates\n",
    "2. <Strong>Running Kmean to Exploit</Strong>\n",
    "    1. K-means Algorithm\n",
    "    2. Visualizing Candidates\n",
    "3. <Strong>Mutation Algorithm</Strong>\n",
    "    1. Fitness over Mutated Candidate\n",
    "    2. Probablility Equation\n",
    "    3. Mutation Logic\n",
    "\n",
    "**Extra details will be explain in other next sections**\n"
   ]
  },
  {
   "cell_type": "markdown",
   "metadata": {},
   "source": [
    "## Initializing Parameters and Candidates\n",
    "In this step, we initialize our algorithm. There are some parameters which are important to convergance speed and quality of solution. So we initialize them here based on the paper.<br>\n",
    "Each time you want to run K-MCI algorithm, you should first do this initialization.<br>"
   ]
  },
  {
   "cell_type": "code",
   "execution_count": 32,
   "metadata": {},
   "outputs": [],
   "source": [
    "# notice: this values related to IRIS dataset\n",
    "candidates_array = [] # the array of all candidates\n",
    "number_of_candidates = 5\n",
    "sampling_interval_reduction_factor = 0.95\n",
    "convergence_parameter = None # what is this in paper???\n",
    "mutation_random = 0.7\n",
    "iterations_count = 3500\n",
    "variations_count = 15\n",
    "number_of_clusters = 3 # in this article number of clusters are predefined"
   ]
  },
  {
   "cell_type": "markdown",
   "metadata": {},
   "source": [
    "## Sampling Interval\n",
    "this function use for making sampling_interval\n"
   ]
  },
  {
   "cell_type": "code",
   "execution_count": 33,
   "metadata": {},
   "outputs": [],
   "source": [
    "def sampling_intervals(input_array):\n",
    "    Maxes = np.amax(input_array,axis=0)\n",
    "    Mins  = np.amin(input_array,axis=0)\n",
    "    return (Maxes,Mins)"
   ]
  },
  {
   "cell_type": "code",
   "execution_count": 34,
   "metadata": {},
   "outputs": [],
   "source": [
    "# initializing candidates\n",
    "for i in range(0 ,number_of_candidates):\n",
    "    candidates_array.append(Candidate(x_wine,sampling_interval = sampling_intervals(x_wine)))"
   ]
  },
  {
   "cell_type": "markdown",
   "metadata": {},
   "source": [
    "## Visualizing Candidates\n",
    "some parameters are uninitialized. They will have value after running Kmean and Cohort and mutations."
   ]
  },
  {
   "cell_type": "code",
   "execution_count": 35,
   "metadata": {
    "scrolled": false
   },
   "outputs": [
    {
     "name": "stdout",
     "output_type": "stream",
     "text": [
      "Candidate with #178 nodes, #0 centers, fitness=-1\n",
      " clusters:\n",
      "[[ 1.0615645  -0.88540853 -0.352802   -1.04947918 -0.12228166  1.09741707\n",
      "   1.12517596 -1.14303148  0.45396697  0.93517742  0.23055711  1.32531572\n",
      "   0.94931905]\n",
      " [ 0.35746347 -0.32885738  1.14588777 -0.80925118  0.1585717   1.1294637\n",
      "   1.2054933  -0.41782893  0.12107098  0.40744204  0.49379744  0.32248133\n",
      "   1.66583014]\n",
      " [-0.81603824  0.10202093  0.34171277  0.45194578 -0.12228166  0.42443782\n",
      "   0.08105057 -0.17609475 -0.49215846 -0.9767819  -0.69078402  1.08520045\n",
      "  -0.98366865]\n",
      " [ 1.70390229 -0.4186237   0.0492855  -2.25061915  0.1585717   1.61016317\n",
      "   1.61711966 -0.57898505  2.39878035  1.05629702  1.06415147  0.54847218\n",
      "   2.54793491]\n",
      " [ 0.44393202  0.20076388 -0.06037473  0.15166079 -0.75420173 -1.43426677\n",
      "  -1.53533585  0.06563943 -1.66605483  0.23441405 -1.12951789 -0.20012252\n",
      "   0.10542821]] \n",
      " Centers:\n",
      "[]\n",
      " sampling_interval:\n",
      "(array([2.25977152, 3.10919247, 3.15632527, 3.15451071, 4.37137214,\n",
      "       2.53951547, 3.06283174, 2.40240319, 3.48507251, 3.43543192,\n",
      "       3.30169422, 1.96091499, 2.97147258]), array([-2.43423535, -1.43298305, -3.67916223, -2.67101814, -2.0882552 ,\n",
      "       -2.10724602, -1.69597053, -1.86823402, -2.06903418, -1.63428828,\n",
      "       -2.09473241, -1.89505389, -1.49318765]))\n"
     ]
    }
   ],
   "source": [
    "candidates_array[random.randint(0,number_of_candidates-1)].describe()"
   ]
  },
  {
   "cell_type": "markdown",
   "metadata": {},
   "source": [
    "## Apply Random Centers to Candidates\n",
    "In this step, we just select some random nodes as centers with psuedorandom functions in python native library."
   ]
  },
  {
   "cell_type": "code",
   "execution_count": 36,
   "metadata": {},
   "outputs": [
    {
     "name": "stdout",
     "output_type": "stream",
     "text": [
      "[[-0.6060432  -0.54429654 -1.41285087  0.30180329 -1.03505509 -0.15240153\n",
      "  -0.10970311 -0.33725087 -0.19430416 -0.9162221   0.36217728  1.35356458\n",
      "  -0.23849711]\n",
      " [-0.97662269 -1.02903463 -2.25357928 -0.80925118  3.59902539 -0.71321758\n",
      "  -0.75224181 -1.78765596  1.59282165 -0.9551534   1.41513857  0.64734317\n",
      "  -0.0920104 ]\n",
      " [-1.18661773  1.76269775  0.0492855   0.75223078 -1.38612179 -0.31263469\n",
      "  -0.28037745  0.46852973 -0.4220751  -1.0632959  -0.7346574  -0.05887823\n",
      "  -0.53147054]]\n",
      "[[ 0.24628963 -0.49941338 -0.82799632 -2.49084714  0.01814502  0.56864766\n",
      "   0.73362894 -0.82071924 -0.54472099 -0.29332133  0.40605066  1.1134493\n",
      "   0.96524152]\n",
      " [ 1.3086175  -0.16727801  0.89001391 -0.56902319  1.49262517  0.48853108\n",
      "   0.48263726 -0.41782893 -0.59728351 -0.00349944  0.44992405  1.36768901\n",
      "   1.74544249]\n",
      " [ 0.71569031  0.21871714  1.18244118  1.50294326  0.36921172 -1.19391704\n",
      "  -1.19398717  0.22679555 -0.08917911  1.5580782  -0.95402434 -1.1464592\n",
      "   0.0098934 ]]\n",
      "[[-0.6060432  -0.54429654 -1.41285087  0.30180329 -1.03505509 -0.15240153\n",
      "  -0.10970311 -0.33725087 -0.19430416 -0.9162221   0.36217728  1.35356458\n",
      "  -0.23849711]\n",
      " [ 1.39508604  1.58316512  1.36520822  1.50294326 -0.26270834 -0.39275127\n",
      "  -1.2743045   1.59662258 -0.4220751   1.79166599 -1.52437837 -1.42894777\n",
      "  -0.59516041]\n",
      " [-1.49543397 -0.18523128  1.51142186  2.70408323 -0.5435617  -0.26456474\n",
      "   0.21156625  1.7577787   0.2962794  -0.89026791  0.05506357 -0.2424958\n",
      "  -0.89450282]]\n",
      "[[-3.71342855e-01  1.08945039e+00 -2.38213228e-02  6.02088279e-01\n",
      "   4.39425064e-01 -9.53567308e-01 -8.32559145e-01 -1.54592178e+00\n",
      "  -1.31563800e+00 -2.51279393e-02 -7.78530790e-01 -1.86680504e+00\n",
      "  -4.67780662e-01]\n",
      " [-9.27212090e-01 -5.44296535e-01 -9.01103141e-01 -1.48624201e-01\n",
      "  -1.38612179e+00 -1.03368389e+00  7.33234123e-04  6.56394314e-02\n",
      "   6.85084581e-02 -7.17239912e-01  1.86683727e-01  7.88587455e-01\n",
      "  -7.54385098e-01]\n",
      " [ 1.71625494e+00 -4.18623695e-01  3.05159359e-01 -1.46987817e+00\n",
      "  -2.62708342e-01  3.28297930e-01  4.92676928e-01 -4.98406993e-01\n",
      "   6.81737904e-01  8.30145565e-02  2.74430501e-01  1.36768901e+00\n",
      "   1.72952002e+00]]\n",
      "[[ 0.36981612 -0.55327317 -0.82799632 -0.74919419 -0.40313502  0.16806478\n",
      "   0.16136791 -0.74014117 -0.4220751  -0.47932642  0.2744305   0.22361033\n",
      "   1.71359755]\n",
      " [ 0.48098997 -0.50839001  0.92656731 -1.01945068 -0.47334836  0.88911397\n",
      "   0.91434295 -0.17609475 -0.24686669 -0.11164194 -0.16430337  0.8592096\n",
      "   1.42699311]\n",
      " [ 0.61686912  0.70345524  0.92656731  1.35280076  1.63305186 -1.43426677\n",
      "  -0.46109146 -1.14303148 -0.59728351  1.532124   -1.61212515 -1.85268061\n",
      "  -0.78623004]]\n"
     ]
    }
   ],
   "source": [
    "for c in range(0,number_of_candidates):\n",
    "    candidates_array[c].centers =  np.asarray(random.sample(list(candidates_array[c].nodes),number_of_clusters))\n",
    "    print(candidates_array[c].centers)"
   ]
  },
  {
   "cell_type": "markdown",
   "metadata": {},
   "source": [
    "## K-means Algorithm \n",
    "this function fitting k-means model on dataset"
   ]
  },
  {
   "cell_type": "code",
   "execution_count": 37,
   "metadata": {},
   "outputs": [],
   "source": [
    "def doKmeans(x,clusters_count,init_centers):\n",
    "    kmeans = KMeans(n_clusters = clusters_count, init = init_centers,n_init = 50)\n",
    "    kmeans = kmeans.fit(x)\n",
    "    labels = kmeans.labels_\n",
    "    return (labels,kmeans.cluster_centers_,kmeans.inertia_)\n"
   ]
  },
  {
   "cell_type": "markdown",
   "metadata": {},
   "source": [
    "## Running Kmean to Exploit\n",
    "Here by running Kmean on all of our candidates, they centers initialized and nodes assigns to clusters based on Kmean++ algorithm.<br>\n",
    "The objective function of Kmean is also the object function of K-MCI. <br>\n",
    "So the fitness of any candidates is calculated using Kmean inertia or mean square error of nodes to their centers distances."
   ]
  },
  {
   "cell_type": "code",
   "execution_count": 38,
   "metadata": {},
   "outputs": [
    {
     "name": "stderr",
     "output_type": "stream",
     "text": [
      "C:\\Users\\HaMeD\\Anaconda3\\lib\\site-packages\\sklearn\\cluster\\k_means_.py:896: RuntimeWarning: Explicit initial center position passed: performing only one init in k-means instead of n_init=50\n",
      "  return_n_iter=True)\n"
     ]
    },
    {
     "data": {
      "text/plain": [
       "array([0, 0, 0, 0, 0, 0, 0, 0, 0, 0, 0, 0, 0, 0, 0, 0, 0, 0, 0, 0, 0, 0,\n",
       "       0, 0, 0, 0, 0, 0, 0, 0, 0, 0, 0, 0, 0, 0, 0, 0, 0, 0, 0, 0, 0, 0,\n",
       "       0, 0, 0, 0, 0, 0, 0, 0, 0, 0, 0, 0, 0, 0, 0, 2, 2, 1, 2, 2, 2, 2,\n",
       "       2, 2, 2, 0, 2, 2, 2, 0, 2, 2, 2, 2, 0, 2, 2, 2, 2, 1, 2, 2, 2, 2,\n",
       "       2, 2, 2, 2, 2, 2, 2, 0, 2, 2, 2, 2, 2, 2, 2, 2, 2, 2, 2, 2, 2, 2,\n",
       "       2, 2, 2, 2, 2, 2, 2, 2, 1, 2, 2, 2, 2, 2, 2, 2, 2, 2, 2, 2, 1, 1,\n",
       "       1, 1, 1, 1, 1, 1, 1, 1, 1, 1, 1, 1, 1, 1, 1, 1, 1, 1, 1, 1, 1, 1,\n",
       "       1, 1, 1, 1, 1, 1, 1, 1, 1, 1, 1, 1, 1, 1, 1, 1, 1, 1, 1, 1, 1, 1,\n",
       "       1, 1])"
      ]
     },
     "execution_count": 38,
     "metadata": {},
     "output_type": "execute_result"
    }
   ],
   "source": [
    "\n",
    "for c in range(0,number_of_candidates):\n",
    "    y_predict_temp,centers_temp,fitness_temp = doKmeans(candidates_array[c].nodes,clusters_count = number_of_clusters,init_centers = candidates_array[c].centers)\n",
    "    candidates_array[c].centers = centers_temp\n",
    "    candidates_array[c].fitness = fitness_temp\n",
    "    candidates_array[c].labels   = y_predict_temp\n",
    "    \n",
    "candidates_array[2].labels"
   ]
  },
  {
   "cell_type": "markdown",
   "metadata": {},
   "source": [
    "## Visualizing Candidates\n",
    "In this step, by Kmeans, we assigned centers to each candidates and calculated the fitness of each candidate using inertia"
   ]
  },
  {
   "cell_type": "code",
   "execution_count": 39,
   "metadata": {},
   "outputs": [
    {
     "name": "stdout",
     "output_type": "stream",
     "text": [
      "Candidate with #178 nodes, #3 centers, fitness=1586.1901646133865\n",
      " clusters:\n",
      "[[-9.27212090e-01 -5.44296535e-01 -9.01103141e-01 -1.48624201e-01\n",
      "  -1.38612179e+00 -1.03368389e+00  7.33234123e-04  6.56394314e-02\n",
      "   6.85084581e-02 -7.17239912e-01  1.86683727e-01  7.88587455e-01\n",
      "  -7.54385098e-01]\n",
      " [-1.48995162e-01  5.86759028e-01  1.22392314e-01  1.51660791e-01\n",
      "   2.98998383e-01 -1.59449993e+00 -8.12479811e-01 -9.81875357e-01\n",
      "  -1.33315885e+00  1.47900054e-01 -9.54024339e-01 -1.68318747e+00\n",
      "  -6.90695223e-01]\n",
      " [-7.78980294e-01 -1.08289442e+00 -7.54889505e-01 -1.48624201e-01\n",
      "  -8.94628408e-01  1.93062948e+00  1.07497763e+00 -1.38476566e+00\n",
      "   4.89008649e-01 -2.63041430e-01  1.15189824e+00  3.64854610e-01\n",
      "  -1.04098953e+00]\n",
      " [-6.06043199e-01 -9.84151477e-01 -4.25908823e-01 -5.99051690e-01\n",
      "  -1.03505509e+00 -4.72867844e-01 -1.45501851e+00  1.91893483e+00\n",
      "  -5.97283511e-01  1.69528553e-01 -9.10150952e-01 -1.55606762e+00\n",
      "  -3.08555975e-01]\n",
      " [-1.13720713e+00 -9.03361794e-01 -2.43141777e-01  1.23268676e+00\n",
      "  -2.08825520e+00 -1.52401534e-01 -4.41012124e-01  4.68529735e-01\n",
      "  -3.69512574e-01 -1.43530608e+00  4.93797437e-01  8.45085168e-01\n",
      "  -3.88168318e-01]] \n",
      " Centers:\n",
      "[[ 0.09794345 -0.38230158 -0.0678208  -0.29459607 -0.03126437  0.57458222\n",
      "   0.64085498 -0.45811796  0.33813474 -0.28286755  0.51410919  0.64328894\n",
      "   0.27694858]\n",
      " [-1.16685349 -0.38092184 -1.00345269 -0.352818    2.68625196 -0.14278755\n",
      "  -0.23620291 -0.99799097  2.00631351 -0.9551534   0.36217728  0.00609414\n",
      "  -0.0907366 ]\n",
      " [-0.07297886  0.66451047  0.18987553  0.51662255 -0.15468782 -0.94370681\n",
      "  -1.04663574  0.83794915 -0.71615568  0.54346866 -0.88207198 -1.06931809\n",
      "  -0.45318098]]\n",
      " sampling_interval:\n",
      "(array([2.25977152, 3.10919247, 3.15632527, 3.15451071, 4.37137214,\n",
      "       2.53951547, 3.06283174, 2.40240319, 3.48507251, 3.43543192,\n",
      "       3.30169422, 1.96091499, 2.97147258]), array([-2.43423535, -1.43298305, -3.67916223, -2.67101814, -2.0882552 ,\n",
      "       -2.10724602, -1.69597053, -1.86823402, -2.06903418, -1.63428828,\n",
      "       -2.09473241, -1.89505389, -1.49318765]))\n"
     ]
    }
   ],
   "source": [
    "candidates_array[random.randint(0,number_of_candidates-1)].describe()"
   ]
  },
  {
   "cell_type": "code",
   "execution_count": 42,
   "metadata": {},
   "outputs": [
    {
     "data": {
      "text/plain": [
       "1586.1901646133865"
      ]
     },
     "execution_count": 42,
     "metadata": {},
     "output_type": "execute_result"
    }
   ],
   "source": [
    "sum_of_squares(candidates_array[0].nodes,candidates_array[0].centers,candidates_array[0].labels)"
   ]
  },
  {
   "cell_type": "markdown",
   "metadata": {},
   "source": [
    "## Fitness over Mutated Candidate\n",
    "Just simple sum of square of distances"
   ]
  },
  {
   "cell_type": "code",
   "execution_count": 41,
   "metadata": {},
   "outputs": [],
   "source": [
    "def sum_of_squares(data, centroids, labels):\n",
    "    sqe = 0\n",
    "    for l in np.unique(labels):\n",
    "        data_l = data[labels == l]\n",
    "        resid = data_l - centroids[l]\n",
    "        sqe += (resid**2).sum()\n",
    "    return sqe"
   ]
  },
  {
   "cell_type": "markdown",
   "metadata": {},
   "source": [
    "### Mean Square Distance to a Specific Center\n",
    "This function is exactly based on \"sum_of_squares\" function. But here all centers not engaged because we want to find the sum of square distances of nodes of a cluster to their cluster center.<br>\n",
    "The idea is when mutation process done, at least one dimension may get better center but the other goes bad. So we want to have that center which is better to the previous time."
   ]
  },
  {
   "cell_type": "code",
   "execution_count": 43,
   "metadata": {},
   "outputs": [],
   "source": [
    "def center_dist(data, center, labels, center_position, center_cluster):\n",
    "    sqe = 0\n",
    "    for l in range(0,len(labels)):\n",
    "        if center_cluster == labels[l] :\n",
    "            data_l = data[l][center_position]\n",
    "            resid = data_l - center\n",
    "            sqe += (resid**2)\n",
    "    return sqe"
   ]
  },
  {
   "cell_type": "code",
   "execution_count": 44,
   "metadata": {},
   "outputs": [
    {
     "name": "stdout",
     "output_type": "stream",
     "text": [
      "[[1.30322470e+02 5.87297640e+01 1.26255005e+02 1.08604675e+02\n",
      "  9.16792222e+01 5.90643551e+01 4.64490943e+01 4.37291687e+01\n",
      "  6.97389728e+01 5.59886415e+01 5.79288009e+01 3.31931412e+01\n",
      "  1.44548571e+02]\n",
      " [1.04663129e+00 3.95637700e+00 8.58717986e+00 2.40468227e+00\n",
      "  8.50903019e+00 4.16627906e+00 1.77209561e+00 2.49843862e+00\n",
      "  7.51339396e+00 9.16872272e-02 3.16834277e+00 9.26315942e-01\n",
      "  8.31249688e-01]\n",
      " [3.84409432e+01 7.01013451e+01 3.52830389e+01 3.96468351e+01\n",
      "  4.00710930e+01 2.11239285e+01 1.39407652e+01 5.84859588e+01\n",
      "  3.49358405e+01 8.95182814e+01 3.71283884e+01 2.48640487e+01\n",
      "  1.09461125e+01]]\n"
     ]
    }
   ],
   "source": [
    "def each_fitness(candidates_array_example):\n",
    "    fitness_of_each_centers = []\n",
    "    for i in range(0,len(candidates_array_example.centers)):\n",
    "        Second_layer = []\n",
    "        for j in range(0,len(candidates_array_example.centers[i])):\n",
    "            Second_layer.append(center_dist(candidates_array_example.nodes,candidates_array_example.centers[i][j],candidates_array_example.labels,j,i))\n",
    "        fitness_of_each_centers.append(Second_layer)\n",
    "    return np.array(fitness_of_each_centers)\n",
    "print(each_fitness(candidates_array[0]))"
   ]
  },
  {
   "cell_type": "markdown",
   "metadata": {},
   "source": [
    "## Mutation algorithm \n",
    "this function do mutation algorithm on candidates interval's centers"
   ]
  },
  {
   "cell_type": "code",
   "execution_count": 46,
   "metadata": {
    "scrolled": true
   },
   "outputs": [
    {
     "name": "stdout",
     "output_type": "stream",
     "text": [
      "###########################################################################################################\n",
      "[[130.3224704   59.02041453 126.25500478 124.53448259  91.67922216\n",
      "   65.96244528  53.63968225  45.80903658  78.3870868   74.87711949\n",
      "   57.92880089  34.33725039 221.35733963]\n",
      " [  9.91456753   3.956377    15.67185757   2.40468227   8.50903019\n",
      "    7.66529785   1.77209561  17.3602583   46.32292822  18.0788926\n",
      "   14.82646746   9.35690201   0.83124969]\n",
      " [ 87.31931735  70.10134513  57.43650669  39.64683513  51.51483914\n",
      "   74.918207    96.968094   103.15297789  34.93584051 221.8755219\n",
      "  150.39605007 145.91229001  17.81965463]]\n",
      "[[1.30322470e+02 5.87297640e+01 1.26255005e+02 1.08604675e+02\n",
      "  9.16792222e+01 5.90643551e+01 4.64490943e+01 4.37291687e+01\n",
      "  6.97389728e+01 5.59886415e+01 5.79288009e+01 3.31931412e+01\n",
      "  1.44548571e+02]\n",
      " [1.04663129e+00 3.95637700e+00 8.58717986e+00 2.40468227e+00\n",
      "  8.50903019e+00 4.16627906e+00 1.77209561e+00 2.49843862e+00\n",
      "  7.51339396e+00 9.16872272e-02 3.16834277e+00 9.26315942e-01\n",
      "  8.31249688e-01]\n",
      " [3.84409432e+01 7.01013451e+01 3.52830389e+01 3.96468351e+01\n",
      "  4.00710930e+01 2.11239285e+01 1.39407652e+01 5.84859588e+01\n",
      "  3.49358405e+01 8.95182814e+01 3.71283884e+01 2.48640487e+01\n",
      "  1.09461125e+01]]\n",
      "###########################################################################################################\n",
      "###########################################################################################################\n",
      "[[ 27.74406753  52.84273951  76.55216092  52.61404633  87.16969053\n",
      "   47.20329165  23.92105311  64.05965442  72.78750268 297.22928035\n",
      "   54.13700927  29.52033773 134.19848006]\n",
      " [314.54503705  22.80761158  49.06144375 100.78201512 124.56829759\n",
      "  101.21330002 140.91573335  21.84865388 143.43425687  19.11802546\n",
      "   17.61689773  59.98268196 390.30400407]\n",
      " [ 20.77734511  95.95439137  26.48044477  52.57432317  30.41507677\n",
      "   90.63337426 205.36339272  49.15187681  33.02956408  51.47415713\n",
      "   13.94771322   7.53536101  98.2026754 ]]\n",
      "[[27.74406753 52.84273951 76.55216092 52.61404633 59.05323075 46.20760112\n",
      "  23.92105311 61.27627486 63.92112636  7.50809575 50.23034894 26.76057049\n",
      "  13.22227375]\n",
      " [29.09509686 22.43830447 49.06144375 60.24371804 52.02998588 18.23706576\n",
      "  14.16486589 21.03852958 36.00575429 19.11802546 16.83755678 16.10397375\n",
      "  33.50307482]\n",
      " [20.77734511 48.16456014 26.46272056 26.14271678 30.22694115 15.68058451\n",
      "   5.28763025 49.13794556 25.96999223 51.47415713 13.94771322  7.53536101\n",
      "   7.38983645]]\n",
      "###########################################################################################################\n",
      "###########################################################################################################\n",
      "[[233.10456019  27.49454803 109.36778287  82.32380884 144.93067299\n",
      "   22.60236027  19.30843175  20.63307367  39.40101132  21.03917665\n",
      "   18.48586961  64.45456656 179.88689817]\n",
      " [ 35.1456045  117.15962596  27.30256087 160.75091862 433.65711489\n",
      "   15.68058451 250.54549539 217.9323883  334.54001005  85.32664217\n",
      "  140.21847812   7.53536101 162.61844633]\n",
      " [ 28.44771363  51.75551071  97.41864037 124.69480081  36.05615268\n",
      "   47.60987319  32.2850154   58.89873855 144.00552635 283.13751106\n",
      "   49.62408081 780.82638859  26.85492905]]\n",
      "[[28.29673841 23.73602826 50.84010627 49.64307077 64.15100418 22.60236027\n",
      "  13.75867269 20.62697997 39.07290588 21.03917665 17.33431622 16.95226802\n",
      "  32.13498097]\n",
      " [20.77734511 48.16456014 26.46272056 26.14271678 30.22694115 15.68058451\n",
      "   5.28763025 49.13794556 25.96999223 51.47415713 13.94771322  7.53536101\n",
      "   7.38983645]\n",
      " [28.44771363 51.75551071 85.08213293 55.16931344 36.05615268 47.60987319\n",
      "  32.2850154  58.89873855 57.64174636  9.16389043 49.62408081 27.66271817\n",
      "  12.18315383]]\n",
      "###########################################################################################################\n",
      "###########################################################################################################\n",
      "[[ 78.6010412  128.87268806  26.46272056  26.14271678  31.18826275\n",
      "   88.22095681  84.33141336  92.18362961  72.825609   184.51982326\n",
      "  154.85137172   7.53536101  20.85859851]\n",
      " [ 27.74406753  52.84273951  89.20982071  78.11508761 428.1364205\n",
      "   46.20760112  25.39183291  61.27627486  63.92112636   7.51028937\n",
      "   50.84308124  30.81280717  72.0904701 ]\n",
      " [ 29.09509686 104.35479571  50.99110623 139.89168352  80.69064326\n",
      "  226.94313552 279.684252   136.13837285 140.3402307   19.11802546\n",
      "  142.26453369 246.9304959  180.53186053]]\n",
      "[[20.77734511 48.16456014 26.46272056 26.14271678 30.22694115 15.68058451\n",
      "   5.28763025 49.13794556 25.96999223 51.47415713 13.94771322  7.53536101\n",
      "   7.38983645]\n",
      " [27.74406753 52.84273951 76.55216092 52.61404633 59.05323075 46.20760112\n",
      "  23.92105311 61.27627486 63.92112636  7.50809575 50.23034894 26.76057049\n",
      "  13.22227375]\n",
      " [29.09509686 22.43830447 49.06144375 60.24371804 52.02998588 18.23706576\n",
      "  14.16486589 21.03852958 36.00575429 19.11802546 16.83755678 16.10397375\n",
      "  33.50307482]]\n",
      "###########################################################################################################\n",
      "###########################################################################################################\n",
      "[[219.3101291   67.31304847  94.93857193 212.80237327  59.05323075\n",
      "   46.20760112  23.92105311 136.79852104 154.48545764  13.16653621\n",
      "  141.47807391  26.76057049 283.45160986]\n",
      " [ 74.75400365  22.43830447  51.71330323  60.24371804 304.34166105\n",
      "  245.05502599 349.84208735  75.21880252  36.1386466   53.03864453\n",
      "  185.80220514 299.86930474 148.63236706]\n",
      " [ 20.77734511  90.87075072  26.46272056  27.09129802  30.22694115\n",
      "   15.68058451   5.28763025  72.23603028  26.0319233  188.13953916\n",
      "   13.94771322   7.53536101  19.64029902]]\n",
      "[[27.74406753 52.84273951 76.55216092 52.61404633 59.05323075 46.20760112\n",
      "  23.92105311 61.27627486 63.92112636  7.50809575 50.23034894 26.76057049\n",
      "  13.22227375]\n",
      " [29.09509686 22.43830447 49.06144375 60.24371804 52.02998588 18.23706576\n",
      "  14.16486589 21.03852958 36.00575429 19.11802546 16.83755678 16.10397375\n",
      "  33.50307482]\n",
      " [20.77734511 48.16456014 26.46272056 26.14271678 30.22694115 15.68058451\n",
      "   5.28763025 49.13794556 25.96999223 51.47415713 13.94771322  7.53536101\n",
      "   7.38983645]]\n",
      "###########################################################################################################\n"
     ]
    }
   ],
   "source": [
    "def mutation(candidate_array,mutation_random):\n",
    "    New_candidate = copy.deepcopy(candidate_array)\n",
    "    Mutant_candidate = copy.deepcopy(candidate_array)\n",
    "    Trial_candidate = copy.deepcopy(candidate_array)\n",
    "    for x in range(len(candidate_array)):\n",
    "        a = np.full(len(candidate_array), 1/(len(candidate_array)-1))\n",
    "        a[x] = 0\n",
    "        temp = np.random.choice(len(candidate_array), 3, replace = False, p=a)\n",
    "        for i in range(len(candidate_array[0].centers)):\n",
    "            for j in range(len(candidate_array[0].centers[i])):\n",
    "                Mutant_candidate[x].centers[i][j] = candidate_array[temp[0]].centers[i][j]+ random.random()*(candidate_array[temp[1]].centers[i][j] - candidate_array[temp[2]].centers[i][j])\n",
    "                if random.random() < mutation_random:\n",
    "                    Trial_candidate[x].centers[i][j] = Mutant_candidate[x].centers[i][j] #Trial & Mutant must be copy of same candidate\n",
    "                    \n",
    "                    \n",
    "        Trial_candidate[x].fitness = sum_of_squares(Trial_candidate[x].nodes,Trial_candidate[x].centers,Trial_candidate[x].labels)\n",
    "        \n",
    "        if Trial_candidate[x].fitness < sum_of_squares(candidate_array[x].nodes,candidates_array[2].centers,candidates_array[2].labels):\n",
    "            New_candidate[x] = Trial_candidate[x]\n",
    "            print(\"sakjfnr\")\n",
    "        else:\n",
    "            New_candidate[x] = candidate_array[x]\n",
    "        #print(Trial_candidate[x].centers)\n",
    "        #print(candidate_array[x].centers)\n",
    "        #print(New_candidate[x].centers)\n",
    "        #print(Mutant_candidate[x].centers)\n",
    "        print(\"###########################################################################################################\")\n",
    "        Trial_candidate[x].each_fitness = each_fitness(Trial_candidate[x])\n",
    "        print(Trial_candidate[x].each_fitness)\n",
    "        candidate_array[x].each_fitness = each_fitness(candidate_array[x])\n",
    "        print(candidate_array[x].each_fitness)\n",
    "        print(\"###########################################################################################################\")\n",
    "        \n",
    "    return New_candidate\n",
    "#print(candidates_array[1].fitness)\n",
    "#for i in range(0,3500):\n",
    "New_candidates_array = mutation(candidates_array,mutation_random)\n",
    "    #if New_candidates_array[1].fitness != candidates_array[1].fitness:\n",
    "     #   print(New_candidates_array[1].fitness)#never happen"
   ]
  },
  {
   "cell_type": "markdown",
   "metadata": {},
   "source": [
    "# Probability Equation"
   ]
  },
  {
   "cell_type": "code",
   "execution_count": 47,
   "metadata": {},
   "outputs": [],
   "source": [
    "def probability(candidates):\n",
    "    for c in range(0,len(candidates)):\n",
    "        temp_array = []\n",
    "        for clusters in range(0,len(candidates[c].centers)):\n",
    "            temp_array.append((1/np.sum(candidates[c].each_fitness[clusters]))/(np.sum(1/(np.sum(x.each_fitness[clusters])) for x in candidates)))\n",
    "        print(temp_array)    \n",
    "        candidates[c].probability = temp_array\n",
    "    return"
   ]
  },
  {
   "cell_type": "markdown",
   "metadata": {},
   "source": [
    "### Roulette Wheel Selection\n",
    "This is a logic for selecting targets with higher probability.<br>\n",
    "In this article, each candidate want to follow the other candidate with higher fitness. So in the previous section <strong><em>Probability Equation<strong><em>, we calculated all probabilities of candidates based on their fitnesses."
   ]
  },
  {
   "cell_type": "code",
   "execution_count": 48,
   "metadata": {},
   "outputs": [],
   "source": [
    "def roulette_wheel_selection(inertia_array):\n",
    "    maximum = np.sum(inertia_array)\n",
    "    pick = random.uniform(0, maximum)\n",
    "    current = 0\n",
    "    for fitness in inertia_array:\n",
    "        current += fitness\n",
    "        if current > pick:\n",
    "            return fitness"
   ]
  },
  {
   "cell_type": "code",
   "execution_count": 49,
   "metadata": {},
   "outputs": [
    {
     "name": "stdout",
     "output_type": "stream",
     "text": [
      "[[[-2.1317098070406173, 2.327596716693815], [-2.539834954859721, 1.7752317860201188], [-3.3146773611370715, 3.179035767689012], [-3.061722276436061, 2.472530131453211], [-3.099587352686193, 3.037058618210886], [-1.6326294840855602, 2.781793931443605], [-1.61957609584806, 2.9012860548379478], [-2.4866706392209106, 1.5704347137895789], [-2.3000659408947377, 2.9763354172188383], [-2.6909846492732905, 2.125249541023684], [-2.0491934540883143, 3.0774118352148463], [-1.1882962813481468, 2.4748741602562423], [-1.8437650228920117, 2.3976621875573527]], [[-3.396506754838916, 1.0627997688955166], [-2.538455213358157, 1.7766115275216832], [-4.250309251418983, 2.2434038774071], [-3.1199441999410156, 2.4143082079482565], [-0.38207102096848455, 5.754574949928594], [-2.3499992528146927, 2.0644241627144724], [-2.4966339876916117, 2.024228162994396], [-3.026543645480499, 1.0305617075299902], [-0.6318871729247251, 4.644514185188851], [-3.363270497793129, 1.4529636925038454], [-2.2011253688729693, 2.9254799204301913], [-1.8254910855090085, 1.8376793560953806], [-2.21145020827784, 2.0299770021715244]], [[-2.302632118119744, 2.1566744056146883], [-1.4930229037948473, 2.8220438370849927], [-3.0569810339326606, 3.436732094893423], [-2.250503653036085, 3.283748754853187], [-3.223010803305981, 2.9136351675910976], [-3.1509185144120266, 1.2635049011171384], [-3.30706681724625, 1.2137953334397578], [-1.1906035254565026, 2.8665018275539866], [-3.3543563598592767, 1.9220449982542993], [-1.8646484357838413, 2.951585754513133], [-3.4453746286473605, 1.6812306606558], [-2.9009033152253183, 0.7622671263790706], [-2.5738945879425685, 1.6675326225067957]]]\n"
     ]
    }
   ],
   "source": [
    "def shrinked_sampling_interval(candidates_array):\n",
    "    for i in range(0,len(candidates_array)):\n",
    "        shrinked_sampling_interval = []\n",
    "        for j in range(0,len(candidates_array[i].centers)):\n",
    "            Second_layer = []\n",
    "            for k in range(0,len(candidates_array[i].centers[j])):\n",
    "                Third_layer = []\n",
    "                Temp = abs(candidates_array[i].sampling_interval[0][k] - candidates_array[i].sampling_interval[1][k]) * sampling_interval_reduction_factor\n",
    "                Third_layer.append(candidates_array[i].centers[j][k] - (Temp/2))\n",
    "                Third_layer.append(candidates_array[i].centers[j][k] + (Temp/2))\n",
    "                Second_layer.append(Third_layer)\n",
    "            shrinked_sampling_interval.append(Second_layer)\n",
    "        candidates_array[i].sampling_interval = shrinked_sampling_interval\n",
    "    return\n",
    "shrinked_sampling_interval(New_candidates_array)\n",
    "print(New_candidates_array[0].sampling_interval)"
   ]
  },
  {
   "cell_type": "code",
   "execution_count": 50,
   "metadata": {},
   "outputs": [
    {
     "name": "stdout",
     "output_type": "stream",
     "text": [
      "[[-0.46903516677587254, -1.1837475039616863, 2.34278124795549, -0.8597142499404502, 2.8932116220492716, -1.992337439558609, -2.473283336818527, 1.1609910320135577, -0.7341487809951919, 2.498415217209172, -2.0307966261592947, -2.77808540607671, -1.966656781169545], [0.6621387651092507, 0.6989864324675721, -1.1724177548936363, -2.523258801741272, -2.795913548873211, -1.8295704151498788, 1.4678991593546171, -0.6563145082180608, 2.2082129621371727, 0.49143743191380107, -1.2307635874840845, -0.14877817089986856, 1.0555785952179306], [2.379687225117771, 0.25983939877249584, 0.7003250862619899, -2.587472417790643, -0.7584476932537179, 1.9996916405647445, 2.4447719909681114, 0.6957747277626285, -0.4234262653079186, -0.7690301198507956, -2.029062304222498, -0.688552751817554, 1.6263085882337884]]\n"
     ]
    }
   ],
   "source": [
    "def variation(candidates_array):\n",
    "    for candidate in candidates_array:\n",
    "        variations = []\n",
    "        for i in range(0,variations_count):\n",
    "            Second_layer = []\n",
    "            for j in candidate.sampling_interval:\n",
    "                Third_layer = []\n",
    "                for k in range(0,len(j)):\n",
    "                    #print(k)\n",
    "                    Third_layer.append(random.uniform(j[k][0],j[k][1]))\n",
    "                Second_layer.append(Third_layer)\n",
    "            variations.append(Second_layer)\n",
    "        candidate.variation = variations    \n",
    "variation(New_candidates_array)\n",
    "print(New_candidates_array[3].variation[1])"
   ]
  },
  {
   "cell_type": "code",
   "execution_count": null,
   "metadata": {},
   "outputs": [],
   "source": []
  }
 ],
 "metadata": {
  "kernelspec": {
   "display_name": "Python 3",
   "language": "python",
   "name": "python3"
  },
  "language_info": {
   "codemirror_mode": {
    "name": "ipython",
    "version": 3
   },
   "file_extension": ".py",
   "mimetype": "text/x-python",
   "name": "python",
   "nbconvert_exporter": "python",
   "pygments_lexer": "ipython3",
   "version": "3.6.6"
  }
 },
 "nbformat": 4,
 "nbformat_minor": 2
}
