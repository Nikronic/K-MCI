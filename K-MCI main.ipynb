{
 "cells": [
  {
   "cell_type": "markdown",
   "metadata": {},
   "source": [
    "# K-MCI\n",
    "### Intro\n",
    "In this notebook we have the main algorithm of the article. All necessary functions are implemented in function.py file.<br>\n",
    "This document have blow sections:<br>\n",
    "1. Importing Libraries & classes\n",
    "2. Reading datasets\n",
    "3. Preprocessing datasets\n",
    "4. Main Algorithm"
   ]
  },
  {
   "cell_type": "markdown",
   "metadata": {},
   "source": [
    "### Importing Libraries & classes\n",
    "We import some libraries from third party."
   ]
  },
  {
   "cell_type": "code",
   "execution_count": 115,
   "metadata": {},
   "outputs": [],
   "source": [
    "import pandas as pd\n",
    "import numpy as np\n",
    "from sklearn.cluster import KMeans\n",
    "import random\n",
    "import copy"
   ]
  },
  {
   "cell_type": "code",
   "execution_count": 116,
   "metadata": {},
   "outputs": [],
   "source": [
    "# defnition of Candidate class\n",
    "class Candidate:    \n",
    "    def __init__(self,nodes,sampling_interval,fitness=-1):\n",
    "        self.nodes = nodes\n",
    "        self.sampling_interval = sampling_interval \n",
    "        self.variation = []\n",
    "        self.random_number\n",
    "        self.fitness = fitness\n",
    "        self.centers = []\n",
    "        self.probability = []\n",
    "        self.labels = []\n",
    "        self.each_fitness = []\n",
    "        \n",
    "    def random_number(self):\n",
    "        self.random_number = random.random()\n",
    "        \n",
    "    def describe(self):\n",
    "        print(\"Candidate with #{} nodes, #{} centers, fitness={}\\n clusters:\\n{} \\n Centers:\\n{}\\n sampling_interval:\\n{}\"\n",
    "              .format(len(self.nodes),len(self.centers),self.fitness,self.nodes[np.random.randint(self.nodes.shape[0], size=5), :],self.centers,self.sampling_interval))"
   ]
  },
  {
   "cell_type": "markdown",
   "metadata": {},
   "source": [
    "### Reading Datasets and Preprocessing\n",
    "We show the structure of our data for all of datasets.<br>\n",
    "We have these datasets from UCI Machine Learning Repository:\n",
    "1. Breast Cancer Wisconsin\n",
    "2. Contraceptive Method Choice data\n",
    "3. Glass\n",
    "4. Iris\n",
    "5. Vowel\n",
    "6. Wine"
   ]
  },
  {
   "cell_type": "code",
   "execution_count": 117,
   "metadata": {},
   "outputs": [],
   "source": [
    "\"\"\" In this cell we have some code which will do preprocessing for us on all datasets \"\"\"\n",
    "\"\"\" the resourses of these datasets are mentioned in README.md file. \"\"\"\n",
    "\n",
    "path = 'datasets/' \n",
    "# because we are using local files, you need to download datasets and change the \"path\" variable\n",
    "# local folder of your downloaded datasets\n",
    "\n",
    "\n",
    "def bcw(): \n",
    "    # importing dataset\n",
    "    dataset = pd.read_csv(path+'bcw.csv',\n",
    "                          names = ['Sample code number','Clump Thickness','Uniformity of Cell Size',\n",
    "                                   'Uniformity of Cell Shape','Marginal Adhesion','Single Epithelial',\n",
    "                                   'Bare Nuclei','Bland Chromatin','Normal Nucleoli','Mitoses','Class'])\n",
    "    dataset= dataset.replace(to_replace='?',value=np.nan)\n",
    "    dataset = dataset.dropna(axis =0) # resolving missing values\n",
    "    dataset = dataset.astype('int64') # casting string valued column to int64\n",
    "    x = dataset.iloc[:,:-1].values # features\n",
    "    y = dataset.iloc[:,-1].values # target values\n",
    "    return (x,y,dataset)\n",
    "\n",
    "\n",
    "def cmc():\n",
    "    # importing dataset\n",
    "    dataset = pd.read_csv(path+'cmc.csv', names=[\"Wife's age\",\"Wife's education\",\"Husband's education\",\n",
    "                                                 \"Number of children ever born\",\"Wife's religion\",\n",
    "                                                 \"Wife's now working?\",\"Husband's occupation\",\n",
    "                                                 \"Standard-of-living index\",\"Media exposure\",\"Contraceptive method used\"])\n",
    "    x = dataset.iloc[:,:-1].values # features\n",
    "    y = dataset.iloc[:,-1].values # target values\n",
    "    return (x,y,dataset)\n",
    "\n",
    "\n",
    "def glass():\n",
    "    # importing dataset\n",
    "    dataset = pd.read_csv(path+'glass.csv', names= ['Id','refractive index','Sodium','Magnesium','Aluminum','Silicon','Potassium'\n",
    "                                                    ,'Calcium','Barium','Iron','glass'])\n",
    "    x = dataset.iloc[:,1:10].values # features\n",
    "    y = dataset.iloc[:,-1].values # target values\n",
    "    return (x,y,dataset)\n",
    "\n",
    "\n",
    "def iris():\n",
    "    # importing dataset\n",
    "    dataset = pd.read_csv(path+'iris.csv', names= ['sepal length','sepal width','petal length','petal width','class'])\n",
    "    x = dataset.iloc[:,:-1].values # features\n",
    "    y = dataset.iloc[:,-1].values # target values\n",
    "    \n",
    "    # encoding categorial data types to labelEncoder\n",
    "    from sklearn.preprocessing import LabelEncoder\n",
    "    labelencoder_y = LabelEncoder()\n",
    "    labelencoder_y = labelencoder_y.fit(y)\n",
    "    y = labelencoder_y.transform(y)  # 0 for 'Iris-setosa', 1 for 'Iris-versicolor', 2 for 'Iris-virginica'\n",
    "    return (x,y,dataset)\n",
    "\n",
    "\n",
    "def vowel():\n",
    "    # importing dataset\n",
    "    dataset = pd.read_csv(path+'vowel.csv', names= ['vowel','type 1 frq','type 2 frq','type 3 frq'])\n",
    "    x = dataset.iloc[:,1:].values # features\n",
    "    y = dataset.iloc[:,0].values # target values\n",
    "    return (x,y,dataset)\n",
    "\n",
    "def wine():\n",
    "    # importing dataset\n",
    "    dataset = pd.read_csv(path+'wine.csv', names= ['class','Alcohol','Malic acid','Ash','Alcalinity of ash','Magnesium','Total phenols','Flavanoids','Nonflavanoid phenols','Proanthocyanins','Color intensity','Hue','OD280/OD315','Proline'])\n",
    "    x = dataset.iloc[:,1:].values # features\n",
    "    y = dataset.iloc[:,0].values # target values\n",
    "    return (x,y,dataset)"
   ]
  },
  {
   "cell_type": "code",
   "execution_count": 118,
   "metadata": {
    "scrolled": true
   },
   "outputs": [],
   "source": [
    "# Getting data from our preprocessing class Datasets\n",
    "x_bcw, y_bcw, df_bcw = bcw()\n",
    "x_cmc, y_cmc, df_cmc = cmc()\n",
    "x_glass, y_glass, df_glass = glass()\n",
    "x_iris, y_iris, df_iris = iris()\n",
    "x_vowel, y_vowel, df_vowel = vowel()\n",
    "x_wine, y_wine, df_wine = wine()"
   ]
  },
  {
   "cell_type": "code",
   "execution_count": 119,
   "metadata": {},
   "outputs": [
    {
     "data": {
      "text/html": [
       "<div>\n",
       "<style scoped>\n",
       "    .dataframe tbody tr th:only-of-type {\n",
       "        vertical-align: middle;\n",
       "    }\n",
       "\n",
       "    .dataframe tbody tr th {\n",
       "        vertical-align: top;\n",
       "    }\n",
       "\n",
       "    .dataframe thead th {\n",
       "        text-align: right;\n",
       "    }\n",
       "</style>\n",
       "<table border=\"1\" class=\"dataframe\">\n",
       "  <thead>\n",
       "    <tr style=\"text-align: right;\">\n",
       "      <th></th>\n",
       "      <th>Sample code number</th>\n",
       "      <th>Clump Thickness</th>\n",
       "      <th>Uniformity of Cell Size</th>\n",
       "      <th>Uniformity of Cell Shape</th>\n",
       "      <th>Marginal Adhesion</th>\n",
       "      <th>Single Epithelial</th>\n",
       "      <th>Bare Nuclei</th>\n",
       "      <th>Bland Chromatin</th>\n",
       "      <th>Normal Nucleoli</th>\n",
       "      <th>Mitoses</th>\n",
       "      <th>Class</th>\n",
       "    </tr>\n",
       "  </thead>\n",
       "  <tbody>\n",
       "    <tr>\n",
       "      <th>0</th>\n",
       "      <td>1000025</td>\n",
       "      <td>5</td>\n",
       "      <td>1</td>\n",
       "      <td>1</td>\n",
       "      <td>1</td>\n",
       "      <td>2</td>\n",
       "      <td>1</td>\n",
       "      <td>3</td>\n",
       "      <td>1</td>\n",
       "      <td>1</td>\n",
       "      <td>2</td>\n",
       "    </tr>\n",
       "    <tr>\n",
       "      <th>1</th>\n",
       "      <td>1002945</td>\n",
       "      <td>5</td>\n",
       "      <td>4</td>\n",
       "      <td>4</td>\n",
       "      <td>5</td>\n",
       "      <td>7</td>\n",
       "      <td>10</td>\n",
       "      <td>3</td>\n",
       "      <td>2</td>\n",
       "      <td>1</td>\n",
       "      <td>2</td>\n",
       "    </tr>\n",
       "    <tr>\n",
       "      <th>2</th>\n",
       "      <td>1015425</td>\n",
       "      <td>3</td>\n",
       "      <td>1</td>\n",
       "      <td>1</td>\n",
       "      <td>1</td>\n",
       "      <td>2</td>\n",
       "      <td>2</td>\n",
       "      <td>3</td>\n",
       "      <td>1</td>\n",
       "      <td>1</td>\n",
       "      <td>2</td>\n",
       "    </tr>\n",
       "  </tbody>\n",
       "</table>\n",
       "</div>"
      ],
      "text/plain": [
       "   Sample code number  Clump Thickness  Uniformity of Cell Size  \\\n",
       "0             1000025                5                        1   \n",
       "1             1002945                5                        4   \n",
       "2             1015425                3                        1   \n",
       "\n",
       "   Uniformity of Cell Shape  Marginal Adhesion  Single Epithelial  \\\n",
       "0                         1                  1                  2   \n",
       "1                         4                  5                  7   \n",
       "2                         1                  1                  2   \n",
       "\n",
       "   Bare Nuclei  Bland Chromatin  Normal Nucleoli  Mitoses  Class  \n",
       "0            1                3                1        1      2  \n",
       "1           10                3                2        1      2  \n",
       "2            2                3                1        1      2  "
      ]
     },
     "execution_count": 119,
     "metadata": {},
     "output_type": "execute_result"
    }
   ],
   "source": [
    "# Showing dataset of Breast Cancer Wisconsin\n",
    "df_bcw.head(3)"
   ]
  },
  {
   "cell_type": "code",
   "execution_count": 120,
   "metadata": {},
   "outputs": [
    {
     "data": {
      "text/html": [
       "<div>\n",
       "<style scoped>\n",
       "    .dataframe tbody tr th:only-of-type {\n",
       "        vertical-align: middle;\n",
       "    }\n",
       "\n",
       "    .dataframe tbody tr th {\n",
       "        vertical-align: top;\n",
       "    }\n",
       "\n",
       "    .dataframe thead th {\n",
       "        text-align: right;\n",
       "    }\n",
       "</style>\n",
       "<table border=\"1\" class=\"dataframe\">\n",
       "  <thead>\n",
       "    <tr style=\"text-align: right;\">\n",
       "      <th></th>\n",
       "      <th>Wife's age</th>\n",
       "      <th>Wife's education</th>\n",
       "      <th>Husband's education</th>\n",
       "      <th>Number of children ever born</th>\n",
       "      <th>Wife's religion</th>\n",
       "      <th>Wife's now working?</th>\n",
       "      <th>Husband's occupation</th>\n",
       "      <th>Standard-of-living index</th>\n",
       "      <th>Media exposure</th>\n",
       "      <th>Contraceptive method used</th>\n",
       "    </tr>\n",
       "  </thead>\n",
       "  <tbody>\n",
       "    <tr>\n",
       "      <th>0</th>\n",
       "      <td>24</td>\n",
       "      <td>2</td>\n",
       "      <td>3</td>\n",
       "      <td>3</td>\n",
       "      <td>1</td>\n",
       "      <td>1</td>\n",
       "      <td>2</td>\n",
       "      <td>3</td>\n",
       "      <td>0</td>\n",
       "      <td>1</td>\n",
       "    </tr>\n",
       "    <tr>\n",
       "      <th>1</th>\n",
       "      <td>45</td>\n",
       "      <td>1</td>\n",
       "      <td>3</td>\n",
       "      <td>10</td>\n",
       "      <td>1</td>\n",
       "      <td>1</td>\n",
       "      <td>3</td>\n",
       "      <td>4</td>\n",
       "      <td>0</td>\n",
       "      <td>1</td>\n",
       "    </tr>\n",
       "    <tr>\n",
       "      <th>2</th>\n",
       "      <td>43</td>\n",
       "      <td>2</td>\n",
       "      <td>3</td>\n",
       "      <td>7</td>\n",
       "      <td>1</td>\n",
       "      <td>1</td>\n",
       "      <td>3</td>\n",
       "      <td>4</td>\n",
       "      <td>0</td>\n",
       "      <td>1</td>\n",
       "    </tr>\n",
       "  </tbody>\n",
       "</table>\n",
       "</div>"
      ],
      "text/plain": [
       "   Wife's age  Wife's education  Husband's education  \\\n",
       "0          24                 2                    3   \n",
       "1          45                 1                    3   \n",
       "2          43                 2                    3   \n",
       "\n",
       "   Number of children ever born  Wife's religion  Wife's now working?  \\\n",
       "0                             3                1                    1   \n",
       "1                            10                1                    1   \n",
       "2                             7                1                    1   \n",
       "\n",
       "   Husband's occupation  Standard-of-living index  Media exposure  \\\n",
       "0                     2                         3               0   \n",
       "1                     3                         4               0   \n",
       "2                     3                         4               0   \n",
       "\n",
       "   Contraceptive method used  \n",
       "0                          1  \n",
       "1                          1  \n",
       "2                          1  "
      ]
     },
     "execution_count": 120,
     "metadata": {},
     "output_type": "execute_result"
    }
   ],
   "source": [
    "# Showing dataset of Contraceptive Method Choice data\n",
    "df_cmc.head(3)"
   ]
  },
  {
   "cell_type": "code",
   "execution_count": 121,
   "metadata": {},
   "outputs": [
    {
     "data": {
      "text/html": [
       "<div>\n",
       "<style scoped>\n",
       "    .dataframe tbody tr th:only-of-type {\n",
       "        vertical-align: middle;\n",
       "    }\n",
       "\n",
       "    .dataframe tbody tr th {\n",
       "        vertical-align: top;\n",
       "    }\n",
       "\n",
       "    .dataframe thead th {\n",
       "        text-align: right;\n",
       "    }\n",
       "</style>\n",
       "<table border=\"1\" class=\"dataframe\">\n",
       "  <thead>\n",
       "    <tr style=\"text-align: right;\">\n",
       "      <th></th>\n",
       "      <th>Id</th>\n",
       "      <th>refractive index</th>\n",
       "      <th>Sodium</th>\n",
       "      <th>Magnesium</th>\n",
       "      <th>Aluminum</th>\n",
       "      <th>Silicon</th>\n",
       "      <th>Potassium</th>\n",
       "      <th>Calcium</th>\n",
       "      <th>Barium</th>\n",
       "      <th>Iron</th>\n",
       "      <th>glass</th>\n",
       "    </tr>\n",
       "  </thead>\n",
       "  <tbody>\n",
       "    <tr>\n",
       "      <th>0</th>\n",
       "      <td>1</td>\n",
       "      <td>1.52101</td>\n",
       "      <td>13.64</td>\n",
       "      <td>4.49</td>\n",
       "      <td>1.10</td>\n",
       "      <td>71.78</td>\n",
       "      <td>0.06</td>\n",
       "      <td>8.75</td>\n",
       "      <td>0.0</td>\n",
       "      <td>0.0</td>\n",
       "      <td>1</td>\n",
       "    </tr>\n",
       "    <tr>\n",
       "      <th>1</th>\n",
       "      <td>2</td>\n",
       "      <td>1.51761</td>\n",
       "      <td>13.89</td>\n",
       "      <td>3.60</td>\n",
       "      <td>1.36</td>\n",
       "      <td>72.73</td>\n",
       "      <td>0.48</td>\n",
       "      <td>7.83</td>\n",
       "      <td>0.0</td>\n",
       "      <td>0.0</td>\n",
       "      <td>1</td>\n",
       "    </tr>\n",
       "    <tr>\n",
       "      <th>2</th>\n",
       "      <td>3</td>\n",
       "      <td>1.51618</td>\n",
       "      <td>13.53</td>\n",
       "      <td>3.55</td>\n",
       "      <td>1.54</td>\n",
       "      <td>72.99</td>\n",
       "      <td>0.39</td>\n",
       "      <td>7.78</td>\n",
       "      <td>0.0</td>\n",
       "      <td>0.0</td>\n",
       "      <td>1</td>\n",
       "    </tr>\n",
       "  </tbody>\n",
       "</table>\n",
       "</div>"
      ],
      "text/plain": [
       "   Id  refractive index  Sodium  Magnesium  Aluminum  Silicon  Potassium  \\\n",
       "0   1           1.52101   13.64       4.49      1.10    71.78       0.06   \n",
       "1   2           1.51761   13.89       3.60      1.36    72.73       0.48   \n",
       "2   3           1.51618   13.53       3.55      1.54    72.99       0.39   \n",
       "\n",
       "   Calcium  Barium  Iron  glass  \n",
       "0     8.75     0.0   0.0      1  \n",
       "1     7.83     0.0   0.0      1  \n",
       "2     7.78     0.0   0.0      1  "
      ]
     },
     "execution_count": 121,
     "metadata": {},
     "output_type": "execute_result"
    }
   ],
   "source": [
    "# Showing dataset of Glass\n",
    "df_glass.head(3)"
   ]
  },
  {
   "cell_type": "code",
   "execution_count": 122,
   "metadata": {},
   "outputs": [
    {
     "data": {
      "text/html": [
       "<div>\n",
       "<style scoped>\n",
       "    .dataframe tbody tr th:only-of-type {\n",
       "        vertical-align: middle;\n",
       "    }\n",
       "\n",
       "    .dataframe tbody tr th {\n",
       "        vertical-align: top;\n",
       "    }\n",
       "\n",
       "    .dataframe thead th {\n",
       "        text-align: right;\n",
       "    }\n",
       "</style>\n",
       "<table border=\"1\" class=\"dataframe\">\n",
       "  <thead>\n",
       "    <tr style=\"text-align: right;\">\n",
       "      <th></th>\n",
       "      <th>sepal length</th>\n",
       "      <th>sepal width</th>\n",
       "      <th>petal length</th>\n",
       "      <th>petal width</th>\n",
       "      <th>class</th>\n",
       "    </tr>\n",
       "  </thead>\n",
       "  <tbody>\n",
       "    <tr>\n",
       "      <th>0</th>\n",
       "      <td>5.1</td>\n",
       "      <td>3.5</td>\n",
       "      <td>1.4</td>\n",
       "      <td>0.2</td>\n",
       "      <td>Iris-setosa</td>\n",
       "    </tr>\n",
       "    <tr>\n",
       "      <th>1</th>\n",
       "      <td>4.9</td>\n",
       "      <td>3.0</td>\n",
       "      <td>1.4</td>\n",
       "      <td>0.2</td>\n",
       "      <td>Iris-setosa</td>\n",
       "    </tr>\n",
       "    <tr>\n",
       "      <th>2</th>\n",
       "      <td>4.7</td>\n",
       "      <td>3.2</td>\n",
       "      <td>1.3</td>\n",
       "      <td>0.2</td>\n",
       "      <td>Iris-setosa</td>\n",
       "    </tr>\n",
       "  </tbody>\n",
       "</table>\n",
       "</div>"
      ],
      "text/plain": [
       "   sepal length  sepal width  petal length  petal width        class\n",
       "0           5.1          3.5           1.4          0.2  Iris-setosa\n",
       "1           4.9          3.0           1.4          0.2  Iris-setosa\n",
       "2           4.7          3.2           1.3          0.2  Iris-setosa"
      ]
     },
     "execution_count": 122,
     "metadata": {},
     "output_type": "execute_result"
    }
   ],
   "source": [
    "# Showing dataset of Iris\n",
    "df_iris.head(3)"
   ]
  },
  {
   "cell_type": "code",
   "execution_count": 123,
   "metadata": {},
   "outputs": [
    {
     "data": {
      "text/html": [
       "<div>\n",
       "<style scoped>\n",
       "    .dataframe tbody tr th:only-of-type {\n",
       "        vertical-align: middle;\n",
       "    }\n",
       "\n",
       "    .dataframe tbody tr th {\n",
       "        vertical-align: top;\n",
       "    }\n",
       "\n",
       "    .dataframe thead th {\n",
       "        text-align: right;\n",
       "    }\n",
       "</style>\n",
       "<table border=\"1\" class=\"dataframe\">\n",
       "  <thead>\n",
       "    <tr style=\"text-align: right;\">\n",
       "      <th></th>\n",
       "      <th>vowel</th>\n",
       "      <th>type 1 frq</th>\n",
       "      <th>type 2 frq</th>\n",
       "      <th>type 3 frq</th>\n",
       "    </tr>\n",
       "  </thead>\n",
       "  <tbody>\n",
       "    <tr>\n",
       "      <th>0</th>\n",
       "      <td>1</td>\n",
       "      <td>700</td>\n",
       "      <td>1500</td>\n",
       "      <td>2600</td>\n",
       "    </tr>\n",
       "    <tr>\n",
       "      <th>1</th>\n",
       "      <td>1</td>\n",
       "      <td>550</td>\n",
       "      <td>1550</td>\n",
       "      <td>2400</td>\n",
       "    </tr>\n",
       "    <tr>\n",
       "      <th>2</th>\n",
       "      <td>1</td>\n",
       "      <td>700</td>\n",
       "      <td>1500</td>\n",
       "      <td>2600</td>\n",
       "    </tr>\n",
       "  </tbody>\n",
       "</table>\n",
       "</div>"
      ],
      "text/plain": [
       "   vowel  type 1 frq  type 2 frq  type 3 frq\n",
       "0      1         700        1500        2600\n",
       "1      1         550        1550        2400\n",
       "2      1         700        1500        2600"
      ]
     },
     "execution_count": 123,
     "metadata": {},
     "output_type": "execute_result"
    }
   ],
   "source": [
    "# Showing dataset of Vowel\n",
    "df_vowel.head(3)"
   ]
  },
  {
   "cell_type": "code",
   "execution_count": 124,
   "metadata": {
    "scrolled": false
   },
   "outputs": [
    {
     "data": {
      "text/html": [
       "<div>\n",
       "<style scoped>\n",
       "    .dataframe tbody tr th:only-of-type {\n",
       "        vertical-align: middle;\n",
       "    }\n",
       "\n",
       "    .dataframe tbody tr th {\n",
       "        vertical-align: top;\n",
       "    }\n",
       "\n",
       "    .dataframe thead th {\n",
       "        text-align: right;\n",
       "    }\n",
       "</style>\n",
       "<table border=\"1\" class=\"dataframe\">\n",
       "  <thead>\n",
       "    <tr style=\"text-align: right;\">\n",
       "      <th></th>\n",
       "      <th>class</th>\n",
       "      <th>Alcohol</th>\n",
       "      <th>Malic acid</th>\n",
       "      <th>Ash</th>\n",
       "      <th>Alcalinity of ash</th>\n",
       "      <th>Magnesium</th>\n",
       "      <th>Total phenols</th>\n",
       "      <th>Flavanoids</th>\n",
       "      <th>Nonflavanoid phenols</th>\n",
       "      <th>Proanthocyanins</th>\n",
       "      <th>Color intensity</th>\n",
       "      <th>Hue</th>\n",
       "      <th>OD280/OD315</th>\n",
       "      <th>Proline</th>\n",
       "    </tr>\n",
       "  </thead>\n",
       "  <tbody>\n",
       "    <tr>\n",
       "      <th>0</th>\n",
       "      <td>1</td>\n",
       "      <td>14.23</td>\n",
       "      <td>1.71</td>\n",
       "      <td>2.43</td>\n",
       "      <td>15.6</td>\n",
       "      <td>127</td>\n",
       "      <td>2.80</td>\n",
       "      <td>3.06</td>\n",
       "      <td>0.28</td>\n",
       "      <td>2.29</td>\n",
       "      <td>5.64</td>\n",
       "      <td>1.04</td>\n",
       "      <td>3.92</td>\n",
       "      <td>1065</td>\n",
       "    </tr>\n",
       "    <tr>\n",
       "      <th>1</th>\n",
       "      <td>1</td>\n",
       "      <td>13.20</td>\n",
       "      <td>1.78</td>\n",
       "      <td>2.14</td>\n",
       "      <td>11.2</td>\n",
       "      <td>100</td>\n",
       "      <td>2.65</td>\n",
       "      <td>2.76</td>\n",
       "      <td>0.26</td>\n",
       "      <td>1.28</td>\n",
       "      <td>4.38</td>\n",
       "      <td>1.05</td>\n",
       "      <td>3.40</td>\n",
       "      <td>1050</td>\n",
       "    </tr>\n",
       "    <tr>\n",
       "      <th>2</th>\n",
       "      <td>1</td>\n",
       "      <td>13.16</td>\n",
       "      <td>2.36</td>\n",
       "      <td>2.67</td>\n",
       "      <td>18.6</td>\n",
       "      <td>101</td>\n",
       "      <td>2.80</td>\n",
       "      <td>3.24</td>\n",
       "      <td>0.30</td>\n",
       "      <td>2.81</td>\n",
       "      <td>5.68</td>\n",
       "      <td>1.03</td>\n",
       "      <td>3.17</td>\n",
       "      <td>1185</td>\n",
       "    </tr>\n",
       "  </tbody>\n",
       "</table>\n",
       "</div>"
      ],
      "text/plain": [
       "   class  Alcohol  Malic acid   Ash  Alcalinity of ash  Magnesium  \\\n",
       "0      1    14.23        1.71  2.43               15.6        127   \n",
       "1      1    13.20        1.78  2.14               11.2        100   \n",
       "2      1    13.16        2.36  2.67               18.6        101   \n",
       "\n",
       "   Total phenols  Flavanoids  Nonflavanoid phenols  Proanthocyanins  \\\n",
       "0           2.80        3.06                  0.28             2.29   \n",
       "1           2.65        2.76                  0.26             1.28   \n",
       "2           2.80        3.24                  0.30             2.81   \n",
       "\n",
       "   Color intensity   Hue  OD280/OD315  Proline  \n",
       "0             5.64  1.04         3.92     1065  \n",
       "1             4.38  1.05         3.40     1050  \n",
       "2             5.68  1.03         3.17     1185  "
      ]
     },
     "execution_count": 124,
     "metadata": {},
     "output_type": "execute_result"
    }
   ],
   "source": [
    "# Showing dataset of Wine\n",
    "df_wine.head(3)"
   ]
  },
  {
   "cell_type": "markdown",
   "metadata": {},
   "source": [
    "# Main Algorithm \n",
    "\n",
    "The implementation of main algorithm have below sections:\n",
    "1. <Strong>Initializing Parameters and Candidates</Strong>\n",
    "    1. Sampling Interval\n",
    "    2. Apply Random Centers to Candidates\n",
    "    3. Visualizing Candidates\n",
    "2. <Strong>Running Kmean to Exploit</Strong>\n",
    "    1. K-means Algorithm\n",
    "    2. Visualizing Candidates\n",
    "3. <Strong>Mutation Algorithm</Strong>\n",
    "    1. Fitness over Mutated Candidate\n",
    "    2. Probablility Equation\n",
    "    3. Mutation Logic\n",
    "\n",
    "**Extra details will be explain in other next sections**\n"
   ]
  },
  {
   "cell_type": "markdown",
   "metadata": {},
   "source": [
    "## Initializing Parameters and Candidates\n",
    "In this step, we initialize our algorithm. There are some parameters which are important to convergance speed and quality of solution. So we initialize them here based on the paper.<br>\n",
    "Each time you want to run K-MCI algorithm, you should first do this initialization.<br>"
   ]
  },
  {
   "cell_type": "code",
   "execution_count": 125,
   "metadata": {},
   "outputs": [],
   "source": [
    "# notice: this values related to IRIS dataset\n",
    "candidates_array = [] # the array of all candidates\n",
    "number_of_candidates = 5\n",
    "sampling_interval_reduction_factor = 0.95\n",
    "convergence_parameter = None # what is this in paper???\n",
    "mutation_random = 0.7\n",
    "iterations_count = 3500 # is this NFE in the article??? see table 2\n",
    "variations_count = 15\n",
    "number_of_clusters = 3 # in this article number of clusters are predefined"
   ]
  },
  {
   "cell_type": "markdown",
   "metadata": {},
   "source": [
    "## Sampling Interval\n",
    "this function use for making sampling_interval\n"
   ]
  },
  {
   "cell_type": "code",
   "execution_count": 126,
   "metadata": {},
   "outputs": [],
   "source": [
    "def sampling_intervals(input_array):\n",
    "    Maxes = np.amax(input_array,axis=0)\n",
    "    Mins  = np.amin(input_array,axis=0)\n",
    "    return (Maxes,Mins)"
   ]
  },
  {
   "cell_type": "code",
   "execution_count": 127,
   "metadata": {},
   "outputs": [],
   "source": [
    "# initializing candidates\n",
    "for i in range(0 ,number_of_candidates):\n",
    "    candidates_array.append(Candidate(x_iris,sampling_interval = sampling_intervals(x_iris)))"
   ]
  },
  {
   "cell_type": "markdown",
   "metadata": {},
   "source": [
    "## Visualizing Candidates\n",
    "some parameters are uninitialized. They will have value after running Kmean and Cohort and mutations."
   ]
  },
  {
   "cell_type": "code",
   "execution_count": 128,
   "metadata": {
    "scrolled": false
   },
   "outputs": [
    {
     "name": "stdout",
     "output_type": "stream",
     "text": [
      "Candidate with #150 nodes, #0 centers, fitness=-1\n",
      " clusters:\n",
      "[[6.7 3.  5.  1.7]\n",
      " [6.7 3.1 4.4 1.4]\n",
      " [5.5 2.4 3.7 1. ]\n",
      " [6.4 2.8 5.6 2.2]\n",
      " [4.9 2.4 3.3 1. ]] \n",
      " Centers:\n",
      "[]\n",
      " sampling_interval:\n",
      "(array([7.9, 4.4, 6.9, 2.5]), array([4.3, 2. , 1. , 0.1]))\n"
     ]
    }
   ],
   "source": [
    "candidates_array[random.randint(0,number_of_candidates-1)].describe()"
   ]
  },
  {
   "cell_type": "markdown",
   "metadata": {},
   "source": [
    "## Apply Random Centers to Candidates\n",
    "In this step, we just select some random nodes as centers with psuedorandom functions in python native library."
   ]
  },
  {
   "cell_type": "code",
   "execution_count": 129,
   "metadata": {},
   "outputs": [
    {
     "name": "stdout",
     "output_type": "stream",
     "text": [
      "[[4.8 3.1 1.6 0.2]\n",
      " [5.4 3.4 1.5 0.4]\n",
      " [6.3 2.9 5.6 1.8]]\n",
      "[[4.5 2.3 1.3 0.3]\n",
      " [5.9 3.  4.2 1.5]\n",
      " [6.1 2.8 4.7 1.2]]\n",
      "[[5.6 3.  4.1 1.3]\n",
      " [5.8 2.7 5.1 1.9]\n",
      " [5.8 2.7 5.1 1.9]]\n",
      "[[5.9 3.  5.1 1.8]\n",
      " [5.5 2.6 4.4 1.2]\n",
      " [6.5 3.  5.2 2. ]]\n",
      "[[6.4 2.7 5.3 1.9]\n",
      " [6.6 2.9 4.6 1.3]\n",
      " [6.  2.9 4.5 1.5]]\n"
     ]
    }
   ],
   "source": [
    "for c in range(0,number_of_candidates):\n",
    "    candidates_array[c].centers =  np.asarray(random.sample(list(candidates_array[c].nodes),number_of_clusters))\n",
    "    print(candidates_array[c].centers)"
   ]
  },
  {
   "cell_type": "markdown",
   "metadata": {},
   "source": [
    "## K-means Algorithm \n",
    "this function fitting k-means model on dataset"
   ]
  },
  {
   "cell_type": "code",
   "execution_count": 130,
   "metadata": {},
   "outputs": [],
   "source": [
    "def doKmeans(x,clusters_count,init_centers):\n",
    "    kmeans = KMeans(n_clusters = clusters_count, init = init_centers,n_init = 50)\n",
    "    y_predict_kmeans = kmeans.fit_predict(x)\n",
    "    return (y_predict_kmeans,kmeans.cluster_centers_,kmeans.inertia_)\n"
   ]
  },
  {
   "cell_type": "markdown",
   "metadata": {},
   "source": [
    "## Running Kmean to Exploit\n",
    "Here by running Kmean on all of our candidates, they centers initialized and nodes assigns to clusters based on Kmean++ algorithm.<br>\n",
    "The objective function of Kmean is also the object function of K-MCI. <br>\n",
    "So the fitness of any candidates is calculated using Kmean inertia or mean square error of nodes to their centers distances."
   ]
  },
  {
   "cell_type": "code",
   "execution_count": 131,
   "metadata": {},
   "outputs": [
    {
     "name": "stderr",
     "output_type": "stream",
     "text": [
      "C:\\Users\\HaMeD\\Anaconda3\\lib\\site-packages\\sklearn\\cluster\\k_means_.py:896: RuntimeWarning: Explicit initial center position passed: performing only one init in k-means instead of n_init=50\n",
      "  return_n_iter=True)\n"
     ]
    },
    {
     "data": {
      "text/plain": [
       "array([2, 2, 2, 2, 2, 2, 2, 2, 2, 2, 2, 2, 2, 2, 2, 2, 2, 2, 2, 2, 2, 2,\n",
       "       2, 2, 2, 2, 2, 2, 2, 2, 2, 2, 2, 2, 2, 2, 2, 2, 2, 2, 2, 2, 2, 2,\n",
       "       2, 2, 2, 2, 2, 2, 1, 0, 1, 0, 0, 0, 0, 0, 0, 0, 0, 0, 0, 0, 0, 0,\n",
       "       0, 0, 0, 0, 0, 0, 0, 0, 0, 0, 0, 1, 0, 0, 0, 0, 0, 0, 0, 0, 0, 0,\n",
       "       0, 0, 0, 0, 0, 0, 0, 0, 0, 0, 0, 0, 1, 0, 1, 1, 1, 1, 0, 1, 1, 1,\n",
       "       1, 1, 1, 0, 0, 1, 1, 1, 1, 0, 1, 0, 1, 0, 1, 1, 0, 0, 1, 1, 1, 1,\n",
       "       1, 0, 1, 1, 1, 1, 0, 1, 1, 1, 0, 1, 1, 1, 0, 1, 1, 0])"
      ]
     },
     "execution_count": 131,
     "metadata": {},
     "output_type": "execute_result"
    }
   ],
   "source": [
    "\n",
    "for c in range(0,number_of_candidates):\n",
    "    y_predict_temp,centers_temp,fitness_temp = doKmeans(candidates_array[c].nodes,clusters_count = number_of_clusters,init_centers = candidates_array[c].centers)\n",
    "    candidates_array[c].centers = centers_temp\n",
    "    candidates_array[c].fitness = fitness_temp\n",
    "    candidates_array[c].labels   = y_predict_temp\n",
    "    \n",
    "candidates_array[2].labels"
   ]
  },
  {
   "cell_type": "markdown",
   "metadata": {},
   "source": [
    "## Visualizing Candidates\n",
    "In this step, by Kmeans, we assigned centers to each candidates and calculated the fitness of each candidate using inertia"
   ]
  },
  {
   "cell_type": "code",
   "execution_count": 132,
   "metadata": {},
   "outputs": [
    {
     "name": "stdout",
     "output_type": "stream",
     "text": [
      "Candidate with #150 nodes, #3 centers, fitness=78.8556658259773\n",
      " clusters:\n",
      "[[4.3 3.  1.1 0.1]\n",
      " [5.8 2.8 5.1 2.4]\n",
      " [6.4 3.2 4.5 1.5]\n",
      " [5.7 2.6 3.5 1. ]\n",
      " [5.8 2.7 5.1 1.9]] \n",
      " Centers:\n",
      "[[5.006      3.428      1.462      0.246     ]\n",
      " [5.88360656 2.74098361 4.38852459 1.43442623]\n",
      " [6.85384615 3.07692308 5.71538462 2.05384615]]\n",
      " sampling_interval:\n",
      "(array([7.9, 4.4, 6.9, 2.5]), array([4.3, 2. , 1. , 0.1]))\n"
     ]
    }
   ],
   "source": [
    "candidates_array[random.randint(0,number_of_candidates-1)].describe()"
   ]
  },
  {
   "cell_type": "markdown",
   "metadata": {},
   "source": [
    "## Fitness over Mutated Candidate\n",
    "Just simple sum of square of distances"
   ]
  },
  {
   "cell_type": "code",
   "execution_count": 133,
   "metadata": {},
   "outputs": [],
   "source": [
    "def sum_of_squares(data, centroids, labels):\n",
    "    sqe = 0\n",
    "    for l in np.unique(labels):\n",
    "        data_l = data[labels == l]\n",
    "        resid = data_l - centroids[l]\n",
    "        sqe += (resid**2).sum()\n",
    "    return sqe"
   ]
  },
  {
   "cell_type": "markdown",
   "metadata": {},
   "source": [
    "### Mean Square Distance to a Specific Center\n",
    "This function is exactly based on \"sum_of_squares\" function. But here all centers not engaged because we want to find the sum of square distances of nodes of a cluster to their cluster center.<br>\n",
    "The idea is when mutation process done, at least one dimension may get better center but the other goes bad. So we want to have that center which is better to the previous time."
   ]
  },
  {
   "cell_type": "code",
   "execution_count": 134,
   "metadata": {},
   "outputs": [],
   "source": [
    "def center_dist(data, center, labels,center_position):\n",
    "    sqe = 0\n",
    "    for l in np.unique(labels):\n",
    "        data_l = data[labels == l][center_position]\n",
    "        resid = data_l - center\n",
    "        sqe += (resid**2).sum()\n",
    "    return sqe"
   ]
  },
  {
   "cell_type": "code",
   "execution_count": 135,
   "metadata": {},
   "outputs": [
    {
     "name": "stdout",
     "output_type": "stream",
     "text": [
      "[[ 86.55033058  44.46710744  69.77983471 105.29      ]\n",
      " [108.31046875  50.31171875  80.3275     109.84761719]\n",
      " [182.39755208  44.48354167  90.78063802  49.59199219]]\n",
      "[[4.73181818 2.92727273 1.77272727 0.35      ]\n",
      " [5.19375    3.63125    1.475      0.271875  ]\n",
      " [6.31458333 2.89583333 4.97395833 1.703125  ]]\n",
      "3\n",
      "4\n"
     ]
    }
   ],
   "source": [
    "def each_fitness(candidates_array_example):\n",
    "    fitness_of_each_centers = [[0 for x in range(len(candidates_array_example.centers[0]))]for y in range(len(candidates_array_example.centers))]\n",
    "    for i in range(0,len(candidates_array_example.centers)):\n",
    "        for j in range(0,len(candidates_array_example.centers[i])):\n",
    "            fitness_of_each_centers[i][j] = center_dist(candidates_array_example.nodes,candidates_array_example.centers[i][j],candidates_array_example.labels,j)\n",
    "    return np.array(fitness_of_each_centers)\n",
    "print(each_fitness(candidates_array[0]))\n",
    "print(candidates_array[0].centers)\n",
    "print(len(candidates_array[0].centers))\n",
    "print(len(candidates_array[0].centers[0]))\n"
   ]
  },
  {
   "cell_type": "markdown",
   "metadata": {},
   "source": [
    "## Mutation algorithm \n",
    "this function do mutation algorithm on candidates interval's centers"
   ]
  },
  {
   "cell_type": "code",
   "execution_count": 136,
   "metadata": {
    "scrolled": true
   },
   "outputs": [
    {
     "name": "stdout",
     "output_type": "stream",
     "text": [
      "###########################################################################################################\n",
      "[[102.71650472  44.89391602  69.77983471  92.45118411]\n",
      " [108.31046875  44.96151323  88.32152363 126.94927922]\n",
      " [237.62779012  44.68889544 533.43214384  49.59199219]]\n",
      "[[ 86.55033058  44.46710744  69.77983471 105.29      ]\n",
      " [108.31046875  50.31171875  80.3275     109.84761719]\n",
      " [182.39755208  44.48354167  90.78063802  49.59199219]]\n",
      "###########################################################################################################\n",
      "###########################################################################################################\n",
      "[[253.28040557  47.72498565  94.520528    77.05997213]\n",
      " [117.25224133  45.1080466   58.83535071 155.32044413]\n",
      " [139.47155716  46.14345657  48.99862305 126.95392889]]\n",
      "[[ 76.465232    45.350208    94.520528   168.320592  ]\n",
      " [117.25224133  48.07917227  58.83535071  92.93291051]\n",
      " [183.85863905  45.32946746 110.37976331  67.07786982]]\n",
      "###########################################################################################################\n",
      "###########################################################################################################\n",
      "[[122.28592315  44.9701443   56.21318416  93.16964665]\n",
      " [100.72945212  45.00291147  48.67026098 113.50530271]\n",
      " [203.28999084  44.99058363  94.520528    58.23098212]]\n",
      "[[117.25224133  48.07917227  58.83535071  92.93291051]\n",
      " [183.85863905  45.32946746 110.37976331  67.07786982]\n",
      " [ 76.465232    45.350208    94.520528   168.320592  ]]\n",
      "###########################################################################################################\n",
      "###########################################################################################################\n",
      "[[ 63.1978523   54.90642225 109.2936147  106.83570239]\n",
      " [104.42851795  48.55723307  51.6454887  184.809392  ]\n",
      " [143.72630208  50.76604167  73.11772135  93.86949219]]\n",
      "[[118.62003122  53.01745057  55.00308012 106.83570239]\n",
      " [ 78.235632    46.980208    87.054928   184.809392  ]\n",
      " [182.37        48.74462604 109.52232687  78.96479224]]\n",
      "###########################################################################################################\n",
      "###########################################################################################################\n",
      "[[166.74681862  61.05334423  58.71047941  78.96479224]\n",
      " [118.62003122  53.01745057  43.62228937 112.25724019]\n",
      " [ 78.15995695  46.980208    86.34429314 184.809392  ]]\n",
      "[[182.37        48.74462604 109.52232687  78.96479224]\n",
      " [118.62003122  53.01745057  55.00308012 106.83570239]\n",
      " [ 78.235632    46.980208    87.054928   184.809392  ]]\n",
      "###########################################################################################################\n"
     ]
    }
   ],
   "source": [
    "def mutation(candidate_array,mutation_random):\n",
    "    New_candidate = copy.deepcopy(candidate_array)\n",
    "    Mutant_candidate = copy.deepcopy(candidate_array)\n",
    "    Trial_candidate = copy.deepcopy(candidate_array)\n",
    "    for x in range(len(candidate_array)):\n",
    "        a = np.full(len(candidate_array), 1/(len(candidate_array)-1))\n",
    "        a[x] = 0\n",
    "        temp = np.random.choice(len(candidate_array), 3, replace = False, p=a)\n",
    "        for i in range(len(candidate_array[0].centers)):\n",
    "            for j in range(len(candidate_array[0].centers[i])):\n",
    "                Mutant_candidate[x].centers[i][j] = candidate_array[temp[0]].centers[i][j]+ random.random()*(candidate_array[temp[1]].centers[i][j] - candidate_array[temp[2]].centers[i][j])\n",
    "                if random.random() < mutation_random:\n",
    "                    Trial_candidate[x].centers[i][j] = Mutant_candidate[x].centers[i][j] #Trial & Mutant must be copy of same candidate\n",
    "                    \n",
    "                    \n",
    "        Trial_candidate[x].fitness = sum_of_squares(Trial_candidate[x].nodes,Trial_candidate[x].centers,Trial_candidate[x].labels)\n",
    "        \n",
    "        if Trial_candidate[x].fitness < sum_of_squares(candidate_array[x].nodes,candidates_array[2].centers,candidates_array[2].labels):\n",
    "            New_candidate[x] = Trial_candidate[x]\n",
    "            print(\"sakjfnr\")\n",
    "        else:\n",
    "            New_candidate[x] = candidate_array[x]\n",
    "        #print(Trial_candidate[x].centers)\n",
    "        #print(candidate_array[x].centers)\n",
    "        #print(New_candidate[x].centers)\n",
    "        #print(Mutant_candidate[x].centers)\n",
    "        print(\"###########################################################################################################\")\n",
    "        Trial_candidate[x].each_fitness = each_fitness(Trial_candidate[x])\n",
    "        print(Trial_candidate[x].each_fitness)\n",
    "        candidate_array[x].each_fitness = each_fitness(candidate_array[x])\n",
    "        print(candidate_array[x].each_fitness)\n",
    "        print(\"###########################################################################################################\")\n",
    "        \n",
    "    return New_candidate\n",
    "#print(candidates_array[1].fitness)\n",
    "#for i in range(0,3500):\n",
    "New_candidates_array = mutation(candidates_array,mutation_random)\n",
    "    #if New_candidates_array[1].fitness != candidates_array[1].fitness:\n",
    "     #   print(New_candidates_array[1].fitness)#never happen"
   ]
  },
  {
   "cell_type": "markdown",
   "metadata": {},
   "source": [
    "# Probability Equation"
   ]
  },
  {
   "cell_type": "code",
   "execution_count": 137,
   "metadata": {},
   "outputs": [],
   "source": [
    "def probability(candidates):\n",
    "    for c in range(0,len(candidates)):\n",
    "        temp_array = []\n",
    "        for clusters in range(0,len(candidates[c].centers)):\n",
    "            temp_array.append((1/np.sum(candidates[c].each_fitness[clusters]))/(np.sum(1/(np.sum(x.each_fitness[clusters])) for x in candidates)))\n",
    "        print(temp_array)    \n",
    "        candidates[c].probability = temp_array\n",
    "    return"
   ]
  },
  {
   "cell_type": "markdown",
   "metadata": {},
   "source": [
    "### Roulette Wheel Selection\n",
    "This is a logic for selecting targets with higher probability.<br>\n",
    "In this article, each candidate want to follow the other candidate with higher fitness. So in the previous section <strong><em>Probability Equation<strong><em>, we calculated all probabilities of candidates based on their fitnesses."
   ]
  },
  {
   "cell_type": "code",
   "execution_count": 138,
   "metadata": {},
   "outputs": [],
   "source": [
    "def roulette_wheel_selection(inertia_array):\n",
    "    maximum = np.sum(inertia_array)\n",
    "    pick = random.uniform(0, maximum)\n",
    "    current = 0\n",
    "    for fitness in inertia_array:\n",
    "        current += fitness\n",
    "        if current > pick:\n",
    "            return fitness"
   ]
  },
  {
   "cell_type": "code",
   "execution_count": 139,
   "metadata": {},
   "outputs": [
    {
     "name": "stdout",
     "output_type": "stream",
     "text": [
      "[[[3.0218181818181824, 6.441818181818182], [1.7872727272727271, 4.067272727272727], [-1.0297727272727277, 4.575227272727273], [-0.7900000000000003, 1.4899999999999995]], [[3.4837499999999997, 6.90375], [2.4912499999999995, 4.77125], [-1.3275000000000001, 4.2775], [-0.8681249999999996, 1.4118750000000002]], [[4.604583333333333, 8.024583333333334], [1.7558333333333334, 4.035833333333334], [2.171458333333333, 7.776458333333333], [0.5631250000000001, 2.8431249999999997]]]\n"
     ]
    }
   ],
   "source": [
    "def shrinked_sampling_interval(candidates_array):\n",
    "    for i in range(0,len(candidates_array)):\n",
    "        shrinked_sampling_interval = []\n",
    "        for j in range(0,len(candidates_array[i].centers)):\n",
    "            Second_layer = []\n",
    "            for k in range(0,len(candidates_array[i].centers[j])):\n",
    "                Third_layer = []\n",
    "                Temp = abs(candidates_array[i].sampling_interval[0][k] - candidates_array[i].sampling_interval[1][k]) * sampling_interval_reduction_factor\n",
    "                Third_layer.append(candidates_array[i].centers[j][k] - (Temp/2))\n",
    "                Third_layer.append(candidates_array[i].centers[j][k] + (Temp/2))\n",
    "                Second_layer.append(Third_layer)\n",
    "            shrinked_sampling_interval.append(Second_layer)\n",
    "        candidates_array[i].sampling_interval = shrinked_sampling_interval\n",
    "    return\n",
    "shrinked_sampling_interval(New_candidates_array)\n",
    "print(New_candidates_array[0].sampling_interval)"
   ]
  },
  {
   "cell_type": "code",
   "execution_count": 149,
   "metadata": {},
   "outputs": [
    {
     "name": "stdout",
     "output_type": "stream",
     "text": [
      "[[7.053495149064516, 3.3599382410025296, 3.6057476175630803, 2.5402954393727946], [4.532479840256706, 3.1840474891336856, -1.1540168609894432, 0.8671900217055385], [5.868836676719992, 3.167380743085452, 8.1906902624868, 1.2681387578290744]]\n"
     ]
    }
   ],
   "source": [
    "def variation(candidates_array):\n",
    "    for candidate in candidates_array:\n",
    "        variations = []\n",
    "        for i in range(0,variations_count):\n",
    "            Second_layer = []\n",
    "            for j in candidate.sampling_interval:\n",
    "                Third_layer = []\n",
    "                for k in range(0,len(j)):\n",
    "                    #print(k)\n",
    "                    Third_layer.append(random.uniform(j[k][0],j[k][1]))\n",
    "                Second_layer.append(Third_layer)\n",
    "            variations.append(Second_layer)\n",
    "        candidate.variation = variations    \n",
    "variation(New_candidates_array)\n",
    "print(New_candidates_array[3].variation[1])"
   ]
  },
  {
   "cell_type": "code",
   "execution_count": null,
   "metadata": {},
   "outputs": [],
   "source": []
  }
 ],
 "metadata": {
  "kernelspec": {
   "display_name": "Python 3",
   "language": "python",
   "name": "python3"
  },
  "language_info": {
   "codemirror_mode": {
    "name": "ipython",
    "version": 3
   },
   "file_extension": ".py",
   "mimetype": "text/x-python",
   "name": "python",
   "nbconvert_exporter": "python",
   "pygments_lexer": "ipython3",
   "version": "3.6.6"
  }
 },
 "nbformat": 4,
 "nbformat_minor": 2
}
