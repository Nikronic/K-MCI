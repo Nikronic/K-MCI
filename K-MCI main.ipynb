{
 "cells": [
  {
   "cell_type": "markdown",
   "metadata": {},
   "source": [
    "# K-MCI\n",
    "### Intro\n",
    "In this notebook we have the main algorithm of the article. All necessary functions are implemented in function.py file.<br>\n",
    "This document have blow sections:<br>\n",
    "1. Importing Libraries & classes\n",
    "2. Reading datasets\n",
    "3. Preprocessing datasets\n",
    "4. Main Algorithm"
   ]
  },
  {
   "cell_type": "markdown",
   "metadata": {},
   "source": [
    "### Importing Libraries & classes\n",
    "We import some libraries from third party."
   ]
  },
  {
   "cell_type": "code",
   "execution_count": 1,
   "metadata": {},
   "outputs": [],
   "source": [
    "import pandas as pd\n",
    "import numpy as np\n",
    "from sklearn.cluster import KMeans\n",
    "import random\n",
    "from copy import deepcopy\n",
    "from sklearn import preprocessing"
   ]
  },
  {
   "cell_type": "code",
   "execution_count": 2,
   "metadata": {},
   "outputs": [],
   "source": [
    "# defnition of Candidate class\n",
    "class Candidate:    \n",
    "    def __init__(self,nodes,sampling_interval,fitness=-1):\n",
    "        self.nodes = nodes\n",
    "        self.sampling_interval = sampling_interval \n",
    "        self.variation = []\n",
    "        self.fitness = fitness\n",
    "        self.clusters = None\n",
    "        self.centers = []\n",
    "        self.probability = []\n",
    "        self.labels = []\n",
    "        self.each_fitness = []\n",
    "        \n",
    "    def describe(self):\n",
    "        print(\"Candidate with #{} nodes, #{} centers, fitness={}\\n clusters:\\n{} \\n Centers:\\n{}\\n sampling_interval:\\n{}\"\n",
    "              .format(len(self.nodes),len(self.centers),self.fitness,self.nodes[np.random.randint(self.nodes.shape[0], size=5), :],self.centers,self.sampling_interval))"
   ]
  },
  {
   "cell_type": "markdown",
   "metadata": {},
   "source": [
    "### Reading Datasets and Preprocessing\n",
    "We show the structure of our data for all of datasets.<br>\n",
    "We have these datasets from UCI Machine Learning Repository:\n",
    "1. Breast Cancer Wisconsin\n",
    "2. Contraceptive Method Choice data\n",
    "3. Glass\n",
    "4. Iris\n",
    "5. Vowel\n",
    "6. Wine"
   ]
  },
  {
   "cell_type": "code",
   "execution_count": 3,
   "metadata": {},
   "outputs": [],
   "source": [
    "\"\"\" In this cell we have some code which will do preprocessing for us on all datasets \"\"\"\n",
    "\"\"\" the resourses of these datasets are mentioned in README.md file. \"\"\"\n",
    "\n",
    "path = 'datasets/' \n",
    "# because we are using local files, you need to download datasets and change the \"path\" variable\n",
    "# local folder of your downloaded datasets\n",
    "\n",
    "\n",
    "def bcw(): \n",
    "    # importing dataset\n",
    "    dataset = pd.read_csv(path+'bcw.csv',\n",
    "                          names = ['Sample code number','Clump Thickness','Uniformity of Cell Size',\n",
    "                                   'Uniformity of Cell Shape','Marginal Adhesion','Single Epithelial',\n",
    "                                   'Bare Nuclei','Bland Chromatin','Normal Nucleoli','Mitoses','Class'])\n",
    "    dataset = dataset.drop(dataset.columns[0], axis=1)\n",
    "    dataset= dataset.replace(to_replace='?',value=np.nan)\n",
    "    dataset = dataset.dropna(axis =0) # resolving missing values\n",
    "    dataset = dataset.astype('int64') # casting string valued column to int64\n",
    "    x = dataset.iloc[:,:-1].values # features\n",
    "    y = dataset.iloc[:,-1].values # target values\n",
    "    return (x,y,dataset)\n",
    "\n",
    "\n",
    "def cmc():\n",
    "    # importing dataset\n",
    "    dataset = pd.read_csv(path+'cmc.csv', names=[\"Wife's age\",\"Wife's education\",\"Husband's education\",\n",
    "                                                 \"Number of children ever born\",\"Wife's religion\",\n",
    "                                                 \"Wife's now working?\",\"Husband's occupation\",\n",
    "                                                 \"Standard-of-living index\",\"Media exposure\",\"Contraceptive method used\"])\n",
    "    x = dataset.iloc[:,:-1].values # features\n",
    "    y = dataset.iloc[:,-1].values # target values\n",
    "    return (x,y,dataset)\n",
    "\n",
    "\n",
    "def glass():\n",
    "    # importing dataset\n",
    "    dataset = pd.read_csv(path+'glass.csv', names= ['Id','refractive index','Sodium','Magnesium','Aluminum','Silicon','Potassium'\n",
    "                                                    ,'Calcium','Barium','Iron','glass'])\n",
    "    x = dataset.iloc[:,1:10].values # features\n",
    "    y = dataset.iloc[:,-1].values # target values\n",
    "    return (x,y,dataset)\n",
    "\n",
    "\n",
    "def iris():\n",
    "    # importing dataset\n",
    "    dataset = pd.read_csv(path+'iris.csv', names= ['sepal length','sepal width','petal length','petal width','class'])\n",
    "    x = dataset.iloc[:,:-1].values # features\n",
    "    y = dataset.iloc[:,-1].values # target values\n",
    "    \n",
    "    # encoding categorial data types to labelEncoder\n",
    "    from sklearn.preprocessing import LabelEncoder\n",
    "    labelencoder_y = LabelEncoder()\n",
    "    labelencoder_y = labelencoder_y.fit(y)\n",
    "    y = labelencoder_y.transform(y)  # 0 for 'Iris-setosa', 1 for 'Iris-versicolor', 2 for 'Iris-virginica'\n",
    "    return (x,y,dataset)\n",
    "\n",
    "\n",
    "def vowel():\n",
    "    # importing dataset\n",
    "    dataset = pd.read_csv(path+'vowel.csv', names= ['vowel','type 1 frq','type 2 frq','type 3 frq'])\n",
    "    x = dataset.iloc[:,1:].values # features\n",
    "    y = dataset.iloc[:,0].values # target values\n",
    "    return (x,y,dataset)\n",
    "\n",
    "def wine():\n",
    "    # importing dataset\n",
    "    dataset = pd.read_csv(path+'wine.csv', names= ['class','Alcohol','Malic acid','Ash','Alcalinity of ash','Magnesium','Total phenols','Flavanoids','Nonflavanoid phenols','Proanthocyanins','Color intensity','Hue','OD280/OD315','Proline'])\n",
    "    x = dataset.iloc[:,1:].values # features\n",
    "    y = dataset.iloc[:,0].values # target values\n",
    "    return (x,y,dataset)"
   ]
  },
  {
   "cell_type": "code",
   "execution_count": 4,
   "metadata": {
    "scrolled": true
   },
   "outputs": [],
   "source": [
    "# Getting data from our preprocessing class Datasets\n",
    "x_bcw, y_bcw, df_bcw = bcw()\n",
    "x_cmc, y_cmc, df_cmc = cmc()\n",
    "x_glass, y_glass, df_glass = glass()\n",
    "x_iris, y_iris, df_iris = iris()\n",
    "x_vowel, y_vowel, df_vowel = vowel()\n",
    "x_wine, y_wine, df_wine = wine()"
   ]
  },
  {
   "cell_type": "code",
   "execution_count": 5,
   "metadata": {},
   "outputs": [
    {
     "data": {
      "text/html": [
       "<div>\n",
       "<style scoped>\n",
       "    .dataframe tbody tr th:only-of-type {\n",
       "        vertical-align: middle;\n",
       "    }\n",
       "\n",
       "    .dataframe tbody tr th {\n",
       "        vertical-align: top;\n",
       "    }\n",
       "\n",
       "    .dataframe thead th {\n",
       "        text-align: right;\n",
       "    }\n",
       "</style>\n",
       "<table border=\"1\" class=\"dataframe\">\n",
       "  <thead>\n",
       "    <tr style=\"text-align: right;\">\n",
       "      <th></th>\n",
       "      <th>Clump Thickness</th>\n",
       "      <th>Uniformity of Cell Size</th>\n",
       "      <th>Uniformity of Cell Shape</th>\n",
       "      <th>Marginal Adhesion</th>\n",
       "      <th>Single Epithelial</th>\n",
       "      <th>Bare Nuclei</th>\n",
       "      <th>Bland Chromatin</th>\n",
       "      <th>Normal Nucleoli</th>\n",
       "      <th>Mitoses</th>\n",
       "      <th>Class</th>\n",
       "    </tr>\n",
       "  </thead>\n",
       "  <tbody>\n",
       "    <tr>\n",
       "      <th>0</th>\n",
       "      <td>5</td>\n",
       "      <td>1</td>\n",
       "      <td>1</td>\n",
       "      <td>1</td>\n",
       "      <td>2</td>\n",
       "      <td>1</td>\n",
       "      <td>3</td>\n",
       "      <td>1</td>\n",
       "      <td>1</td>\n",
       "      <td>2</td>\n",
       "    </tr>\n",
       "    <tr>\n",
       "      <th>1</th>\n",
       "      <td>5</td>\n",
       "      <td>4</td>\n",
       "      <td>4</td>\n",
       "      <td>5</td>\n",
       "      <td>7</td>\n",
       "      <td>10</td>\n",
       "      <td>3</td>\n",
       "      <td>2</td>\n",
       "      <td>1</td>\n",
       "      <td>2</td>\n",
       "    </tr>\n",
       "    <tr>\n",
       "      <th>2</th>\n",
       "      <td>3</td>\n",
       "      <td>1</td>\n",
       "      <td>1</td>\n",
       "      <td>1</td>\n",
       "      <td>2</td>\n",
       "      <td>2</td>\n",
       "      <td>3</td>\n",
       "      <td>1</td>\n",
       "      <td>1</td>\n",
       "      <td>2</td>\n",
       "    </tr>\n",
       "  </tbody>\n",
       "</table>\n",
       "</div>"
      ],
      "text/plain": [
       "   Clump Thickness  Uniformity of Cell Size  Uniformity of Cell Shape  \\\n",
       "0                5                        1                         1   \n",
       "1                5                        4                         4   \n",
       "2                3                        1                         1   \n",
       "\n",
       "   Marginal Adhesion  Single Epithelial  Bare Nuclei  Bland Chromatin  \\\n",
       "0                  1                  2            1                3   \n",
       "1                  5                  7           10                3   \n",
       "2                  1                  2            2                3   \n",
       "\n",
       "   Normal Nucleoli  Mitoses  Class  \n",
       "0                1        1      2  \n",
       "1                2        1      2  \n",
       "2                1        1      2  "
      ]
     },
     "execution_count": 5,
     "metadata": {},
     "output_type": "execute_result"
    }
   ],
   "source": [
    "# Showing dataset of Breast Cancer Wisconsin\n",
    "df_bcw.head(3)"
   ]
  },
  {
   "cell_type": "code",
   "execution_count": 6,
   "metadata": {},
   "outputs": [
    {
     "data": {
      "text/html": [
       "<div>\n",
       "<style scoped>\n",
       "    .dataframe tbody tr th:only-of-type {\n",
       "        vertical-align: middle;\n",
       "    }\n",
       "\n",
       "    .dataframe tbody tr th {\n",
       "        vertical-align: top;\n",
       "    }\n",
       "\n",
       "    .dataframe thead th {\n",
       "        text-align: right;\n",
       "    }\n",
       "</style>\n",
       "<table border=\"1\" class=\"dataframe\">\n",
       "  <thead>\n",
       "    <tr style=\"text-align: right;\">\n",
       "      <th></th>\n",
       "      <th>Wife's age</th>\n",
       "      <th>Wife's education</th>\n",
       "      <th>Husband's education</th>\n",
       "      <th>Number of children ever born</th>\n",
       "      <th>Wife's religion</th>\n",
       "      <th>Wife's now working?</th>\n",
       "      <th>Husband's occupation</th>\n",
       "      <th>Standard-of-living index</th>\n",
       "      <th>Media exposure</th>\n",
       "      <th>Contraceptive method used</th>\n",
       "    </tr>\n",
       "  </thead>\n",
       "  <tbody>\n",
       "    <tr>\n",
       "      <th>0</th>\n",
       "      <td>24</td>\n",
       "      <td>2</td>\n",
       "      <td>3</td>\n",
       "      <td>3</td>\n",
       "      <td>1</td>\n",
       "      <td>1</td>\n",
       "      <td>2</td>\n",
       "      <td>3</td>\n",
       "      <td>0</td>\n",
       "      <td>1</td>\n",
       "    </tr>\n",
       "    <tr>\n",
       "      <th>1</th>\n",
       "      <td>45</td>\n",
       "      <td>1</td>\n",
       "      <td>3</td>\n",
       "      <td>10</td>\n",
       "      <td>1</td>\n",
       "      <td>1</td>\n",
       "      <td>3</td>\n",
       "      <td>4</td>\n",
       "      <td>0</td>\n",
       "      <td>1</td>\n",
       "    </tr>\n",
       "    <tr>\n",
       "      <th>2</th>\n",
       "      <td>43</td>\n",
       "      <td>2</td>\n",
       "      <td>3</td>\n",
       "      <td>7</td>\n",
       "      <td>1</td>\n",
       "      <td>1</td>\n",
       "      <td>3</td>\n",
       "      <td>4</td>\n",
       "      <td>0</td>\n",
       "      <td>1</td>\n",
       "    </tr>\n",
       "  </tbody>\n",
       "</table>\n",
       "</div>"
      ],
      "text/plain": [
       "   Wife's age  Wife's education  Husband's education  \\\n",
       "0          24                 2                    3   \n",
       "1          45                 1                    3   \n",
       "2          43                 2                    3   \n",
       "\n",
       "   Number of children ever born  Wife's religion  Wife's now working?  \\\n",
       "0                             3                1                    1   \n",
       "1                            10                1                    1   \n",
       "2                             7                1                    1   \n",
       "\n",
       "   Husband's occupation  Standard-of-living index  Media exposure  \\\n",
       "0                     2                         3               0   \n",
       "1                     3                         4               0   \n",
       "2                     3                         4               0   \n",
       "\n",
       "   Contraceptive method used  \n",
       "0                          1  \n",
       "1                          1  \n",
       "2                          1  "
      ]
     },
     "execution_count": 6,
     "metadata": {},
     "output_type": "execute_result"
    }
   ],
   "source": [
    "# Showing dataset of Contraceptive Method Choice data\n",
    "df_cmc.head(3)"
   ]
  },
  {
   "cell_type": "code",
   "execution_count": 7,
   "metadata": {},
   "outputs": [
    {
     "data": {
      "text/html": [
       "<div>\n",
       "<style scoped>\n",
       "    .dataframe tbody tr th:only-of-type {\n",
       "        vertical-align: middle;\n",
       "    }\n",
       "\n",
       "    .dataframe tbody tr th {\n",
       "        vertical-align: top;\n",
       "    }\n",
       "\n",
       "    .dataframe thead th {\n",
       "        text-align: right;\n",
       "    }\n",
       "</style>\n",
       "<table border=\"1\" class=\"dataframe\">\n",
       "  <thead>\n",
       "    <tr style=\"text-align: right;\">\n",
       "      <th></th>\n",
       "      <th>Id</th>\n",
       "      <th>refractive index</th>\n",
       "      <th>Sodium</th>\n",
       "      <th>Magnesium</th>\n",
       "      <th>Aluminum</th>\n",
       "      <th>Silicon</th>\n",
       "      <th>Potassium</th>\n",
       "      <th>Calcium</th>\n",
       "      <th>Barium</th>\n",
       "      <th>Iron</th>\n",
       "      <th>glass</th>\n",
       "    </tr>\n",
       "  </thead>\n",
       "  <tbody>\n",
       "    <tr>\n",
       "      <th>0</th>\n",
       "      <td>1</td>\n",
       "      <td>1.52101</td>\n",
       "      <td>13.64</td>\n",
       "      <td>4.49</td>\n",
       "      <td>1.10</td>\n",
       "      <td>71.78</td>\n",
       "      <td>0.06</td>\n",
       "      <td>8.75</td>\n",
       "      <td>0.0</td>\n",
       "      <td>0.0</td>\n",
       "      <td>1</td>\n",
       "    </tr>\n",
       "    <tr>\n",
       "      <th>1</th>\n",
       "      <td>2</td>\n",
       "      <td>1.51761</td>\n",
       "      <td>13.89</td>\n",
       "      <td>3.60</td>\n",
       "      <td>1.36</td>\n",
       "      <td>72.73</td>\n",
       "      <td>0.48</td>\n",
       "      <td>7.83</td>\n",
       "      <td>0.0</td>\n",
       "      <td>0.0</td>\n",
       "      <td>1</td>\n",
       "    </tr>\n",
       "    <tr>\n",
       "      <th>2</th>\n",
       "      <td>3</td>\n",
       "      <td>1.51618</td>\n",
       "      <td>13.53</td>\n",
       "      <td>3.55</td>\n",
       "      <td>1.54</td>\n",
       "      <td>72.99</td>\n",
       "      <td>0.39</td>\n",
       "      <td>7.78</td>\n",
       "      <td>0.0</td>\n",
       "      <td>0.0</td>\n",
       "      <td>1</td>\n",
       "    </tr>\n",
       "  </tbody>\n",
       "</table>\n",
       "</div>"
      ],
      "text/plain": [
       "   Id  refractive index  Sodium  Magnesium  Aluminum  Silicon  Potassium  \\\n",
       "0   1           1.52101   13.64       4.49      1.10    71.78       0.06   \n",
       "1   2           1.51761   13.89       3.60      1.36    72.73       0.48   \n",
       "2   3           1.51618   13.53       3.55      1.54    72.99       0.39   \n",
       "\n",
       "   Calcium  Barium  Iron  glass  \n",
       "0     8.75     0.0   0.0      1  \n",
       "1     7.83     0.0   0.0      1  \n",
       "2     7.78     0.0   0.0      1  "
      ]
     },
     "execution_count": 7,
     "metadata": {},
     "output_type": "execute_result"
    }
   ],
   "source": [
    "# Showing dataset of Glass\n",
    "df_glass.head(3)"
   ]
  },
  {
   "cell_type": "code",
   "execution_count": 8,
   "metadata": {},
   "outputs": [
    {
     "data": {
      "text/html": [
       "<div>\n",
       "<style scoped>\n",
       "    .dataframe tbody tr th:only-of-type {\n",
       "        vertical-align: middle;\n",
       "    }\n",
       "\n",
       "    .dataframe tbody tr th {\n",
       "        vertical-align: top;\n",
       "    }\n",
       "\n",
       "    .dataframe thead th {\n",
       "        text-align: right;\n",
       "    }\n",
       "</style>\n",
       "<table border=\"1\" class=\"dataframe\">\n",
       "  <thead>\n",
       "    <tr style=\"text-align: right;\">\n",
       "      <th></th>\n",
       "      <th>sepal length</th>\n",
       "      <th>sepal width</th>\n",
       "      <th>petal length</th>\n",
       "      <th>petal width</th>\n",
       "      <th>class</th>\n",
       "    </tr>\n",
       "  </thead>\n",
       "  <tbody>\n",
       "    <tr>\n",
       "      <th>0</th>\n",
       "      <td>5.1</td>\n",
       "      <td>3.5</td>\n",
       "      <td>1.4</td>\n",
       "      <td>0.2</td>\n",
       "      <td>Iris-setosa</td>\n",
       "    </tr>\n",
       "    <tr>\n",
       "      <th>1</th>\n",
       "      <td>4.9</td>\n",
       "      <td>3.0</td>\n",
       "      <td>1.4</td>\n",
       "      <td>0.2</td>\n",
       "      <td>Iris-setosa</td>\n",
       "    </tr>\n",
       "    <tr>\n",
       "      <th>2</th>\n",
       "      <td>4.7</td>\n",
       "      <td>3.2</td>\n",
       "      <td>1.3</td>\n",
       "      <td>0.2</td>\n",
       "      <td>Iris-setosa</td>\n",
       "    </tr>\n",
       "  </tbody>\n",
       "</table>\n",
       "</div>"
      ],
      "text/plain": [
       "   sepal length  sepal width  petal length  petal width        class\n",
       "0           5.1          3.5           1.4          0.2  Iris-setosa\n",
       "1           4.9          3.0           1.4          0.2  Iris-setosa\n",
       "2           4.7          3.2           1.3          0.2  Iris-setosa"
      ]
     },
     "execution_count": 8,
     "metadata": {},
     "output_type": "execute_result"
    }
   ],
   "source": [
    "# Showing dataset of Iris\n",
    "df_iris.head(3)"
   ]
  },
  {
   "cell_type": "code",
   "execution_count": 9,
   "metadata": {},
   "outputs": [
    {
     "data": {
      "text/html": [
       "<div>\n",
       "<style scoped>\n",
       "    .dataframe tbody tr th:only-of-type {\n",
       "        vertical-align: middle;\n",
       "    }\n",
       "\n",
       "    .dataframe tbody tr th {\n",
       "        vertical-align: top;\n",
       "    }\n",
       "\n",
       "    .dataframe thead th {\n",
       "        text-align: right;\n",
       "    }\n",
       "</style>\n",
       "<table border=\"1\" class=\"dataframe\">\n",
       "  <thead>\n",
       "    <tr style=\"text-align: right;\">\n",
       "      <th></th>\n",
       "      <th>vowel</th>\n",
       "      <th>type 1 frq</th>\n",
       "      <th>type 2 frq</th>\n",
       "      <th>type 3 frq</th>\n",
       "    </tr>\n",
       "  </thead>\n",
       "  <tbody>\n",
       "    <tr>\n",
       "      <th>0</th>\n",
       "      <td>1</td>\n",
       "      <td>700</td>\n",
       "      <td>1500</td>\n",
       "      <td>2600</td>\n",
       "    </tr>\n",
       "    <tr>\n",
       "      <th>1</th>\n",
       "      <td>1</td>\n",
       "      <td>550</td>\n",
       "      <td>1550</td>\n",
       "      <td>2400</td>\n",
       "    </tr>\n",
       "    <tr>\n",
       "      <th>2</th>\n",
       "      <td>1</td>\n",
       "      <td>700</td>\n",
       "      <td>1500</td>\n",
       "      <td>2600</td>\n",
       "    </tr>\n",
       "  </tbody>\n",
       "</table>\n",
       "</div>"
      ],
      "text/plain": [
       "   vowel  type 1 frq  type 2 frq  type 3 frq\n",
       "0      1         700        1500        2600\n",
       "1      1         550        1550        2400\n",
       "2      1         700        1500        2600"
      ]
     },
     "execution_count": 9,
     "metadata": {},
     "output_type": "execute_result"
    }
   ],
   "source": [
    "# Showing dataset of Vowel\n",
    "df_vowel.head(3)"
   ]
  },
  {
   "cell_type": "code",
   "execution_count": 10,
   "metadata": {
    "scrolled": false
   },
   "outputs": [
    {
     "data": {
      "text/html": [
       "<div>\n",
       "<style scoped>\n",
       "    .dataframe tbody tr th:only-of-type {\n",
       "        vertical-align: middle;\n",
       "    }\n",
       "\n",
       "    .dataframe tbody tr th {\n",
       "        vertical-align: top;\n",
       "    }\n",
       "\n",
       "    .dataframe thead th {\n",
       "        text-align: right;\n",
       "    }\n",
       "</style>\n",
       "<table border=\"1\" class=\"dataframe\">\n",
       "  <thead>\n",
       "    <tr style=\"text-align: right;\">\n",
       "      <th></th>\n",
       "      <th>class</th>\n",
       "      <th>Alcohol</th>\n",
       "      <th>Malic acid</th>\n",
       "      <th>Ash</th>\n",
       "      <th>Alcalinity of ash</th>\n",
       "      <th>Magnesium</th>\n",
       "      <th>Total phenols</th>\n",
       "      <th>Flavanoids</th>\n",
       "      <th>Nonflavanoid phenols</th>\n",
       "      <th>Proanthocyanins</th>\n",
       "      <th>Color intensity</th>\n",
       "      <th>Hue</th>\n",
       "      <th>OD280/OD315</th>\n",
       "      <th>Proline</th>\n",
       "    </tr>\n",
       "  </thead>\n",
       "  <tbody>\n",
       "    <tr>\n",
       "      <th>0</th>\n",
       "      <td>1</td>\n",
       "      <td>14.23</td>\n",
       "      <td>1.71</td>\n",
       "      <td>2.43</td>\n",
       "      <td>15.6</td>\n",
       "      <td>127</td>\n",
       "      <td>2.80</td>\n",
       "      <td>3.06</td>\n",
       "      <td>0.28</td>\n",
       "      <td>2.29</td>\n",
       "      <td>5.64</td>\n",
       "      <td>1.04</td>\n",
       "      <td>3.92</td>\n",
       "      <td>1065</td>\n",
       "    </tr>\n",
       "    <tr>\n",
       "      <th>1</th>\n",
       "      <td>1</td>\n",
       "      <td>13.20</td>\n",
       "      <td>1.78</td>\n",
       "      <td>2.14</td>\n",
       "      <td>11.2</td>\n",
       "      <td>100</td>\n",
       "      <td>2.65</td>\n",
       "      <td>2.76</td>\n",
       "      <td>0.26</td>\n",
       "      <td>1.28</td>\n",
       "      <td>4.38</td>\n",
       "      <td>1.05</td>\n",
       "      <td>3.40</td>\n",
       "      <td>1050</td>\n",
       "    </tr>\n",
       "    <tr>\n",
       "      <th>2</th>\n",
       "      <td>1</td>\n",
       "      <td>13.16</td>\n",
       "      <td>2.36</td>\n",
       "      <td>2.67</td>\n",
       "      <td>18.6</td>\n",
       "      <td>101</td>\n",
       "      <td>2.80</td>\n",
       "      <td>3.24</td>\n",
       "      <td>0.30</td>\n",
       "      <td>2.81</td>\n",
       "      <td>5.68</td>\n",
       "      <td>1.03</td>\n",
       "      <td>3.17</td>\n",
       "      <td>1185</td>\n",
       "    </tr>\n",
       "  </tbody>\n",
       "</table>\n",
       "</div>"
      ],
      "text/plain": [
       "   class  Alcohol  Malic acid   Ash  Alcalinity of ash  Magnesium  \\\n",
       "0      1    14.23        1.71  2.43               15.6        127   \n",
       "1      1    13.20        1.78  2.14               11.2        100   \n",
       "2      1    13.16        2.36  2.67               18.6        101   \n",
       "\n",
       "   Total phenols  Flavanoids  Nonflavanoid phenols  Proanthocyanins  \\\n",
       "0           2.80        3.06                  0.28             2.29   \n",
       "1           2.65        2.76                  0.26             1.28   \n",
       "2           2.80        3.24                  0.30             2.81   \n",
       "\n",
       "   Color intensity   Hue  OD280/OD315  Proline  \n",
       "0             5.64  1.04         3.92     1065  \n",
       "1             4.38  1.05         3.40     1050  \n",
       "2             5.68  1.03         3.17     1185  "
      ]
     },
     "execution_count": 10,
     "metadata": {},
     "output_type": "execute_result"
    }
   ],
   "source": [
    "# Showing dataset of Wine\n",
    "df_wine.head(3)"
   ]
  },
  {
   "cell_type": "markdown",
   "metadata": {},
   "source": [
    "# Main Algorithm \n",
    "\n",
    "The implementation of main algorithm have below sections:\n",
    "1. <Strong>Initializing Parameters and Candidates</Strong>\n",
    "    1. Sampling Interval\n",
    "    2. Apply Random Centers to Candidates\n",
    "    3. Visualizing Candidates\n",
    "2. <Strong>Running Kmean to Exploit</Strong>\n",
    "    1. K-means Algorithm\n",
    "    2. Visualizing Candidates\n",
    "3. <Strong>Mutation Algorithm</Strong>\n",
    "    1. Fitness over Mutated Candidate\n",
    "    2. Probablility Equation\n",
    "    3. Mutation Logic\n",
    "\n",
    "**Extra details will be explain in other next sections**\n"
   ]
  },
  {
   "cell_type": "markdown",
   "metadata": {},
   "source": [
    "## Initializing Parameters and Candidates\n",
    "In this step, we initialize our algorithm. There are some parameters which are important to convergance speed and quality of solution. So we initialize them here based on the paper.<br>\n",
    "Each time you want to run K-MCI algorithm, you should first do this initialization.<br>"
   ]
  },
  {
   "cell_type": "code",
   "execution_count": 27,
   "metadata": {},
   "outputs": [],
   "source": [
    "# notice: this values related to IRIS dataset\n",
    "number_of_candidates = 5\n",
    "sampling_interval_reduction_factor = 0.95\n",
    "convergence_parameter = None # what is this in paper???\n",
    "mutation_random = 0.7\n",
    "iterations_count = 3500\n",
    "variations_count = 15\n",
    "number_of_clusters = 3 # in this article number of clusters are predefined\n",
    "m,n = x_wine.shape"
   ]
  },
  {
   "cell_type": "code",
   "execution_count": 28,
   "metadata": {},
   "outputs": [],
   "source": [
    "# initializing candidates\n",
    "candidates_array = [] # the array of all candidates\n",
    "def initialize_candidates(candidates_array,number_of_candidates,dataset):\n",
    "    for i in range(0 ,number_of_candidates):\n",
    "        candidates_array.append(Candidate(dataset,sampling_interval=None))\n",
    "    return candidates_array\n",
    "\n",
    "candidates_array = initialize_candidates(candidates_array,number_of_candidates,x_wine)"
   ]
  },
  {
   "cell_type": "markdown",
   "metadata": {},
   "source": [
    "## Apply Random Centers to Candidates\n",
    "In this step, we just select some random nodes as centers with psuedorandom functions in python native library."
   ]
  },
  {
   "cell_type": "code",
   "execution_count": 29,
   "metadata": {},
   "outputs": [
    {
     "name": "stdout",
     "output_type": "stream",
     "text": [
      "[[  1.22500000e+01   1.73000000e+00   2.12000000e+00   1.90000000e+01\n",
      "    8.00000000e+01   1.65000000e+00   2.03000000e+00   3.70000000e-01\n",
      "    1.63000000e+00   3.40000000e+00   1.00000000e+00   3.17000000e+00\n",
      "    5.10000000e+02]\n",
      " [  1.23700000e+01   1.13000000e+00   2.16000000e+00   1.90000000e+01\n",
      "    8.70000000e+01   3.50000000e+00   3.10000000e+00   1.90000000e-01\n",
      "    1.87000000e+00   4.45000000e+00   1.22000000e+00   2.87000000e+00\n",
      "    4.20000000e+02]\n",
      " [  1.30500000e+01   1.65000000e+00   2.55000000e+00   1.80000000e+01\n",
      "    9.80000000e+01   2.45000000e+00   2.43000000e+00   2.90000000e-01\n",
      "    1.44000000e+00   4.25000000e+00   1.12000000e+00   2.51000000e+00\n",
      "    1.10500000e+03]]\n",
      "[[  1.37800000e+01   2.76000000e+00   2.30000000e+00   2.20000000e+01\n",
      "    9.00000000e+01   1.35000000e+00   6.80000000e-01   4.10000000e-01\n",
      "    1.03000000e+00   9.58000000e+00   7.00000000e-01   1.68000000e+00\n",
      "    6.15000000e+02]\n",
      " [  1.36200000e+01   4.95000000e+00   2.35000000e+00   2.00000000e+01\n",
      "    9.20000000e+01   2.00000000e+00   8.00000000e-01   4.70000000e-01\n",
      "    1.02000000e+00   4.40000000e+00   9.10000000e-01   2.05000000e+00\n",
      "    5.50000000e+02]\n",
      " [  1.35000000e+01   1.81000000e+00   2.61000000e+00   2.00000000e+01\n",
      "    9.60000000e+01   2.53000000e+00   2.61000000e+00   2.80000000e-01\n",
      "    1.66000000e+00   3.52000000e+00   1.12000000e+00   3.82000000e+00\n",
      "    8.45000000e+02]]\n",
      "[[  1.27000000e+01   3.55000000e+00   2.36000000e+00   2.15000000e+01\n",
      "    1.06000000e+02   1.70000000e+00   1.20000000e+00   1.70000000e-01\n",
      "    8.40000000e-01   5.00000000e+00   7.80000000e-01   1.29000000e+00\n",
      "    6.00000000e+02]\n",
      " [  1.38800000e+01   1.89000000e+00   2.59000000e+00   1.50000000e+01\n",
      "    1.01000000e+02   3.25000000e+00   3.56000000e+00   1.70000000e-01\n",
      "    1.70000000e+00   5.43000000e+00   8.80000000e-01   3.56000000e+00\n",
      "    1.09500000e+03]\n",
      " [  1.29600000e+01   3.45000000e+00   2.35000000e+00   1.85000000e+01\n",
      "    1.06000000e+02   1.39000000e+00   7.00000000e-01   4.00000000e-01\n",
      "    9.40000000e-01   5.28000000e+00   6.80000000e-01   1.75000000e+00\n",
      "    6.75000000e+02]]\n",
      "[[  1.25300000e+01   5.51000000e+00   2.64000000e+00   2.50000000e+01\n",
      "    9.60000000e+01   1.79000000e+00   6.00000000e-01   6.30000000e-01\n",
      "    1.10000000e+00   5.00000000e+00   8.20000000e-01   1.69000000e+00\n",
      "    5.15000000e+02]\n",
      " [  1.20000000e+01   1.51000000e+00   2.42000000e+00   2.20000000e+01\n",
      "    8.60000000e+01   1.45000000e+00   1.25000000e+00   5.00000000e-01\n",
      "    1.63000000e+00   3.60000000e+00   1.05000000e+00   2.65000000e+00\n",
      "    4.50000000e+02]\n",
      " [  1.30500000e+01   5.80000000e+00   2.13000000e+00   2.15000000e+01\n",
      "    8.60000000e+01   2.62000000e+00   2.65000000e+00   3.00000000e-01\n",
      "    2.01000000e+00   2.60000000e+00   7.30000000e-01   3.10000000e+00\n",
      "    3.80000000e+02]]\n",
      "[[  1.38200000e+01   1.75000000e+00   2.42000000e+00   1.40000000e+01\n",
      "    1.11000000e+02   3.88000000e+00   3.74000000e+00   3.20000000e-01\n",
      "    1.87000000e+00   7.05000000e+00   1.01000000e+00   3.26000000e+00\n",
      "    1.19000000e+03]\n",
      " [  1.42200000e+01   3.99000000e+00   2.51000000e+00   1.32000000e+01\n",
      "    1.28000000e+02   3.00000000e+00   3.04000000e+00   2.00000000e-01\n",
      "    2.08000000e+00   5.10000000e+00   8.90000000e-01   3.53000000e+00\n",
      "    7.60000000e+02]\n",
      " [  1.20000000e+01   9.20000000e-01   2.00000000e+00   1.90000000e+01\n",
      "    8.60000000e+01   2.42000000e+00   2.26000000e+00   3.00000000e-01\n",
      "    1.43000000e+00   2.50000000e+00   1.38000000e+00   3.12000000e+00\n",
      "    2.78000000e+02]]\n"
     ]
    }
   ],
   "source": [
    "for c in range(0,number_of_candidates):\n",
    "    candidates_array[c].centers =  np.asarray(random.sample(list(candidates_array[c].nodes),number_of_clusters))\n",
    "    print(candidates_array[c].centers)"
   ]
  },
  {
   "cell_type": "markdown",
   "metadata": {},
   "source": [
    "## K-means Algorithm \n",
    "First we define our fitness function, then apply kmeans and measure our error using introduced fitness function."
   ]
  },
  {
   "cell_type": "code",
   "execution_count": 30,
   "metadata": {},
   "outputs": [],
   "source": [
    "# fitness function\n",
    "def sum_of_squares(data, centroids, labels):\n",
    "    sqe = 0\n",
    "    for l in np.unique(labels):\n",
    "        data_l = data[labels == l]\n",
    "        resid = data_l - centroids[l]\n",
    "        sqe += np.sum(np.sqrt(np.sum(resid**2,axis=1)))\n",
    "    return sqe"
   ]
  },
  {
   "cell_type": "code",
   "execution_count": 31,
   "metadata": {},
   "outputs": [],
   "source": [
    "def kmeans(x,clusters_count,init_centers):\n",
    "    kmeans = KMeans(n_clusters = clusters_count, init = 'k-means++',n_init = 50)\n",
    "    kmeans = kmeans.fit(x)\n",
    "    labels = kmeans.labels_\n",
    "    return (labels,kmeans.cluster_centers_,sum_of_squares(x,kmeans.cluster_centers_,labels))"
   ]
  },
  {
   "cell_type": "markdown",
   "metadata": {},
   "source": [
    "## Running Kmeans to Exploit\n",
    "Here by running Kmeans on all of our candidates, they centers initialized and nodes assigns to clusters based on Kmean++ algorithm.<br>\n",
    "The objective function of Kmean is also the object function of K-MCI. <br>\n",
    "So the fitness of any candidates is calculated using mean square error of nodes to their centers distances."
   ]
  },
  {
   "cell_type": "code",
   "execution_count": 32,
   "metadata": {},
   "outputs": [],
   "source": [
    "for c in range(0,number_of_candidates):\n",
    "    candidates_array[c].labels,candidates_array[c].centers,candidates_array[c].fitness = kmeans(candidates_array[c].nodes\n",
    "                                                                                                ,clusters_count = number_of_clusters,\n",
    "                                                                                                init_centers = candidates_array[c].centers)"
   ]
  },
  {
   "cell_type": "code",
   "execution_count": 33,
   "metadata": {},
   "outputs": [
    {
     "name": "stdout",
     "output_type": "stream",
     "text": [
      "Candidate with #178 nodes, #3 centers, fitness=16555.679416032723\n",
      " clusters:\n",
      "[[  1.23700000e+01   1.21000000e+00   2.56000000e+00   1.81000000e+01\n",
      "    9.80000000e+01   2.42000000e+00   2.65000000e+00   3.70000000e-01\n",
      "    2.08000000e+00   4.60000000e+00   1.19000000e+00   2.30000000e+00\n",
      "    6.78000000e+02]\n",
      " [  1.37800000e+01   2.76000000e+00   2.30000000e+00   2.20000000e+01\n",
      "    9.00000000e+01   1.35000000e+00   6.80000000e-01   4.10000000e-01\n",
      "    1.03000000e+00   9.58000000e+00   7.00000000e-01   1.68000000e+00\n",
      "    6.15000000e+02]\n",
      " [  1.23300000e+01   9.90000000e-01   1.95000000e+00   1.48000000e+01\n",
      "    1.36000000e+02   1.90000000e+00   1.85000000e+00   3.50000000e-01\n",
      "    2.76000000e+00   3.40000000e+00   1.06000000e+00   2.31000000e+00\n",
      "    7.50000000e+02]\n",
      " [  1.29900000e+01   1.67000000e+00   2.60000000e+00   3.00000000e+01\n",
      "    1.39000000e+02   3.30000000e+00   2.89000000e+00   2.10000000e-01\n",
      "    1.96000000e+00   3.35000000e+00   1.31000000e+00   3.50000000e+00\n",
      "    9.85000000e+02]\n",
      " [  1.28100000e+01   2.31000000e+00   2.40000000e+00   2.40000000e+01\n",
      "    9.80000000e+01   1.15000000e+00   1.09000000e+00   2.70000000e-01\n",
      "    8.30000000e-01   5.70000000e+00   6.60000000e-01   1.36000000e+00\n",
      "    5.60000000e+02]] \n",
      " Centers:\n",
      "[[  1.25166667e+01   2.49420290e+00   2.28855072e+00   2.08231884e+01\n",
      "    9.23478261e+01   2.07072464e+00   1.75840580e+00   3.90144928e-01\n",
      "    1.45188406e+00   4.08695651e+00   9.41159420e-01   2.49072464e+00\n",
      "    4.58231884e+02]\n",
      " [  1.38044681e+01   1.88340426e+00   2.42617021e+00   1.70234043e+01\n",
      "    1.05510638e+02   2.86723404e+00   3.01425532e+00   2.85319149e-01\n",
      "    1.91042553e+00   5.70255319e+00   1.07829787e+00   3.11404255e+00\n",
      "    1.19514894e+03]\n",
      " [  1.29298387e+01   2.50403226e+00   2.40806452e+00   1.98903226e+01\n",
      "    1.03596774e+02   2.11112903e+00   1.58403226e+00   3.88387097e-01\n",
      "    1.50338710e+00   5.65032258e+00   8.83967742e-01   2.36548387e+00\n",
      "    7.28338710e+02]]\n",
      " sampling_interval:\n",
      "None\n"
     ]
    }
   ],
   "source": [
    "candidates_array[random.randint(0,number_of_candidates-1)].describe()"
   ]
  },
  {
   "cell_type": "markdown",
   "metadata": {},
   "source": [
    "## Sampling Interval\n",
    "In this step, **first** we should assign each node to the **specific center** then we find **min** and **max** within a specific axis correspond to the features.<br>\n",
    "So we have to first do `kmeans`, then we can calculate `min` and `max` in within each cluster."
   ]
  },
  {
   "cell_type": "code",
   "execution_count": 34,
   "metadata": {},
   "outputs": [],
   "source": [
    "def sampling_intervals_generator(candidate,number_of_clusters):\n",
    "    clusters_list = []\n",
    "    maxes = []\n",
    "    mins = []\n",
    "    for i in range(0,number_of_clusters):\n",
    "        clusters_list.append(candidate.nodes[candidate.labels == i])\n",
    "        maxes.append(np.amax(clusters_list[i],axis=0))\n",
    "        mins.append(np.amin(clusters_list[i],axis=0))\n",
    "    candidate.clusters = clusters_list # update clusters of candidate\n",
    "    return (np.array(maxes),np.array(mins))"
   ]
  },
  {
   "cell_type": "markdown",
   "metadata": {},
   "source": [
    "Now we will implement a function over `sampling_intervals_generator` function. This function get sampling intervals arrays and assign each `(max,min)` tuples to corresponding element in `centers` of any `candidates_array`.<br>\n",
    "We should do this for easily accessing intervals when we trying to shrink them."
   ]
  },
  {
   "cell_type": "code",
   "execution_count": 35,
   "metadata": {},
   "outputs": [],
   "source": [
    "def sampling_intervals(max_min_lists):\n",
    "    maxes, mins = max_min_lists[0],max_min_lists[1]\n",
    "    num_of_centers, num_of_features = maxes.shape[0], maxes.shape[1]\n",
    "    \n",
    "    max_min = np.zeros(shape=(num_of_centers,num_of_features,2)) # array of tuples\n",
    "    \n",
    "    for i in range(num_of_centers):\n",
    "        for j in range(num_of_features):\n",
    "         max_min[i][j] = (maxes[i][j],mins[i][j])     \n",
    "    return np.array(max_min)"
   ]
  },
  {
   "cell_type": "code",
   "execution_count": 36,
   "metadata": {},
   "outputs": [],
   "source": [
    "for c in range(0,number_of_candidates):\n",
    "    candidates_array[c].sampling_interval = sampling_intervals(sampling_intervals_generator(candidates_array[c],number_of_clusters))"
   ]
  },
  {
   "cell_type": "markdown",
   "metadata": {},
   "source": [
    "## Visualizing Candidates\n",
    "In this step, by Kmeans, we assigned centers to each candidates and calculated the fitness of each candidate using fitness function"
   ]
  },
  {
   "cell_type": "code",
   "execution_count": 37,
   "metadata": {},
   "outputs": [
    {
     "name": "stdout",
     "output_type": "stream",
     "text": [
      "Candidate with #178 nodes, #3 centers, fitness=16555.679416032723\n",
      " clusters:\n",
      "[[  1.38200000e+01   1.75000000e+00   2.42000000e+00   1.40000000e+01\n",
      "    1.11000000e+02   3.88000000e+00   3.74000000e+00   3.20000000e-01\n",
      "    1.87000000e+00   7.05000000e+00   1.01000000e+00   3.26000000e+00\n",
      "    1.19000000e+03]\n",
      " [  1.27700000e+01   2.39000000e+00   2.28000000e+00   1.95000000e+01\n",
      "    8.60000000e+01   1.39000000e+00   5.10000000e-01   4.80000000e-01\n",
      "    6.40000000e-01   9.89999900e+00   5.70000000e-01   1.63000000e+00\n",
      "    4.70000000e+02]\n",
      " [  1.27700000e+01   2.39000000e+00   2.28000000e+00   1.95000000e+01\n",
      "    8.60000000e+01   1.39000000e+00   5.10000000e-01   4.80000000e-01\n",
      "    6.40000000e-01   9.89999900e+00   5.70000000e-01   1.63000000e+00\n",
      "    4.70000000e+02]\n",
      " [  1.37100000e+01   5.65000000e+00   2.45000000e+00   2.05000000e+01\n",
      "    9.50000000e+01   1.68000000e+00   6.10000000e-01   5.20000000e-01\n",
      "    1.06000000e+00   7.70000000e+00   6.40000000e-01   1.74000000e+00\n",
      "    7.40000000e+02]\n",
      " [  1.25100000e+01   1.73000000e+00   1.98000000e+00   2.05000000e+01\n",
      "    8.50000000e+01   2.20000000e+00   1.92000000e+00   3.20000000e-01\n",
      "    1.48000000e+00   2.94000000e+00   1.04000000e+00   3.57000000e+00\n",
      "    6.72000000e+02]] \n",
      " Centers:\n",
      "[[  1.25166667e+01   2.49420290e+00   2.28855072e+00   2.08231884e+01\n",
      "    9.23478261e+01   2.07072464e+00   1.75840580e+00   3.90144928e-01\n",
      "    1.45188406e+00   4.08695651e+00   9.41159420e-01   2.49072464e+00\n",
      "    4.58231884e+02]\n",
      " [  1.38044681e+01   1.88340426e+00   2.42617021e+00   1.70234043e+01\n",
      "    1.05510638e+02   2.86723404e+00   3.01425532e+00   2.85319149e-01\n",
      "    1.91042553e+00   5.70255319e+00   1.07829787e+00   3.11404255e+00\n",
      "    1.19514894e+03]\n",
      " [  1.29298387e+01   2.50403226e+00   2.40806452e+00   1.98903226e+01\n",
      "    1.03596774e+02   2.11112903e+00   1.58403226e+00   3.88387097e-01\n",
      "    1.50338710e+00   5.65032258e+00   8.83967742e-01   2.36548387e+00\n",
      "    7.28338710e+02]]\n",
      " sampling_interval:\n",
      "[[[  1.41300000e+01   1.10300000e+01]\n",
      "  [  5.80000000e+00   7.40000000e-01]\n",
      "  [  3.23000000e+00   1.36000000e+00]\n",
      "  [  2.85000000e+01   1.06000000e+01]\n",
      "  [  1.23000000e+02   7.80000000e+01]\n",
      "  [  3.50000000e+00   9.80000000e-01]\n",
      "  [  5.08000000e+00   3.40000000e-01]\n",
      "  [  6.60000000e-01   1.70000000e-01]\n",
      "  [  3.58000000e+00   4.20000000e-01]\n",
      "  [  1.08000000e+01   1.28000000e+00]\n",
      "  [  1.71000000e+00   4.80000000e-01]\n",
      "  [  3.69000000e+00   1.30000000e+00]\n",
      "  [  5.90000000e+02   2.78000000e+02]]\n",
      "\n",
      " [[  1.48300000e+01   1.28500000e+01]\n",
      "  [  4.04000000e+00   1.35000000e+00]\n",
      "  [  2.72000000e+00   2.04000000e+00]\n",
      "  [  3.00000000e+01   1.12000000e+01]\n",
      "  [  1.39000000e+02   8.90000000e+01]\n",
      "  [  3.88000000e+00   2.20000000e+00]\n",
      "  [  3.93000000e+00   2.19000000e+00]\n",
      "  [  5.00000000e-01   1.70000000e-01]\n",
      "  [  2.96000000e+00   1.25000000e+00]\n",
      "  [  8.90000000e+00   3.35000000e+00]\n",
      "  [  1.31000000e+00   8.60000000e-01]\n",
      "  [  4.00000000e+00   2.51000000e+00]\n",
      "  [  1.68000000e+03   9.70000000e+02]]\n",
      "\n",
      " [[  1.43400000e+01   1.14500000e+01]\n",
      "  [  5.65000000e+00   9.40000000e-01]\n",
      "  [  3.22000000e+00   1.70000000e+00]\n",
      "  [  2.70000000e+01   1.32000000e+01]\n",
      "  [  1.62000000e+02   7.00000000e+01]\n",
      "  [  3.52000000e+00   1.10000000e+00]\n",
      "  [  3.75000000e+00   4.70000000e-01]\n",
      "  [  6.30000000e-01   1.30000000e-01]\n",
      "  [  3.28000000e+00   4.10000000e-01]\n",
      "  [  1.30000000e+01   1.74000000e+00]\n",
      "  [  1.31000000e+00   5.40000000e-01]\n",
      "  [  3.82000000e+00   1.27000000e+00]\n",
      "  [  9.37000000e+02   6.00000000e+02]]]\n"
     ]
    }
   ],
   "source": [
    "candidates_array[random.randint(0,number_of_candidates-1)].describe()"
   ]
  },
  {
   "cell_type": "code",
   "execution_count": 38,
   "metadata": {},
   "outputs": [
    {
     "name": "stdout",
     "output_type": "stream",
     "text": [
      "max and min of first feature of first center (max,min)=[ 14.13  11.03]\n"
     ]
    }
   ],
   "source": [
    "print('max and min of first feature of first center (max,min)={}'\n",
    "      .format(candidates_array[random.randint(0,number_of_candidates-1)].sampling_interval[0,0]))"
   ]
  },
  {
   "cell_type": "markdown",
   "metadata": {},
   "source": [
    "## Fitness over Mutated Candidate"
   ]
  },
  {
   "cell_type": "markdown",
   "metadata": {},
   "source": [
    "### Mean Square Distance to a Specific Center\n",
    "This function is exactly based on \"sum_of_squares\" function. But here all centers not engaged because we want to find the sum of square distances of nodes of a cluster to their cluster center.<br>\n",
    "The idea is when mutation process done, at least one dimension may get better center but the other goes bad. So we want to have that center which is better to the previous time."
   ]
  },
  {
   "cell_type": "code",
   "execution_count": 39,
   "metadata": {},
   "outputs": [],
   "source": [
    "def center_dist(data, center, labels, center_position, center_cluster):\n",
    "    sqe = 0\n",
    "    for l in range(0,len(labels)):\n",
    "        if center_cluster == labels[l] :\n",
    "            data_l = data[l][center_position]\n",
    "            resid = data_l - center\n",
    "            sqe += np.sum(np.sqrt(np.sum(resid**2)))\n",
    "    return sqe"
   ]
  },
  {
   "cell_type": "code",
   "execution_count": 40,
   "metadata": {
    "scrolled": true
   },
   "outputs": [
    {
     "name": "stdout",
     "output_type": "stream",
     "text": [
      "[[  3.65066667e+01   7.37762319e+01   1.52985507e+01   1.68330435e+02\n",
      "    5.76608696e+02   3.18336232e+01   4.50252174e+01   7.12985507e+00\n",
      "    2.88194203e+01   1.18098260e+02   1.35904348e+01   4.03078261e+01\n",
      "    4.63637681e+03]\n",
      " [  1.72055319e+01   1.43782979e+01   7.38382979e+00   9.14170213e+01\n",
      "    4.19574468e+02   1.33161702e+01   1.63212766e+01   2.28468085e+00\n",
      "    1.64595745e+01   4.79927660e+01   4.43829787e+00   1.43302128e+01\n",
      "    6.62804255e+03]\n",
      " [  3.61509677e+01   6.12861290e+01   1.34922581e+01   1.30096774e+02\n",
      "    7.61354839e+02   3.08812903e+01   5.30022581e+01   6.92322581e+00\n",
      "    2.81970968e+01   1.38465806e+02   1.25260000e+01   4.24929032e+01\n",
      "    4.95238710e+03]]\n"
     ]
    }
   ],
   "source": [
    "def each_fitness(candidates_array_example):\n",
    "    fitness_of_each_centers = []\n",
    "    for i in range(0,len(candidates_array_example.centers)):\n",
    "        Second_layer = []\n",
    "        for j in range(0,len(candidates_array_example.centers[i])):\n",
    "            Second_layer.append(center_dist(candidates_array_example.nodes,candidates_array_example.centers[i][j],candidates_array_example.labels,j,i))\n",
    "        fitness_of_each_centers.append(Second_layer)\n",
    "    return np.array(fitness_of_each_centers)\n",
    "print(each_fitness(candidates_array[0]))"
   ]
  },
  {
   "cell_type": "markdown",
   "metadata": {},
   "source": [
    "## Mutation Algorithm \n",
    "In this step, we apply mutation algorithm on every single candidates."
   ]
  },
  {
   "cell_type": "markdown",
   "metadata": {},
   "source": [
    "### Candidate Sampler\n",
    "This function, return 3 random candidates. For mutation, we need 3 random candidates who are not same and they are different from the candidate we want to mutate."
   ]
  },
  {
   "cell_type": "code",
   "execution_count": 42,
   "metadata": {},
   "outputs": [],
   "source": [
    "def candidate_sample(number_of_candidates, candidates_array, mutation_target_candidate):\n",
    "    bad_index = candidates_array.index(mutation_target_candidate)\n",
    "    index_of_other_candidates = list(range(number_of_candidates))\n",
    "    index_of_other_candidates.pop(bad_index)\n",
    "    participants_indexes = random.sample(index_of_other_candidates,3)\n",
    "    participants = []\n",
    "    for i in range(len(participants_indexes)):\n",
    "        participants.append(candidates_array[participants_indexes[i]])\n",
    "    return np.array(participants)"
   ]
  },
  {
   "cell_type": "code",
   "execution_count": 43,
   "metadata": {},
   "outputs": [
    {
     "data": {
      "text/plain": [
       "array([<__main__.Candidate object at 0x0000022D3D1CB400>,\n",
       "       <__main__.Candidate object at 0x0000022D3D1CBF28>,\n",
       "       <__main__.Candidate object at 0x0000022D3D1CBE10>], dtype=object)"
      ]
     },
     "execution_count": 43,
     "metadata": {},
     "output_type": "execute_result"
    }
   ],
   "source": [
    "candidate_sample(5,candidates_array, candidates_array[2])"
   ]
  },
  {
   "cell_type": "markdown",
   "metadata": {},
   "source": [
    "The `mutator` function, apply mutation algorithm on a specific `candidate` with list of `participants` who are different candidates."
   ]
  },
  {
   "cell_type": "code",
   "execution_count": 44,
   "metadata": {},
   "outputs": [],
   "source": [
    "def mutator(candidate, participant_candidates, number_of_candidates, gama): \n",
    "    mutant_candidate = deepcopy(candidate) # the candidate who will be mutated\n",
    "    random_number = np.random.rand()\n",
    "    mutant_candidate.centers = participant_candidates[0].centers.flatten() + random_number*(participant_candidates[1].centers.flatten() - participant_candidates[2].centers.flatten())\n",
    "    \n",
    "    print(candidate.centers)\n",
    "    print('=================')\n",
    "    print(mutant_candidate.centers)\n",
    "    \n",
    "    trial_candidate = deepcopy(candidate)\n",
    "    trial_candidate.centers =  trial_candidate.centers.flatten()\n",
    "    \n",
    "    # select mixed features of original and mutant candidate based on the random probability\n",
    "    for i in range(len(trial_candidate.centers)):\n",
    "        if random_number < gama:\n",
    "            trial_candidate.centers[i] = mutant_candidate.centers[i]\n",
    "            \n",
    "    mutant_candidate.centers.shape = candidate.centers.shape # reshape to actual structure (falttened for calculation)\n",
    "    trial_candidate.centers.shape = candidate.centers.shape # reshape to actual structure (falttened for calculation)\n",
    "    \n",
    "    # select mutated candidate or original one based on the better fitness value\n",
    "    new_candidate = None\n",
    "    e_old = sum_of_squares(candidate.nodes, candidate.centers, candidate.labels)\n",
    "    e_trial = sum_of_squares(trial_candidate.nodes, trial_candidate.centers, trial_candidate.labels)\n",
    "    if e_old <= e_trial:\n",
    "        new_candidate = candidate\n",
    "        #print(\"true\")\n",
    "        #print(e_old,'---',e_trial)\n",
    "    else:\n",
    "        new_candidate = trial_candidate\n",
    "    \n",
    "        \n",
    "    return mutant_candidate, trial_candidate, new_candidate"
   ]
  },
  {
   "cell_type": "code",
   "execution_count": 45,
   "metadata": {},
   "outputs": [
    {
     "name": "stdout",
     "output_type": "stream",
     "text": [
      "[[  1.25166667e+01   2.49420290e+00   2.28855072e+00   2.08231884e+01\n",
      "    9.23478261e+01   2.07072464e+00   1.75840580e+00   3.90144928e-01\n",
      "    1.45188406e+00   4.08695651e+00   9.41159420e-01   2.49072464e+00\n",
      "    4.58231884e+02]\n",
      " [  1.38044681e+01   1.88340426e+00   2.42617021e+00   1.70234043e+01\n",
      "    1.05510638e+02   2.86723404e+00   3.01425532e+00   2.85319149e-01\n",
      "    1.91042553e+00   5.70255319e+00   1.07829787e+00   3.11404255e+00\n",
      "    1.19514894e+03]\n",
      " [  1.29298387e+01   2.50403226e+00   2.40806452e+00   1.98903226e+01\n",
      "    1.03596774e+02   2.11112903e+00   1.58403226e+00   3.88387097e-01\n",
      "    1.50338710e+00   5.65032258e+00   8.83967742e-01   2.36548387e+00\n",
      "    7.28338710e+02]]\n",
      "=================\n",
      "[  1.25166667e+01   2.49420290e+00   2.28855072e+00   2.08231884e+01\n",
      "   9.23478261e+01   2.07072464e+00   1.75840580e+00   3.90144928e-01\n",
      "   1.45188406e+00   4.08695651e+00   9.41159420e-01   2.49072464e+00\n",
      "   4.58231884e+02   1.38044681e+01   1.88340426e+00   2.42617021e+00\n",
      "   1.70234043e+01   1.05510638e+02   2.86723404e+00   3.01425532e+00\n",
      "   2.85319149e-01   1.91042553e+00   5.70255319e+00   1.07829787e+00\n",
      "   3.11404255e+00   1.19514894e+03   1.29298387e+01   2.50403226e+00\n",
      "   2.40806452e+00   1.98903226e+01   1.03596774e+02   2.11112903e+00\n",
      "   1.58403226e+00   3.88387097e-01   1.50338710e+00   5.65032258e+00\n",
      "   8.83967742e-01   2.36548387e+00   7.28338710e+02]\n"
     ]
    }
   ],
   "source": [
    "mut, tri , new = mutator(candidates_array[0], candidate_sample(5,candidates_array, candidates_array[2]),5, 0.7)"
   ]
  },
  {
   "cell_type": "code",
   "execution_count": 41,
   "metadata": {},
   "outputs": [
    {
     "name": "stdout",
     "output_type": "stream",
     "text": [
      "16555.679416\n",
      "=============\n",
      "16555.679416\n",
      "=============\n",
      "16555.679416\n",
      "=============\n",
      "16555.679416\n",
      "=============\n",
      "16555.679416\n",
      "=============\n"
     ]
    }
   ],
   "source": [
    "for c in candidates_array:\n",
    "    print(c.fitness)\n",
    "    print(\"=============\")"
   ]
  },
  {
   "cell_type": "code",
   "execution_count": null,
   "metadata": {},
   "outputs": [],
   "source": []
  },
  {
   "cell_type": "code",
   "execution_count": null,
   "metadata": {},
   "outputs": [],
   "source": [
    "'''def mutation(candidate_array,mutation_random):\n",
    "    New_candidate = copy.deepcopy(candidate_array)\n",
    "    Mutant_candidate = copy.deepcopy(candidate_array)\n",
    "    Trial_candidate = copy.deepcopy(candidate_array)\n",
    "    for x in range(len(candidate_array)):\n",
    "        a = np.full(len(candidate_array), 1/(len(candidate_array)-1))\n",
    "        a[x] = 0\n",
    "        temp = np.random.choice(len(candidate_array), 3, replace = False, p=a)\n",
    "        for i in range(len(candidate_array[0].centers)):\n",
    "            for j in range(len(candidate_array[0].centers[i])):\n",
    "                Mutant_candidate[x].centers[i][j] = candidate_array[temp[0]].centers[i][j]+ random.random()*(candidate_array[temp[1]].centers[i][j] - candidate_array[temp[2]].centers[i][j])\n",
    "                if random.random() < mutation_random:\n",
    "                    Trial_candidate[x].centers[i][j] = Mutant_candidate[x].centers[i][j] #Trial & Mutant must be copy of same candidate\n",
    "                    \n",
    "                    \n",
    "        Trial_candidate[x].fitness = sum_of_squares(Trial_candidate[x].nodes,Trial_candidate[x].centers,Trial_candidate[x].labels)\n",
    "        \n",
    "        if Trial_candidate[x].fitness < sum_of_squares(candidate_array[x].nodes,candidates_array[2].centers,candidates_array[2].labels):\n",
    "            New_candidate[x] = Trial_candidate[x]\n",
    "            print(\"sakjfnr\")\n",
    "        else:\n",
    "            New_candidate[x] = candidate_array[x]\n",
    "        #print(Trial_candidate[x].centers)\n",
    "        #print(candidate_array[x].centers)\n",
    "        #print(New_candidate[x].centers)\n",
    "        #print(Mutant_candidate[x].centers)\n",
    "        print(\"###########################################################################################################\")\n",
    "        Trial_candidate[x].each_fitness = each_fitness(Trial_candidate[x])\n",
    "        print(Trial_candidate[x].each_fitness)\n",
    "        candidate_array[x].each_fitness = each_fitness(candidate_array[x])\n",
    "        print(candidate_array[x].each_fitness)\n",
    "        print(\"###########################################################################################################\")\n",
    "        \n",
    "    return New_candidate\n",
    "#print(candidates_array[1].fitness)\n",
    "#for i in range(0,3500):\n",
    "New_candidates_array = mutation(candidates_array,mutation_random)\n",
    "    #if New_candidates_array[1].fitness != candidates_array[1].fitness:\n",
    "     #   print(New_candidates_array[1].fitness)#never happen'''"
   ]
  },
  {
   "cell_type": "code",
   "execution_count": null,
   "metadata": {},
   "outputs": [],
   "source": [
    "def mutation(candidate_array,mutation_random):\n",
    "    New_candidate = copy.deepcopy(candidate_array)\n",
    "    Trial_candidate = copy.deepcopy(candidate_array)\n",
    "    for x in range(len(candidate_array)):\n",
    "        a = np.full(len(candidate_array), 1/(len(candidate_array)-1))\n",
    "        a[x] = 0\n",
    "        temp = np.random.choice(len(candidate_array), 3, replace = False, p=a)\n",
    "        Centers = []\n",
    "        for i in range(len(candidate_array[0].centers)):\n",
    "            Second_layer = []\n",
    "            for j in range(len(candidate_array[0].centers[i])):\n",
    "                temporary_Center = candidate_array[temp[0]].centers[i][j]+ random.random()*(candidate_array[temp[1]].centers[i][j] - candidate_array[temp[2]].centers[i][j])\n",
    "                if random.random() < mutation_random:\n",
    "                    Second_layer.append(temporary_Center) #Trial & Mutant must be copy of same candidate\n",
    "                else:\n",
    "                    Second_layer.append(candidate_array[x].centers[i][j])\n",
    "            Centers.append(Second_layer)\n",
    "            \n",
    "        \n",
    "        y_predict_temp,centers_temp,fitness_temp = doKmeans(candidate_array[x].nodes,clusters_count = number_of_clusters, init_centers = np.asarray(Centers))\n",
    "        if fitness_temp < candidates_array[x].fitness:\n",
    "            New_candidate[x].labels  =  y_predict_temp\n",
    "            New_candidate[x].fitness = fitness_temp\n",
    "            New_candidate[x].centers = centers_temp\n",
    "        New_candidate[x].each_fitness = each_fitness(New_candidate[c])\n",
    "        print(New_candidate[x].fitness)\n",
    "        print(candidate_array[x].fitness)\n",
    "        print(\"#############################################################################################\")\n",
    "    return New_candidate\n",
    "\n",
    "New_candidates_array = mutation(candidates_array,mutation_random)"
   ]
  },
  {
   "cell_type": "markdown",
   "metadata": {},
   "source": [
    "# Probability Equation"
   ]
  },
  {
   "cell_type": "code",
   "execution_count": null,
   "metadata": {},
   "outputs": [],
   "source": [
    "def probability(candidates):\n",
    "    for c in range(0,len(candidates)):\n",
    "        temp_array = []\n",
    "        for clusters in range(0,len(candidates[c].centers)):\n",
    "            temp_array.append((1/np.sum(candidates[c].each_fitness[clusters]))/(np.sum(1/(np.sum(x.each_fitness[clusters])) for x in candidates)))\n",
    "        print(temp_array)    \n",
    "        candidates[c].probability = temp_array\n",
    "    return\n",
    "probability(New_candidates_array)\n"
   ]
  },
  {
   "cell_type": "markdown",
   "metadata": {},
   "source": [
    "### Roulette Wheel Selection\n",
    "This is a logic for selecting targets with higher probability.<br>\n",
    "In this article, each candidate want to follow the other candidate with higher fitness. So in the previous section <strong><em>Probability Equation<strong><em>, we calculated all probabilities of candidates based on their fitnesses."
   ]
  },
  {
   "cell_type": "code",
   "execution_count": null,
   "metadata": {},
   "outputs": [],
   "source": [
    "def roulette_wheel_selection(inertia_array):\n",
    "    maximum = np.sum(inertia_array)\n",
    "    pick = random.uniform(0, maximum)\n",
    "    current = 0\n",
    "    for fitness in inertia_array:\n",
    "        current += fitness\n",
    "        if current > pick:\n",
    "            return fitness"
   ]
  },
  {
   "cell_type": "markdown",
   "metadata": {},
   "source": [
    "# Shrink sampling interval\n",
    "**here we shrink sampeling interval using reduction factor ro creat neighborhood of each center**"
   ]
  },
  {
   "cell_type": "code",
   "execution_count": null,
   "metadata": {},
   "outputs": [],
   "source": [
    "def shrinked_sampling_interval(candidates_array):\n",
    "    for i in range(0,len(candidates_array)):\n",
    "        shrinked_sampling_interval = []\n",
    "        for j in range(0,len(candidates_array[i].centers)):\n",
    "            Second_layer = []\n",
    "            for k in range(0,len(candidates_array[i].centers[j])):\n",
    "                Third_layer = []\n",
    "                Temp = abs(candidates_array[i].sampling_interval[0][k] - candidates_array[i].sampling_interval[1][k]) * sampling_interval_reduction_factor\n",
    "                Third_layer.append(candidates_array[i].centers[j][k] - (Temp/2))\n",
    "                Third_layer.append(candidates_array[i].centers[j][k] + (Temp/2))\n",
    "                Second_layer.append(Third_layer)\n",
    "            shrinked_sampling_interval.append(Second_layer)\n",
    "        candidates_array[i].sampling_interval = shrinked_sampling_interval\n",
    "    return\n",
    "shrinked_sampling_interval(New_candidates_array)\n",
    "print(New_candidates_array[0].sampling_interval)"
   ]
  },
  {
   "cell_type": "markdown",
   "metadata": {},
   "source": [
    "# variations\n",
    "**Choose t diffrent random center of each cluster's center in shrinked sampling interval neghborhood**"
   ]
  },
  {
   "cell_type": "code",
   "execution_count": null,
   "metadata": {},
   "outputs": [],
   "source": [
    "def variation(candidates_array):\n",
    "    for candidate in candidates_array:\n",
    "        variations = []\n",
    "        for i in range(0,variations_count):\n",
    "            Second_layer = []\n",
    "            for j in candidate.sampling_interval:\n",
    "                Third_layer = []\n",
    "                for k in range(0,len(j)):\n",
    "                    #print(k)\n",
    "                    Third_layer.append(random.uniform(j[k][0],j[k][1]))\n",
    "                Second_layer.append(Third_layer)\n",
    "            variations.append(Second_layer)\n",
    "        candidate.variation = variations    \n",
    "variation(New_candidates_array)\n",
    "print(New_candidates_array[3].variation[1])"
   ]
  },
  {
   "cell_type": "code",
   "execution_count": null,
   "metadata": {},
   "outputs": [],
   "source": []
  },
  {
   "cell_type": "code",
   "execution_count": null,
   "metadata": {},
   "outputs": [],
   "source": []
  }
 ],
 "metadata": {
  "kernelspec": {
   "display_name": "Python 3",
   "language": "python",
   "name": "python3"
  },
  "language_info": {
   "codemirror_mode": {
    "name": "ipython",
    "version": 3
   },
   "file_extension": ".py",
   "mimetype": "text/x-python",
   "name": "python",
   "nbconvert_exporter": "python",
   "pygments_lexer": "ipython3",
   "version": "3.6.6"
  }
 },
 "nbformat": 4,
 "nbformat_minor": 2
}
