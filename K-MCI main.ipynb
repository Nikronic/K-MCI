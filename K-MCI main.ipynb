{
 "cells": [
  {
   "cell_type": "markdown",
   "metadata": {},
   "source": [
    "# K-MCI\n",
    "### Intro\n",
    "In this notebook we have the main algorithm of the article. All necessary functions are implemented in function.py file.<br>\n",
    "This document have blow sections:<br>\n",
    "1. Importing Libraries & classes\n",
    "2. Reading datasets\n",
    "3. Preprocessing datasets\n",
    "4. Main Algorithm"
   ]
  },
  {
   "cell_type": "markdown",
   "metadata": {},
   "source": [
    "### Importing Libraries & classes\n",
    "We import some libraries from third party."
   ]
  },
  {
   "cell_type": "code",
   "execution_count": 34,
   "metadata": {},
   "outputs": [],
   "source": [
    "import pandas as pd\n",
    "import numpy as np\n",
    "from sklearn.cluster import KMeans\n",
    "import random\n",
    "import copy\n",
    "from sklearn import preprocessing"
   ]
  },
  {
   "cell_type": "code",
   "execution_count": 35,
   "metadata": {},
   "outputs": [],
   "source": [
    "# defnition of Candidate class\n",
    "class Candidate:    \n",
    "    def __init__(self,nodes,sampling_interval,fitness=-1):\n",
    "        self.nodes = nodes\n",
    "        self.sampling_interval = sampling_interval \n",
    "        self.variation = []\n",
    "        self.random_number\n",
    "        self.fitness = fitness\n",
    "        self.centers = []\n",
    "        self.probability = []\n",
    "        self.labels = []\n",
    "        self.each_fitness = []\n",
    "        \n",
    "    def random_number(self):\n",
    "        self.random_number = random.random()\n",
    "        \n",
    "    def describe(self):\n",
    "        print(\"Candidate with #{} nodes, #{} centers, fitness={}\\n clusters:\\n{} \\n Centers:\\n{}\\n sampling_interval:\\n{}\"\n",
    "              .format(len(self.nodes),len(self.centers),self.fitness,self.nodes[np.random.randint(self.nodes.shape[0], size=5), :],self.centers,self.sampling_interval))"
   ]
  },
  {
   "cell_type": "markdown",
   "metadata": {},
   "source": [
    "### Reading Datasets and Preprocessing\n",
    "We show the structure of our data for all of datasets.<br>\n",
    "We have these datasets from UCI Machine Learning Repository:\n",
    "1. Breast Cancer Wisconsin\n",
    "2. Contraceptive Method Choice data\n",
    "3. Glass\n",
    "4. Iris\n",
    "5. Vowel\n",
    "6. Wine"
   ]
  },
  {
   "cell_type": "code",
   "execution_count": 36,
   "metadata": {},
   "outputs": [],
   "source": [
    "\"\"\" In this cell we have some code which will do preprocessing for us on all datasets \"\"\"\n",
    "\"\"\" the resourses of these datasets are mentioned in README.md file. \"\"\"\n",
    "\n",
    "path = 'datasets/' \n",
    "# because we are using local files, you need to download datasets and change the \"path\" variable\n",
    "# local folder of your downloaded datasets\n",
    "\n",
    "\n",
    "def bcw(): \n",
    "    # importing dataset\n",
    "    dataset = pd.read_csv(path+'bcw.csv',\n",
    "                          names = ['Sample code number','Clump Thickness','Uniformity of Cell Size',\n",
    "                                   'Uniformity of Cell Shape','Marginal Adhesion','Single Epithelial',\n",
    "                                   'Bare Nuclei','Bland Chromatin','Normal Nucleoli','Mitoses','Class'])\n",
    "    dataset = dataset.drop(dataset.columns[0], axis=1)\n",
    "    dataset= dataset.replace(to_replace='?',value=np.nan)\n",
    "    dataset = dataset.dropna(axis =0) # resolving missing values\n",
    "    dataset = dataset.astype('int64') # casting string valued column to int64\n",
    "    x = dataset.iloc[:,:-1].values # features\n",
    "    y = dataset.iloc[:,-1].values # target values\n",
    "    return (x,y,dataset)\n",
    "\n",
    "\n",
    "def cmc():\n",
    "    # importing dataset\n",
    "    dataset = pd.read_csv(path+'cmc.csv', names=[\"Wife's age\",\"Wife's education\",\"Husband's education\",\n",
    "                                                 \"Number of children ever born\",\"Wife's religion\",\n",
    "                                                 \"Wife's now working?\",\"Husband's occupation\",\n",
    "                                                 \"Standard-of-living index\",\"Media exposure\",\"Contraceptive method used\"])\n",
    "    x = dataset.iloc[:,:-1].values # features\n",
    "    y = dataset.iloc[:,-1].values # target values\n",
    "    return (x,y,dataset)\n",
    "\n",
    "\n",
    "def glass():\n",
    "    # importing dataset\n",
    "    dataset = pd.read_csv(path+'glass.csv', names= ['Id','refractive index','Sodium','Magnesium','Aluminum','Silicon','Potassium'\n",
    "                                                    ,'Calcium','Barium','Iron','glass'])\n",
    "    x = dataset.iloc[:,1:10].values # features\n",
    "    y = dataset.iloc[:,-1].values # target values\n",
    "    return (x,y,dataset)\n",
    "\n",
    "\n",
    "def iris():\n",
    "    # importing dataset\n",
    "    dataset = pd.read_csv(path+'iris.csv', names= ['sepal length','sepal width','petal length','petal width','class'])\n",
    "    x = dataset.iloc[:,:-1].values # features\n",
    "    y = dataset.iloc[:,-1].values # target values\n",
    "    \n",
    "    # encoding categorial data types to labelEncoder\n",
    "    from sklearn.preprocessing import LabelEncoder\n",
    "    labelencoder_y = LabelEncoder()\n",
    "    labelencoder_y = labelencoder_y.fit(y)\n",
    "    y = labelencoder_y.transform(y)  # 0 for 'Iris-setosa', 1 for 'Iris-versicolor', 2 for 'Iris-virginica'\n",
    "    return (x,y,dataset)\n",
    "\n",
    "\n",
    "def vowel():\n",
    "    # importing dataset\n",
    "    dataset = pd.read_csv(path+'vowel.csv', names= ['vowel','type 1 frq','type 2 frq','type 3 frq'])\n",
    "    x = dataset.iloc[:,1:].values # features\n",
    "    y = dataset.iloc[:,0].values # target values\n",
    "    return (x,y,dataset)\n",
    "\n",
    "def wine():\n",
    "    # importing dataset\n",
    "    dataset = pd.read_csv(path+'wine.csv', names= ['class','Alcohol','Malic acid','Ash','Alcalinity of ash','Magnesium','Total phenols','Flavanoids','Nonflavanoid phenols','Proanthocyanins','Color intensity','Hue','OD280/OD315','Proline'])\n",
    "    x = dataset.iloc[:,1:].values # features\n",
    "    y = dataset.iloc[:,0].values # target values\n",
    "    return (x,y,dataset)"
   ]
  },
  {
   "cell_type": "code",
   "execution_count": 37,
   "metadata": {
    "scrolled": true
   },
   "outputs": [],
   "source": [
    "# Getting data from our preprocessing class Datasets\n",
    "x_bcw, y_bcw, df_bcw = bcw()\n",
    "x_cmc, y_cmc, df_cmc = cmc()\n",
    "x_glass, y_glass, df_glass = glass()\n",
    "x_iris, y_iris, df_iris = iris()\n",
    "x_vowel, y_vowel, df_vowel = vowel()\n",
    "x_wine, y_wine, df_wine = wine()"
   ]
  },
  {
   "cell_type": "code",
   "execution_count": 38,
   "metadata": {},
   "outputs": [
    {
     "data": {
      "text/html": [
       "<div>\n",
       "<style scoped>\n",
       "    .dataframe tbody tr th:only-of-type {\n",
       "        vertical-align: middle;\n",
       "    }\n",
       "\n",
       "    .dataframe tbody tr th {\n",
       "        vertical-align: top;\n",
       "    }\n",
       "\n",
       "    .dataframe thead th {\n",
       "        text-align: right;\n",
       "    }\n",
       "</style>\n",
       "<table border=\"1\" class=\"dataframe\">\n",
       "  <thead>\n",
       "    <tr style=\"text-align: right;\">\n",
       "      <th></th>\n",
       "      <th>Clump Thickness</th>\n",
       "      <th>Uniformity of Cell Size</th>\n",
       "      <th>Uniformity of Cell Shape</th>\n",
       "      <th>Marginal Adhesion</th>\n",
       "      <th>Single Epithelial</th>\n",
       "      <th>Bare Nuclei</th>\n",
       "      <th>Bland Chromatin</th>\n",
       "      <th>Normal Nucleoli</th>\n",
       "      <th>Mitoses</th>\n",
       "      <th>Class</th>\n",
       "    </tr>\n",
       "  </thead>\n",
       "  <tbody>\n",
       "    <tr>\n",
       "      <th>0</th>\n",
       "      <td>5</td>\n",
       "      <td>1</td>\n",
       "      <td>1</td>\n",
       "      <td>1</td>\n",
       "      <td>2</td>\n",
       "      <td>1</td>\n",
       "      <td>3</td>\n",
       "      <td>1</td>\n",
       "      <td>1</td>\n",
       "      <td>2</td>\n",
       "    </tr>\n",
       "    <tr>\n",
       "      <th>1</th>\n",
       "      <td>5</td>\n",
       "      <td>4</td>\n",
       "      <td>4</td>\n",
       "      <td>5</td>\n",
       "      <td>7</td>\n",
       "      <td>10</td>\n",
       "      <td>3</td>\n",
       "      <td>2</td>\n",
       "      <td>1</td>\n",
       "      <td>2</td>\n",
       "    </tr>\n",
       "    <tr>\n",
       "      <th>2</th>\n",
       "      <td>3</td>\n",
       "      <td>1</td>\n",
       "      <td>1</td>\n",
       "      <td>1</td>\n",
       "      <td>2</td>\n",
       "      <td>2</td>\n",
       "      <td>3</td>\n",
       "      <td>1</td>\n",
       "      <td>1</td>\n",
       "      <td>2</td>\n",
       "    </tr>\n",
       "  </tbody>\n",
       "</table>\n",
       "</div>"
      ],
      "text/plain": [
       "   Clump Thickness  Uniformity of Cell Size  Uniformity of Cell Shape  \\\n",
       "0                5                        1                         1   \n",
       "1                5                        4                         4   \n",
       "2                3                        1                         1   \n",
       "\n",
       "   Marginal Adhesion  Single Epithelial  Bare Nuclei  Bland Chromatin  \\\n",
       "0                  1                  2            1                3   \n",
       "1                  5                  7           10                3   \n",
       "2                  1                  2            2                3   \n",
       "\n",
       "   Normal Nucleoli  Mitoses  Class  \n",
       "0                1        1      2  \n",
       "1                2        1      2  \n",
       "2                1        1      2  "
      ]
     },
     "execution_count": 38,
     "metadata": {},
     "output_type": "execute_result"
    }
   ],
   "source": [
    "# Showing dataset of Breast Cancer Wisconsin\n",
    "df_bcw.head(3)"
   ]
  },
  {
   "cell_type": "code",
   "execution_count": 39,
   "metadata": {},
   "outputs": [
    {
     "data": {
      "text/html": [
       "<div>\n",
       "<style scoped>\n",
       "    .dataframe tbody tr th:only-of-type {\n",
       "        vertical-align: middle;\n",
       "    }\n",
       "\n",
       "    .dataframe tbody tr th {\n",
       "        vertical-align: top;\n",
       "    }\n",
       "\n",
       "    .dataframe thead th {\n",
       "        text-align: right;\n",
       "    }\n",
       "</style>\n",
       "<table border=\"1\" class=\"dataframe\">\n",
       "  <thead>\n",
       "    <tr style=\"text-align: right;\">\n",
       "      <th></th>\n",
       "      <th>Wife's age</th>\n",
       "      <th>Wife's education</th>\n",
       "      <th>Husband's education</th>\n",
       "      <th>Number of children ever born</th>\n",
       "      <th>Wife's religion</th>\n",
       "      <th>Wife's now working?</th>\n",
       "      <th>Husband's occupation</th>\n",
       "      <th>Standard-of-living index</th>\n",
       "      <th>Media exposure</th>\n",
       "      <th>Contraceptive method used</th>\n",
       "    </tr>\n",
       "  </thead>\n",
       "  <tbody>\n",
       "    <tr>\n",
       "      <th>0</th>\n",
       "      <td>24</td>\n",
       "      <td>2</td>\n",
       "      <td>3</td>\n",
       "      <td>3</td>\n",
       "      <td>1</td>\n",
       "      <td>1</td>\n",
       "      <td>2</td>\n",
       "      <td>3</td>\n",
       "      <td>0</td>\n",
       "      <td>1</td>\n",
       "    </tr>\n",
       "    <tr>\n",
       "      <th>1</th>\n",
       "      <td>45</td>\n",
       "      <td>1</td>\n",
       "      <td>3</td>\n",
       "      <td>10</td>\n",
       "      <td>1</td>\n",
       "      <td>1</td>\n",
       "      <td>3</td>\n",
       "      <td>4</td>\n",
       "      <td>0</td>\n",
       "      <td>1</td>\n",
       "    </tr>\n",
       "    <tr>\n",
       "      <th>2</th>\n",
       "      <td>43</td>\n",
       "      <td>2</td>\n",
       "      <td>3</td>\n",
       "      <td>7</td>\n",
       "      <td>1</td>\n",
       "      <td>1</td>\n",
       "      <td>3</td>\n",
       "      <td>4</td>\n",
       "      <td>0</td>\n",
       "      <td>1</td>\n",
       "    </tr>\n",
       "  </tbody>\n",
       "</table>\n",
       "</div>"
      ],
      "text/plain": [
       "   Wife's age  Wife's education  Husband's education  \\\n",
       "0          24                 2                    3   \n",
       "1          45                 1                    3   \n",
       "2          43                 2                    3   \n",
       "\n",
       "   Number of children ever born  Wife's religion  Wife's now working?  \\\n",
       "0                             3                1                    1   \n",
       "1                            10                1                    1   \n",
       "2                             7                1                    1   \n",
       "\n",
       "   Husband's occupation  Standard-of-living index  Media exposure  \\\n",
       "0                     2                         3               0   \n",
       "1                     3                         4               0   \n",
       "2                     3                         4               0   \n",
       "\n",
       "   Contraceptive method used  \n",
       "0                          1  \n",
       "1                          1  \n",
       "2                          1  "
      ]
     },
     "execution_count": 39,
     "metadata": {},
     "output_type": "execute_result"
    }
   ],
   "source": [
    "# Showing dataset of Contraceptive Method Choice data\n",
    "df_cmc.head(3)"
   ]
  },
  {
   "cell_type": "code",
   "execution_count": 40,
   "metadata": {},
   "outputs": [
    {
     "data": {
      "text/html": [
       "<div>\n",
       "<style scoped>\n",
       "    .dataframe tbody tr th:only-of-type {\n",
       "        vertical-align: middle;\n",
       "    }\n",
       "\n",
       "    .dataframe tbody tr th {\n",
       "        vertical-align: top;\n",
       "    }\n",
       "\n",
       "    .dataframe thead th {\n",
       "        text-align: right;\n",
       "    }\n",
       "</style>\n",
       "<table border=\"1\" class=\"dataframe\">\n",
       "  <thead>\n",
       "    <tr style=\"text-align: right;\">\n",
       "      <th></th>\n",
       "      <th>Id</th>\n",
       "      <th>refractive index</th>\n",
       "      <th>Sodium</th>\n",
       "      <th>Magnesium</th>\n",
       "      <th>Aluminum</th>\n",
       "      <th>Silicon</th>\n",
       "      <th>Potassium</th>\n",
       "      <th>Calcium</th>\n",
       "      <th>Barium</th>\n",
       "      <th>Iron</th>\n",
       "      <th>glass</th>\n",
       "    </tr>\n",
       "  </thead>\n",
       "  <tbody>\n",
       "    <tr>\n",
       "      <th>0</th>\n",
       "      <td>1</td>\n",
       "      <td>1.52101</td>\n",
       "      <td>13.64</td>\n",
       "      <td>4.49</td>\n",
       "      <td>1.10</td>\n",
       "      <td>71.78</td>\n",
       "      <td>0.06</td>\n",
       "      <td>8.75</td>\n",
       "      <td>0.0</td>\n",
       "      <td>0.0</td>\n",
       "      <td>1</td>\n",
       "    </tr>\n",
       "    <tr>\n",
       "      <th>1</th>\n",
       "      <td>2</td>\n",
       "      <td>1.51761</td>\n",
       "      <td>13.89</td>\n",
       "      <td>3.60</td>\n",
       "      <td>1.36</td>\n",
       "      <td>72.73</td>\n",
       "      <td>0.48</td>\n",
       "      <td>7.83</td>\n",
       "      <td>0.0</td>\n",
       "      <td>0.0</td>\n",
       "      <td>1</td>\n",
       "    </tr>\n",
       "    <tr>\n",
       "      <th>2</th>\n",
       "      <td>3</td>\n",
       "      <td>1.51618</td>\n",
       "      <td>13.53</td>\n",
       "      <td>3.55</td>\n",
       "      <td>1.54</td>\n",
       "      <td>72.99</td>\n",
       "      <td>0.39</td>\n",
       "      <td>7.78</td>\n",
       "      <td>0.0</td>\n",
       "      <td>0.0</td>\n",
       "      <td>1</td>\n",
       "    </tr>\n",
       "  </tbody>\n",
       "</table>\n",
       "</div>"
      ],
      "text/plain": [
       "   Id  refractive index  Sodium  Magnesium  Aluminum  Silicon  Potassium  \\\n",
       "0   1           1.52101   13.64       4.49      1.10    71.78       0.06   \n",
       "1   2           1.51761   13.89       3.60      1.36    72.73       0.48   \n",
       "2   3           1.51618   13.53       3.55      1.54    72.99       0.39   \n",
       "\n",
       "   Calcium  Barium  Iron  glass  \n",
       "0     8.75     0.0   0.0      1  \n",
       "1     7.83     0.0   0.0      1  \n",
       "2     7.78     0.0   0.0      1  "
      ]
     },
     "execution_count": 40,
     "metadata": {},
     "output_type": "execute_result"
    }
   ],
   "source": [
    "# Showing dataset of Glass\n",
    "df_glass.head(3)"
   ]
  },
  {
   "cell_type": "code",
   "execution_count": 41,
   "metadata": {},
   "outputs": [
    {
     "data": {
      "text/html": [
       "<div>\n",
       "<style scoped>\n",
       "    .dataframe tbody tr th:only-of-type {\n",
       "        vertical-align: middle;\n",
       "    }\n",
       "\n",
       "    .dataframe tbody tr th {\n",
       "        vertical-align: top;\n",
       "    }\n",
       "\n",
       "    .dataframe thead th {\n",
       "        text-align: right;\n",
       "    }\n",
       "</style>\n",
       "<table border=\"1\" class=\"dataframe\">\n",
       "  <thead>\n",
       "    <tr style=\"text-align: right;\">\n",
       "      <th></th>\n",
       "      <th>sepal length</th>\n",
       "      <th>sepal width</th>\n",
       "      <th>petal length</th>\n",
       "      <th>petal width</th>\n",
       "      <th>class</th>\n",
       "    </tr>\n",
       "  </thead>\n",
       "  <tbody>\n",
       "    <tr>\n",
       "      <th>0</th>\n",
       "      <td>5.1</td>\n",
       "      <td>3.5</td>\n",
       "      <td>1.4</td>\n",
       "      <td>0.2</td>\n",
       "      <td>Iris-setosa</td>\n",
       "    </tr>\n",
       "    <tr>\n",
       "      <th>1</th>\n",
       "      <td>4.9</td>\n",
       "      <td>3.0</td>\n",
       "      <td>1.4</td>\n",
       "      <td>0.2</td>\n",
       "      <td>Iris-setosa</td>\n",
       "    </tr>\n",
       "    <tr>\n",
       "      <th>2</th>\n",
       "      <td>4.7</td>\n",
       "      <td>3.2</td>\n",
       "      <td>1.3</td>\n",
       "      <td>0.2</td>\n",
       "      <td>Iris-setosa</td>\n",
       "    </tr>\n",
       "  </tbody>\n",
       "</table>\n",
       "</div>"
      ],
      "text/plain": [
       "   sepal length  sepal width  petal length  petal width        class\n",
       "0           5.1          3.5           1.4          0.2  Iris-setosa\n",
       "1           4.9          3.0           1.4          0.2  Iris-setosa\n",
       "2           4.7          3.2           1.3          0.2  Iris-setosa"
      ]
     },
     "execution_count": 41,
     "metadata": {},
     "output_type": "execute_result"
    }
   ],
   "source": [
    "# Showing dataset of Iris\n",
    "df_iris.head(3)"
   ]
  },
  {
   "cell_type": "code",
   "execution_count": 42,
   "metadata": {},
   "outputs": [
    {
     "data": {
      "text/html": [
       "<div>\n",
       "<style scoped>\n",
       "    .dataframe tbody tr th:only-of-type {\n",
       "        vertical-align: middle;\n",
       "    }\n",
       "\n",
       "    .dataframe tbody tr th {\n",
       "        vertical-align: top;\n",
       "    }\n",
       "\n",
       "    .dataframe thead th {\n",
       "        text-align: right;\n",
       "    }\n",
       "</style>\n",
       "<table border=\"1\" class=\"dataframe\">\n",
       "  <thead>\n",
       "    <tr style=\"text-align: right;\">\n",
       "      <th></th>\n",
       "      <th>vowel</th>\n",
       "      <th>type 1 frq</th>\n",
       "      <th>type 2 frq</th>\n",
       "      <th>type 3 frq</th>\n",
       "    </tr>\n",
       "  </thead>\n",
       "  <tbody>\n",
       "    <tr>\n",
       "      <th>0</th>\n",
       "      <td>1</td>\n",
       "      <td>700</td>\n",
       "      <td>1500</td>\n",
       "      <td>2600</td>\n",
       "    </tr>\n",
       "    <tr>\n",
       "      <th>1</th>\n",
       "      <td>1</td>\n",
       "      <td>550</td>\n",
       "      <td>1550</td>\n",
       "      <td>2400</td>\n",
       "    </tr>\n",
       "    <tr>\n",
       "      <th>2</th>\n",
       "      <td>1</td>\n",
       "      <td>700</td>\n",
       "      <td>1500</td>\n",
       "      <td>2600</td>\n",
       "    </tr>\n",
       "  </tbody>\n",
       "</table>\n",
       "</div>"
      ],
      "text/plain": [
       "   vowel  type 1 frq  type 2 frq  type 3 frq\n",
       "0      1         700        1500        2600\n",
       "1      1         550        1550        2400\n",
       "2      1         700        1500        2600"
      ]
     },
     "execution_count": 42,
     "metadata": {},
     "output_type": "execute_result"
    }
   ],
   "source": [
    "# Showing dataset of Vowel\n",
    "df_vowel.head(3)"
   ]
  },
  {
   "cell_type": "code",
   "execution_count": 43,
   "metadata": {
    "scrolled": false
   },
   "outputs": [
    {
     "data": {
      "text/html": [
       "<div>\n",
       "<style scoped>\n",
       "    .dataframe tbody tr th:only-of-type {\n",
       "        vertical-align: middle;\n",
       "    }\n",
       "\n",
       "    .dataframe tbody tr th {\n",
       "        vertical-align: top;\n",
       "    }\n",
       "\n",
       "    .dataframe thead th {\n",
       "        text-align: right;\n",
       "    }\n",
       "</style>\n",
       "<table border=\"1\" class=\"dataframe\">\n",
       "  <thead>\n",
       "    <tr style=\"text-align: right;\">\n",
       "      <th></th>\n",
       "      <th>class</th>\n",
       "      <th>Alcohol</th>\n",
       "      <th>Malic acid</th>\n",
       "      <th>Ash</th>\n",
       "      <th>Alcalinity of ash</th>\n",
       "      <th>Magnesium</th>\n",
       "      <th>Total phenols</th>\n",
       "      <th>Flavanoids</th>\n",
       "      <th>Nonflavanoid phenols</th>\n",
       "      <th>Proanthocyanins</th>\n",
       "      <th>Color intensity</th>\n",
       "      <th>Hue</th>\n",
       "      <th>OD280/OD315</th>\n",
       "      <th>Proline</th>\n",
       "    </tr>\n",
       "  </thead>\n",
       "  <tbody>\n",
       "    <tr>\n",
       "      <th>0</th>\n",
       "      <td>1</td>\n",
       "      <td>14.23</td>\n",
       "      <td>1.71</td>\n",
       "      <td>2.43</td>\n",
       "      <td>15.6</td>\n",
       "      <td>127</td>\n",
       "      <td>2.80</td>\n",
       "      <td>3.06</td>\n",
       "      <td>0.28</td>\n",
       "      <td>2.29</td>\n",
       "      <td>5.64</td>\n",
       "      <td>1.04</td>\n",
       "      <td>3.92</td>\n",
       "      <td>1065</td>\n",
       "    </tr>\n",
       "    <tr>\n",
       "      <th>1</th>\n",
       "      <td>1</td>\n",
       "      <td>13.20</td>\n",
       "      <td>1.78</td>\n",
       "      <td>2.14</td>\n",
       "      <td>11.2</td>\n",
       "      <td>100</td>\n",
       "      <td>2.65</td>\n",
       "      <td>2.76</td>\n",
       "      <td>0.26</td>\n",
       "      <td>1.28</td>\n",
       "      <td>4.38</td>\n",
       "      <td>1.05</td>\n",
       "      <td>3.40</td>\n",
       "      <td>1050</td>\n",
       "    </tr>\n",
       "    <tr>\n",
       "      <th>2</th>\n",
       "      <td>1</td>\n",
       "      <td>13.16</td>\n",
       "      <td>2.36</td>\n",
       "      <td>2.67</td>\n",
       "      <td>18.6</td>\n",
       "      <td>101</td>\n",
       "      <td>2.80</td>\n",
       "      <td>3.24</td>\n",
       "      <td>0.30</td>\n",
       "      <td>2.81</td>\n",
       "      <td>5.68</td>\n",
       "      <td>1.03</td>\n",
       "      <td>3.17</td>\n",
       "      <td>1185</td>\n",
       "    </tr>\n",
       "  </tbody>\n",
       "</table>\n",
       "</div>"
      ],
      "text/plain": [
       "   class  Alcohol  Malic acid   Ash  Alcalinity of ash  Magnesium  \\\n",
       "0      1    14.23        1.71  2.43               15.6        127   \n",
       "1      1    13.20        1.78  2.14               11.2        100   \n",
       "2      1    13.16        2.36  2.67               18.6        101   \n",
       "\n",
       "   Total phenols  Flavanoids  Nonflavanoid phenols  Proanthocyanins  \\\n",
       "0           2.80        3.06                  0.28             2.29   \n",
       "1           2.65        2.76                  0.26             1.28   \n",
       "2           2.80        3.24                  0.30             2.81   \n",
       "\n",
       "   Color intensity   Hue  OD280/OD315  Proline  \n",
       "0             5.64  1.04         3.92     1065  \n",
       "1             4.38  1.05         3.40     1050  \n",
       "2             5.68  1.03         3.17     1185  "
      ]
     },
     "execution_count": 43,
     "metadata": {},
     "output_type": "execute_result"
    }
   ],
   "source": [
    "# Showing dataset of Wine\n",
    "df_wine.head(3)"
   ]
  },
  {
   "cell_type": "markdown",
   "metadata": {},
   "source": [
    "### Standardization\n",
    "In this cell, we standard our data using this equation: <img src='http://3.bp.blogspot.com/_xqXlcaQiGRk/RpO4yR0oKtI/AAAAAAAAABM/7rUWCMwizus/s200/fig2.png'></img>"
   ]
  },
  {
   "cell_type": "code",
   "execution_count": 44,
   "metadata": {},
   "outputs": [
    {
     "name": "stderr",
     "output_type": "stream",
     "text": [
      "C:\\Users\\HaMeD\\Anaconda3\\lib\\site-packages\\sklearn\\utils\\validation.py:475: DataConversionWarning: Data with input dtype int64 was converted to float64 by the scale function.\n",
      "  warnings.warn(msg, DataConversionWarning)\n"
     ]
    }
   ],
   "source": [
    "x_bcw = preprocessing.scale(x_bcw)\n",
    "x_wine = preprocessing.scale(x_wine)\n",
    "x_cmc = preprocessing.scale(x_cmc)\n",
    "#x_glass = preprocessing.scale(x_glass)\n",
    "x_iris = preprocessing.scale(x_iris)\n",
    "x_vowel = preprocessing.scale(x_vowel)"
   ]
  },
  {
   "cell_type": "markdown",
   "metadata": {},
   "source": [
    "# Main Algorithm \n",
    "\n",
    "The implementation of main algorithm have below sections:\n",
    "1. <Strong>Initializing Parameters and Candidates</Strong>\n",
    "    1. Sampling Interval\n",
    "    2. Apply Random Centers to Candidates\n",
    "    3. Visualizing Candidates\n",
    "2. <Strong>Running Kmean to Exploit</Strong>\n",
    "    1. K-means Algorithm\n",
    "    2. Visualizing Candidates\n",
    "3. <Strong>Mutation Algorithm</Strong>\n",
    "    1. Fitness over Mutated Candidate\n",
    "    2. Probablility Equation\n",
    "    3. Mutation Logic\n",
    "\n",
    "**Extra details will be explain in other next sections**\n"
   ]
  },
  {
   "cell_type": "markdown",
   "metadata": {},
   "source": [
    "## Initializing Parameters and Candidates\n",
    "In this step, we initialize our algorithm. There are some parameters which are important to convergance speed and quality of solution. So we initialize them here based on the paper.<br>\n",
    "Each time you want to run K-MCI algorithm, you should first do this initialization.<br>"
   ]
  },
  {
   "cell_type": "code",
   "execution_count": 45,
   "metadata": {},
   "outputs": [],
   "source": [
    "# notice: this values related to IRIS dataset\n",
    "candidates_array = [] # the array of all candidates\n",
    "number_of_candidates = 5\n",
    "sampling_interval_reduction_factor = 0.95\n",
    "convergence_parameter = None # what is this in paper???\n",
    "mutation_random = 0.7\n",
    "iterations_count = 3500\n",
    "variations_count = 15\n",
    "number_of_clusters = 6 # in this article number of clusters are predefined"
   ]
  },
  {
   "cell_type": "markdown",
   "metadata": {},
   "source": [
    "## Sampling Interval\n",
    "this function use for making sampling_interval\n"
   ]
  },
  {
   "cell_type": "code",
   "execution_count": 46,
   "metadata": {},
   "outputs": [],
   "source": [
    "def sampling_intervals(input_array):\n",
    "    Maxes = np.amax(input_array,axis=0)\n",
    "    Mins  = np.amin(input_array,axis=0)\n",
    "    return (Maxes,Mins)"
   ]
  },
  {
   "cell_type": "code",
   "execution_count": 47,
   "metadata": {},
   "outputs": [],
   "source": [
    "# initializing candidates\n",
    "for i in range(0 ,number_of_candidates):\n",
    "    candidates_array.append(Candidate(x_glass,sampling_interval = sampling_intervals(x_glass)))"
   ]
  },
  {
   "cell_type": "markdown",
   "metadata": {},
   "source": [
    "## Visualizing Candidates\n",
    "some parameters are uninitialized. They will have value after running Kmean and Cohort and mutations."
   ]
  },
  {
   "cell_type": "code",
   "execution_count": 48,
   "metadata": {
    "scrolled": false
   },
   "outputs": [
    {
     "name": "stdout",
     "output_type": "stream",
     "text": [
      "Candidate with #214 nodes, #0 centers, fitness=-1\n",
      " clusters:\n",
      "[[ 1.51763 12.61     3.59     1.31    73.29     0.58     8.5      0.\n",
      "   0.     ]\n",
      " [ 1.52152 13.12     3.58     0.9     72.2      0.23     9.82     0.\n",
      "   0.16   ]\n",
      " [ 1.51915 12.73     1.85     1.86    72.69     0.6     10.09     0.\n",
      "   0.     ]\n",
      " [ 1.51755 12.71     3.42     1.2     73.2      0.59     8.64     0.\n",
      "   0.     ]\n",
      " [ 1.51754 13.39     3.66     1.19    72.79     0.57     8.27     0.\n",
      "   0.11   ]] \n",
      " Centers:\n",
      "[]\n",
      " sampling_interval:\n",
      "(array([ 1.53393, 17.38   ,  4.49   ,  3.5    , 75.41   ,  6.21   ,\n",
      "       16.19   ,  3.15   ,  0.51   ]), array([ 1.51115, 10.73   ,  0.     ,  0.29   , 69.81   ,  0.     ,\n",
      "        5.43   ,  0.     ,  0.     ]))\n"
     ]
    }
   ],
   "source": [
    "candidates_array[random.randint(0,number_of_candidates-1)].describe()"
   ]
  },
  {
   "cell_type": "markdown",
   "metadata": {},
   "source": [
    "## Apply Random Centers to Candidates\n",
    "In this step, we just select some random nodes as centers with psuedorandom functions in python native library."
   ]
  },
  {
   "cell_type": "code",
   "execution_count": 49,
   "metadata": {},
   "outputs": [
    {
     "name": "stdout",
     "output_type": "stream",
     "text": [
      "[[ 1.51623 14.14     0.       2.88    72.61     0.08     9.18     1.06\n",
      "   0.     ]\n",
      " [ 1.5161  13.42     3.4      1.22    72.69     0.59     8.32     0.\n",
      "   0.     ]\n",
      " [ 1.51818 13.72     0.       0.56    74.45     0.      10.99     0.\n",
      "   0.     ]\n",
      " [ 1.52664 11.23     0.       0.77    73.21     0.      14.68     0.\n",
      "   0.     ]\n",
      " [ 1.52119 12.97     0.33     1.51    73.39     0.13    11.27     0.\n",
      "   0.28   ]\n",
      " [ 1.51829 13.24     3.9      1.41    72.33     0.55     8.31     0.\n",
      "   0.1    ]]\n",
      "[[1.51589e+00 1.28800e+01 3.43000e+00 1.40000e+00 7.32800e+01 6.90000e-01\n",
      "  8.05000e+00 0.00000e+00 2.40000e-01]\n",
      " [1.52300e+00 1.33100e+01 3.58000e+00 8.20000e-01 7.19900e+01 1.20000e-01\n",
      "  1.01700e+01 0.00000e+00 3.00000e-02]\n",
      " [1.51618e+00 1.30100e+01 3.50000e+00 1.48000e+00 7.28900e+01 6.00000e-01\n",
      "  8.12000e+00 0.00000e+00 0.00000e+00]\n",
      " [1.51215e+00 1.29900e+01 3.47000e+00 1.12000e+00 7.29800e+01 6.20000e-01\n",
      "  8.35000e+00 0.00000e+00 3.10000e-01]\n",
      " [1.51719e+00 1.47500e+01 0.00000e+00 2.00000e+00 7.30200e+01 0.00000e+00\n",
      "  8.53000e+00 1.59000e+00 8.00000e-02]\n",
      " [1.51617e+00 1.49500e+01 0.00000e+00 2.27000e+00 7.33000e+01 0.00000e+00\n",
      "  8.71000e+00 6.70000e-01 0.00000e+00]]\n",
      "[[ 1.51631 13.34     3.57     1.57    72.87     0.61     7.89     0.\n",
      "   0.     ]\n",
      " [ 1.51602 14.85     0.       2.38    73.28     0.       8.76     0.64\n",
      "   0.09   ]\n",
      " [ 1.519   13.49     3.48     1.35    71.95     0.55     9.       0.\n",
      "   0.     ]\n",
      " [ 1.51784 12.68     3.67     1.16    73.11     0.61     8.7      0.\n",
      "   0.     ]\n",
      " [ 1.5232  13.72     3.72     0.51    71.75     0.09    10.06     0.\n",
      "   0.16   ]\n",
      " [ 1.51763 12.61     3.59     1.31    73.29     0.58     8.5      0.\n",
      "   0.     ]]\n",
      "[[ 1.52315 13.44     3.34     1.23    72.38     0.6      8.83     0.\n",
      "   0.     ]\n",
      " [ 1.51645 13.44     3.61     1.54    72.39     0.66     8.03     0.\n",
      "   0.     ]\n",
      " [ 1.52172 13.51     3.86     0.88    71.79     0.23     9.54     0.\n",
      "   0.11   ]\n",
      " [ 1.51869 13.19     3.37     1.18    72.72     0.57     8.83     0.\n",
      "   0.16   ]\n",
      " [ 1.52171 11.56     1.88     1.56    72.86     0.47    11.41     0.\n",
      "   0.     ]\n",
      " [ 1.5182  12.62     2.76     0.83    73.81     0.35     9.42     0.\n",
      "   0.2    ]]\n",
      "[[ 1.51666 12.86     0.       1.83    73.88     0.97    10.17     0.\n",
      "   0.     ]\n",
      " [ 1.51841 12.93     3.74     1.11    72.28     0.64     8.96     0.\n",
      "   0.22   ]\n",
      " [ 1.51618 13.53     3.55     1.54    72.99     0.39     7.78     0.\n",
      "   0.     ]\n",
      " [ 1.51977 13.81     3.58     1.32    71.72     0.12     8.67     0.69\n",
      "   0.     ]\n",
      " [ 1.51764 12.98     3.54     1.21    73.       0.65     8.53     0.\n",
      "   0.     ]\n",
      " [ 1.52081 13.78     2.28     1.43    71.99     0.49     9.85     0.\n",
      "   0.17   ]]\n"
     ]
    }
   ],
   "source": [
    "for c in range(0,number_of_candidates):\n",
    "    candidates_array[c].centers =  np.asarray(random.sample(list(candidates_array[c].nodes),number_of_clusters))\n",
    "    print(candidates_array[c].centers)"
   ]
  },
  {
   "cell_type": "markdown",
   "metadata": {},
   "source": [
    "## K-means Algorithm \n",
    "this function fitting k-means model on dataset"
   ]
  },
  {
   "cell_type": "code",
   "execution_count": 50,
   "metadata": {},
   "outputs": [],
   "source": [
    "def doKmeans(x,clusters_count,init_centers):\n",
    "    kmeans = KMeans(n_clusters = clusters_count, init = init_centers,n_init = 50)\n",
    "    kmeans = kmeans.fit(x)\n",
    "    labels = kmeans.labels_\n",
    "    return (labels,kmeans.cluster_centers_,kmeans.inertia_)\n"
   ]
  },
  {
   "cell_type": "markdown",
   "metadata": {},
   "source": [
    "## Running Kmean to Exploit\n",
    "Here by running Kmean on all of our candidates, they centers initialized and nodes assigns to clusters based on Kmean++ algorithm.<br>\n",
    "The objective function of Kmean is also the object function of K-MCI. <br>\n",
    "So the fitness of any candidates is calculated using Kmean inertia or mean square error of nodes to their centers distances."
   ]
  },
  {
   "cell_type": "code",
   "execution_count": 51,
   "metadata": {},
   "outputs": [
    {
     "name": "stderr",
     "output_type": "stream",
     "text": [
      "C:\\Users\\HaMeD\\Anaconda3\\lib\\site-packages\\sklearn\\cluster\\k_means_.py:896: RuntimeWarning: Explicit initial center position passed: performing only one init in k-means instead of n_init=50\n",
      "  return_n_iter=True)\n"
     ]
    },
    {
     "data": {
      "text/plain": [
       "array([3, 3, 3, 3, 5, 5, 5, 5, 3, 5, 5, 5, 5, 5, 5, 5, 5, 2, 3, 5, 5, 2,\n",
       "       5, 5, 3, 5, 3, 5, 5, 5, 5, 5, 5, 5, 5, 3, 3, 5, 2, 2, 5, 5, 3, 2,\n",
       "       5, 3, 3, 2, 2, 3, 2, 3, 3, 5, 5, 5, 5, 5, 3, 3, 3, 3, 2, 2, 2, 2,\n",
       "       2, 2, 2, 2, 3, 3, 5, 3, 5, 5, 3, 5, 3, 5, 5, 5, 3, 5, 3, 3, 5, 3,\n",
       "       5, 5, 3, 5, 5, 5, 5, 3, 3, 5, 5, 5, 5, 5, 5, 2, 2, 4, 4, 4, 4, 1,\n",
       "       4, 4, 4, 3, 3, 3, 3, 3, 3, 3, 3, 5, 5, 3, 3, 3, 5, 2, 2, 2, 4, 4,\n",
       "       3, 3, 3, 3, 5, 5, 5, 5, 3, 3, 5, 5, 5, 5, 3, 3, 3, 5, 3, 2, 3, 3,\n",
       "       5, 5, 3, 2, 3, 3, 3, 3, 2, 0, 2, 4, 4, 4, 1, 4, 4, 0, 0, 4, 2, 4,\n",
       "       2, 2, 2, 2, 1, 1, 1, 1, 1, 0, 0, 3, 2, 2, 1, 1, 1, 1, 1, 1, 1, 1,\n",
       "       1, 1, 1, 1, 1, 1, 1, 1, 1, 1, 1, 1, 1, 1, 1, 1])"
      ]
     },
     "execution_count": 51,
     "metadata": {},
     "output_type": "execute_result"
    }
   ],
   "source": [
    "\n",
    "for c in range(0,number_of_candidates):\n",
    "    y_predict_temp,centers_temp,fitness_temp = doKmeans(candidates_array[c].nodes,clusters_count = number_of_clusters,init_centers = candidates_array[c].centers)\n",
    "    candidates_array[c].centers = centers_temp\n",
    "    candidates_array[c].fitness = fitness_temp\n",
    "    candidates_array[c].labels   = y_predict_temp\n",
    "    \n",
    "candidates_array[2].labels"
   ]
  },
  {
   "cell_type": "markdown",
   "metadata": {},
   "source": [
    "## Visualizing Candidates\n",
    "In this step, by Kmeans, we assigned centers to each candidates and calculated the fitness of each candidate using inertia"
   ]
  },
  {
   "cell_type": "code",
   "execution_count": 52,
   "metadata": {},
   "outputs": [
    {
     "name": "stdout",
     "output_type": "stream",
     "text": [
      "Candidate with #214 nodes, #6 centers, fitness=422.75478626330533\n",
      " clusters:\n",
      "[[1.51593e+00 1.32500e+01 3.45000e+00 1.43000e+00 7.31700e+01 6.10000e-01\n",
      "  7.86000e+00 0.00000e+00 0.00000e+00]\n",
      " [1.51735e+00 1.30200e+01 3.54000e+00 1.69000e+00 7.27300e+01 5.40000e-01\n",
      "  8.44000e+00 0.00000e+00 7.00000e-02]\n",
      " [1.51508e+00 1.51500e+01 0.00000e+00 2.25000e+00 7.35000e+01 0.00000e+00\n",
      "  8.34000e+00 6.30000e-01 0.00000e+00]\n",
      " [1.51841e+00 1.30200e+01 3.62000e+00 1.06000e+00 7.23400e+01 6.40000e-01\n",
      "  9.13000e+00 0.00000e+00 1.50000e-01]\n",
      " [1.51775e+00 1.28500e+01 3.48000e+00 1.23000e+00 7.29700e+01 6.10000e-01\n",
      "  8.56000e+00 9.00000e-02 2.20000e-01]] \n",
      " Centers:\n",
      "[[ 1.51608107e+00  1.45557143e+01  1.53571429e-01  2.19357143e+00\n",
      "   7.31192857e+01  5.09285714e-01  8.46357143e+00  9.16428571e-01\n",
      "   1.39285714e-02]\n",
      " [ 1.51720569e+00  1.31300813e+01  3.49422764e+00  1.40170732e+00\n",
      "   7.28017886e+01  5.96991870e-01  8.31504065e+00  4.47967480e-02\n",
      "   6.33333333e-02]\n",
      " [ 1.51776500e+00  1.32725000e+01  0.00000000e+00  1.03500000e+00\n",
      "   7.42475000e+01  9.17500000e-01  1.03275000e+01  0.00000000e+00\n",
      "   0.00000000e+00]\n",
      " [ 1.52826714e+00  1.18671429e+01 -4.44089210e-16  1.21857143e+00\n",
      "   7.16728571e+01  2.51428571e-01  1.43157143e+01  4.50000000e-01\n",
      "   1.37142857e-01]\n",
      " [ 1.52086462e+00  1.30907692e+01  7.49230769e-01  1.62538462e+00\n",
      "   7.27053846e+01  3.73846154e-01  1.12138462e+01  1.84615385e-02\n",
      "   8.07692308e-02]\n",
      " [ 1.52111436e+00  1.38558974e+01  3.35025641e+00  1.06615385e+00\n",
      "   7.18325641e+01  2.15128205e-01  9.48102564e+00  7.43589744e-02\n",
      "   5.15384615e-02]]\n",
      " sampling_interval:\n",
      "(array([ 1.53393, 17.38   ,  4.49   ,  3.5    , 75.41   ,  6.21   ,\n",
      "       16.19   ,  3.15   ,  0.51   ]), array([ 1.51115, 10.73   ,  0.     ,  0.29   , 69.81   ,  0.     ,\n",
      "        5.43   ,  0.     ,  0.     ]))\n"
     ]
    }
   ],
   "source": [
    "candidates_array[random.randint(0,number_of_candidates-1)].describe()"
   ]
  },
  {
   "cell_type": "code",
   "execution_count": 53,
   "metadata": {},
   "outputs": [
    {
     "data": {
      "text/plain": [
       "422.7547862633054"
      ]
     },
     "execution_count": 53,
     "metadata": {},
     "output_type": "execute_result"
    }
   ],
   "source": [
    "sum_of_squares(candidates_array[0].nodes,candidates_array[0].centers,candidates_array[0].labels)"
   ]
  },
  {
   "cell_type": "markdown",
   "metadata": {},
   "source": [
    "## Fitness over Mutated Candidate\n",
    "Just simple sum of square of distances"
   ]
  },
  {
   "cell_type": "code",
   "execution_count": 54,
   "metadata": {},
   "outputs": [],
   "source": [
    "def sum_of_squares(data, centroids, labels):\n",
    "    sqe = 0\n",
    "    for l in np.unique(labels):\n",
    "        data_l = data[labels == l]\n",
    "        resid = data_l - centroids[l]\n",
    "        sqe += (resid**2).sum()\n",
    "    return sqe"
   ]
  },
  {
   "cell_type": "markdown",
   "metadata": {},
   "source": [
    "### Mean Square Distance to a Specific Center\n",
    "This function is exactly based on \"sum_of_squares\" function. But here all centers not engaged because we want to find the sum of square distances of nodes of a cluster to their cluster center.<br>\n",
    "The idea is when mutation process done, at least one dimension may get better center but the other goes bad. So we want to have that center which is better to the previous time."
   ]
  },
  {
   "cell_type": "code",
   "execution_count": 55,
   "metadata": {},
   "outputs": [],
   "source": [
    "def center_dist(data, center, labels, center_position, center_cluster):\n",
    "    sqe = 0\n",
    "    for l in range(0,len(labels)):\n",
    "        if center_cluster == labels[l] :\n",
    "            data_l = data[l][center_position]\n",
    "            resid = data_l - center\n",
    "            sqe += (resid**2)\n",
    "    return sqe"
   ]
  },
  {
   "cell_type": "code",
   "execution_count": 56,
   "metadata": {
    "scrolled": true
   },
   "outputs": [
    {
     "name": "stdout",
     "output_type": "stream",
     "text": [
      "[[9.45934679e-05 1.60774857e+01 6.14404286e+00 8.21964286e+00\n",
      "  2.21415857e+01 7.18919857e+01 1.90280429e+01 1.33504429e+01\n",
      "  2.46678571e-02]\n",
      " [2.28067816e-04 2.10570992e+01 7.90740163e+00 1.13263415e+01\n",
      "  2.59042065e+01 5.30378699e+00 3.80946748e+01 8.71766992e+00\n",
      "  1.15813333e+00]\n",
      " [6.62410000e-06 3.77707500e+00 0.00000000e+00 1.10730000e+00\n",
      "  1.63467500e+00 4.86367500e+00 3.21327500e+00 0.00000000e+00\n",
      "  0.00000000e+00]\n",
      " [6.15245429e-05 6.73474286e+00 1.38050658e-30 2.00388571e+00\n",
      "  1.06771429e+01 6.04085714e-01 7.02357143e+00 8.50500000e+00\n",
      "  1.29942857e-01]\n",
      " [2.06685231e-05 1.13744923e+01 8.12709231e+00 1.12252308e+00\n",
      "  4.10992308e+00 5.42507692e-01 7.21790769e+00 5.31692308e-02\n",
      "  2.92492308e-01]\n",
      " [1.77721959e-04 1.08077436e+01 1.57272974e+01 6.34252308e+00\n",
      "  1.13241436e+01 1.73517436e+00 1.38715590e+01 3.19035897e+00\n",
      "  2.93707692e-01]]\n"
     ]
    }
   ],
   "source": [
    "def each_fitness(candidates_array_example):\n",
    "    fitness_of_each_centers = []\n",
    "    for i in range(0,len(candidates_array_example.centers)):\n",
    "        Second_layer = []\n",
    "        for j in range(0,len(candidates_array_example.centers[i])):\n",
    "            Second_layer.append(center_dist(candidates_array_example.nodes,candidates_array_example.centers[i][j],candidates_array_example.labels,j,i))\n",
    "        fitness_of_each_centers.append(Second_layer)\n",
    "    return np.array(fitness_of_each_centers)\n",
    "print(each_fitness(candidates_array[0]))"
   ]
  },
  {
   "cell_type": "markdown",
   "metadata": {},
   "source": [
    "# test paper own answer\n",
    "## result:\n",
    "**paper has wrong answer and numbers**"
   ]
  },
  {
   "cell_type": "code",
   "execution_count": 57,
   "metadata": {},
   "outputs": [
    {
     "name": "stdout",
     "output_type": "stream",
     "text": [
      "[3, 4, 4, 4, 4, 4, 4, 4, 4, 4, 4, 4, 4, 4, 4, 4, 4, 3, 3, 4, 4, 3, 4, 4, 4, 4, 4, 4, 4, 4, 4, 4, 4, 4, 4, 4, 3, 4, 3, 3, 4, 4, 4, 3, 4, 3, 4, 3, 3, 3, 3, 3, 4, 4, 4, 4, 4, 4, 4, 4, 4, 3, 3, 3, 3, 3, 3, 3, 3, 3, 4, 4, 4, 4, 4, 4, 4, 4, 4, 4, 4, 4, 4, 4, 4, 4, 4, 4, 4, 4, 4, 4, 4, 4, 4, 4, 4, 4, 4, 4, 4, 4, 4, 3, 3, 0, 0, 0, 1, 1, 0, 0, 0, 4, 4, 4, 4, 4, 4, 4, 4, 4, 4, 4, 4, 4, 4, 3, 3, 1, 1, 0, 4, 4, 4, 4, 4, 4, 4, 4, 4, 4, 4, 4, 4, 4, 4, 4, 4, 4, 4, 3, 4, 4, 4, 4, 4, 3, 3, 3, 3, 3, 3, 2, 1, 1, 1, 1, 1, 1, 1, 2, 2, 1, 1, 1, 3, 3, 3, 3, 5, 5, 1, 1, 5, 4, 4, 4, 3, 3, 5, 5, 5, 5, 5, 5, 5, 5, 5, 5, 5, 1, 5, 5, 5, 5, 5, 5, 5, 5, 5, 5, 5, 5]\n",
      "343.7814274034\n",
      "422.75478626330533\n"
     ]
    }
   ],
   "source": [
    "def just_test(data,center):\n",
    "    temp1 = np.subtract(center,data)\n",
    "    temp1 = np.power(temp1, 2)\n",
    "    sqe = np.sum(temp1)\n",
    "    return sqe\n",
    "\n",
    "\n",
    "center =[[1.52434 , 12.03344 , 0.01215 , 1.12869 , 71.98256 , 0.19252 , 14.34306 , 0.23039 , 0.15156],\n",
    "         [1.51956 , 13.25068 , 0.45229 , 1.53305 , 73.01401 , 0.38472 , 11.15803 , 0.00433 , 0.06599],\n",
    "         [1.51362 , 13.15690 , 0.65548 , 3.13123 , 70.50411 , 5.33024 , 6.73773  , 0.67322 , 0.01490],\n",
    "         [1.52132 , 13.74692 , 3.51952 , 1.01524 , 71.89517 , 0.21094 , 9.44764  , 0.03588 , 0.04680],\n",
    "         [1.51933 , 13.08412 , 3.52765 , 1.36555 , 72.85826 , 0.57913 , 8.36271  , 0.00837 , 0.06182],\n",
    "         [1.51567 , 14.65825 , 0.06326 , 2.21016 , 73.25324 , 0.02744 , 8.68548  , 1.02698 , 0.00382]]\n",
    "\n",
    "label = []\n",
    "for i in x_glass:\n",
    "    test = []\n",
    "    for j in center:\n",
    "        test.append(just_test(i,j))\n",
    "    label.append(np.argmin(test))\n",
    "    \n",
    "print(label)    \n",
    "print(sum_of_squares(x_glass,center,label))\n",
    "print(candidates_array[0].fitness)"
   ]
  },
  {
   "cell_type": "markdown",
   "metadata": {},
   "source": [
    "## Mutation algorithm \n",
    "this function do mutation algorithm on candidates interval's centers"
   ]
  },
  {
   "cell_type": "code",
   "execution_count": 58,
   "metadata": {
    "scrolled": true
   },
   "outputs": [
    {
     "name": "stdout",
     "output_type": "stream",
     "text": [
      "###########################################################################################################\n",
      "[[9.46048196e-05 1.60774857e+01 3.36320965e+02 8.22306330e+00\n",
      "  3.64038997e+01 3.34540043e+02 1.11571790e+02 1.33504429e+01\n",
      "  2.47281142e-02]\n",
      " [2.05832288e-02 2.10570992e+01 7.90740163e+00 1.13263415e+01\n",
      "  1.29457753e+02 5.30378699e+00 5.89266273e+03 2.41522731e+01\n",
      "  1.96348785e+00]\n",
      " [5.80975499e-05 4.30550233e+00 9.18258373e+00 1.10730000e+00\n",
      "  4.22570351e+01 3.10851726e+01 3.21327500e+00 4.16464779e+00\n",
      "  5.90656467e-04]\n",
      " [6.15245429e-05 4.08535767e+01 8.02454075e+01 2.21294296e+00\n",
      "  1.08646286e+01 6.04085714e-01 1.67123312e+02 9.44744529e+00\n",
      "  1.29942857e-01]\n",
      " [2.76586046e-04 1.13744923e+01 1.22141917e+01 1.12252308e+00\n",
      "  8.28135082e+00 1.51733335e+00 7.21790769e+00 5.31692308e-02\n",
      "  3.41934749e-01]\n",
      " [2.10705998e-04 1.08077436e+01 2.31301935e+01 8.11386812e+00\n",
      "  4.53335029e+01 6.37350156e+00 1.38715590e+01 3.19035897e+00\n",
      "  2.93707692e-01]]\n",
      "[[9.45934679e-05 1.60774857e+01 6.14404286e+00 8.21964286e+00\n",
      "  2.21415857e+01 7.18919857e+01 1.90280429e+01 1.33504429e+01\n",
      "  2.46678571e-02]\n",
      " [2.28067816e-04 2.10570992e+01 7.90740163e+00 1.13263415e+01\n",
      "  2.59042065e+01 5.30378699e+00 3.80946748e+01 8.71766992e+00\n",
      "  1.15813333e+00]\n",
      " [6.62410000e-06 3.77707500e+00 0.00000000e+00 1.10730000e+00\n",
      "  1.63467500e+00 4.86367500e+00 3.21327500e+00 0.00000000e+00\n",
      "  0.00000000e+00]\n",
      " [6.15245429e-05 6.73474286e+00 1.38050658e-30 2.00388571e+00\n",
      "  1.06771429e+01 6.04085714e-01 7.02357143e+00 8.50500000e+00\n",
      "  1.29942857e-01]\n",
      " [2.06685231e-05 1.13744923e+01 8.12709231e+00 1.12252308e+00\n",
      "  4.10992308e+00 5.42507692e-01 7.21790769e+00 5.31692308e-02\n",
      "  2.92492308e-01]\n",
      " [1.77721959e-04 1.08077436e+01 1.57272974e+01 6.34252308e+00\n",
      "  1.13241436e+01 1.73517436e+00 1.38715590e+01 3.19035897e+00\n",
      "  2.93707692e-01]]\n",
      "###########################################################################################################\n",
      "###########################################################################################################\n",
      "[[6.22611542e-04 1.91249566e+01 2.64875472e+02 1.39111525e+02\n",
      "  1.59914699e+01 9.77707603e+02 1.76827463e+01 6.32662218e+01\n",
      "  1.18486504e+00]\n",
      " [1.02256933e-03 6.73474286e+00 2.28214083e+00 2.91969914e+01\n",
      "  1.06771429e+01 6.04085714e-01 7.02357143e+00 8.50500000e+00\n",
      "  2.75121016e-01]\n",
      " [5.20205329e-04 4.14371252e+00 1.11157801e+02 1.78920741e+01\n",
      "  4.92772000e+00 8.27000142e+01 1.98032000e+00 8.00281477e+00\n",
      "  5.47121312e-02]\n",
      " [1.53769689e-04 3.51322557e+01 1.56860306e+01 9.30927473e+00\n",
      "  4.46824273e+01 1.46816389e+00 1.31442276e+03 3.17343056e+00\n",
      "  3.37834181e-01]\n",
      " [2.16079074e-03 1.48132040e+02 6.09324615e+00 2.97754164e+01\n",
      "  3.37818645e+01 2.38831237e+00 8.52223641e+02 2.27239896e+01\n",
      "  2.42500000e-02]\n",
      " [5.66806235e-05 1.55474704e+01 4.11410012e+01 9.16418448e+00\n",
      "  3.19716502e+01 6.31024706e+00 1.80469106e+02 1.86405073e-01\n",
      "  3.12447059e-01]]\n",
      "[[1.92855007e-04 1.89945626e+01 7.12522602e+00 6.43253659e+00\n",
      "  1.59914699e+01 2.12076260e+00 1.76827463e+01 7.06699187e-02\n",
      "  1.18486504e+00]\n",
      " [6.15245429e-05 6.73474286e+00 1.38050658e-30 2.00388571e+00\n",
      "  1.06771429e+01 6.04085714e-01 7.02357143e+00 8.50500000e+00\n",
      "  1.29942857e-01]\n",
      " [2.87618000e-05 1.39068000e+00 1.13420800e+01 1.87888000e+00\n",
      "  4.92772000e+00 2.51833200e+01 1.98032000e+00 3.87292000e+00\n",
      "  0.00000000e+00]\n",
      " [1.53769689e-04 1.03466889e+01 1.56860306e+01 5.80167500e+00\n",
      "  1.04690889e+01 1.46816389e+00 1.27162972e+01 3.17343056e+00\n",
      "  2.52675000e-01]\n",
      " [7.65274154e-05 1.09312462e+01 6.09324615e+00 6.71258462e+00\n",
      "  8.33861538e+00 1.89598462e+00 1.40606962e+01 1.15415538e+01\n",
      "  2.42500000e-02]\n",
      " [5.66806235e-05 1.52525882e+01 9.84415294e+00 3.29598824e+00\n",
      "  1.30188471e+01 6.31024706e+00 1.28342235e+01 5.42117647e-02\n",
      "  3.12447059e-01]]\n",
      "###########################################################################################################\n",
      "###########################################################################################################\n",
      "[[4.20505348e-05 2.65093400e+01 4.42036215e+01 1.87888009e+00\n",
      "  3.26804119e+01 2.51833200e+01 3.52729916e+01 3.92341681e+00\n",
      "  6.75411085e-04]\n",
      " [1.20025272e-04 5.56759949e+01 6.92599118e+02 1.69522253e+01\n",
      "  1.34671548e+01 1.77321930e+01 3.19890000e+01 3.64349839e+01\n",
      "  8.87197231e-02]\n",
      " [6.07060800e-04 1.22829219e+01 2.16421875e+01 7.45280000e+00\n",
      "  2.01544650e+02 1.42498750e+00 9.22562187e+00 2.95290000e+00\n",
      "  4.48571875e-01]\n",
      " [7.36833456e-03 6.01650492e+00 3.26690492e+00 4.53597371e+00\n",
      "  5.36152625e+01 6.46346388e+00 2.15304843e+03 5.01068852e-01\n",
      "  4.53232787e-01]\n",
      " [2.62101375e-04 2.37886831e+01 6.40738386e+01 2.66869375e+00\n",
      "  1.92252281e+01 3.47874498e+00 8.72545206e+01 1.44222362e+01\n",
      "  2.50665381e-01]\n",
      " [6.52900638e-05 3.75191594e+00 4.13082899e+00 1.07856625e+01\n",
      "  2.25978075e+02 1.95841799e+01 5.53789432e+02 5.58741123e-01\n",
      "  7.48455261e-01]]\n",
      "[[2.87618000e-05 1.39068000e+00 1.13420800e+01 1.87888000e+00\n",
      "  4.92772000e+00 2.51833200e+01 1.98032000e+00 3.87292000e+00\n",
      "  0.00000000e+00]\n",
      " [9.74069677e-05 2.16338774e+01 6.20794839e+00 1.19816774e+01\n",
      "  1.34671548e+01 9.27774194e+00 3.19890000e+01 1.56261419e+01\n",
      "  2.51935484e-02]\n",
      " [1.22133147e-04 1.22829219e+01 2.16421875e+01 7.40928750e+00\n",
      "  1.11758219e+01 1.42498750e+00 9.22562187e+00 2.80302187e+00\n",
      "  4.48571875e-01]\n",
      " [1.32955626e-04 6.01650492e+00 3.26690492e+00 3.36225902e+00\n",
      "  6.90567541e+00 2.02733115e+00 1.05999639e+01 5.01068852e-01\n",
      "  4.53232787e-01]\n",
      " [2.62101375e-04 2.03483750e+01 6.06844375e+00 2.66869375e+00\n",
      "  1.89933938e+01 8.33993750e-01 3.73715000e+01 9.30234375e+00\n",
      "  2.37500000e-01]\n",
      " [6.52900638e-05 3.75191594e+00 4.13082899e+00 3.17709855e+00\n",
      "  3.52831594e+00 6.25298551e-01 8.41364348e+00 4.10811594e-02\n",
      "  7.48098551e-01]]\n",
      "###########################################################################################################\n",
      "###########################################################################################################\n",
      "[[4.80135600e-05 1.17881471e+01 8.10671835e+01 2.21659133e+01\n",
      "  1.56581358e+01 1.39118135e+02 1.88894457e+02 1.57518140e+01\n",
      "  3.98953244e-01]\n",
      " [7.00517885e-05 2.31047023e+01 1.14828391e+01 1.87888000e+00\n",
      "  3.73622539e+01 7.74214225e+01 2.43324708e+00 3.87292000e+00\n",
      "  8.28451870e-05]\n",
      " [1.04106496e-04 4.99096904e+00 1.06463793e+01 3.09108242e+00\n",
      "  3.64867407e+00 6.51698047e-01 1.16661847e+01 5.05159668e-01\n",
      "  2.07296296e-01]\n",
      " [2.76066277e-04 3.39170898e+01 1.22441346e+01 8.36620728e+00\n",
      "  4.14540659e+01 2.50355879e+00 1.78552935e+01 9.28338920e-02\n",
      "  1.18547097e+00]\n",
      " [3.11634094e-04 3.94712209e+01 1.62750115e+02 3.82642353e+00\n",
      "  2.40146118e+01 4.69782023e+00 4.03107403e+01 9.33882353e+00\n",
      "  2.58944557e-01]\n",
      " [6.99112154e-05 2.02827385e+01 2.91115385e+00 2.46580520e+01\n",
      "  1.57025790e+01 9.96181520e+00 8.67300283e+01 2.88423178e+01\n",
      "  1.78870852e-01]]\n",
      "[[4.80135600e-05 8.44553333e+00 6.62196000e+00 1.16336000e+00\n",
      "  9.11993333e+00 1.23404000e+00 6.97600000e+00 2.95033333e+00\n",
      "  2.79573333e-01]\n",
      " [2.87618000e-05 1.39068000e+00 1.13420800e+01 1.87888000e+00\n",
      "  4.92772000e+00 2.51833200e+01 1.98032000e+00 3.87292000e+00\n",
      "  0.00000000e+00]\n",
      " [1.04106496e-04 4.80300000e+00 1.98558519e+00 2.05046667e+00\n",
      "  3.64867407e+00 6.18051852e-01 1.09596000e+01 4.64496296e-01\n",
      "  2.07296296e-01]\n",
      " [1.93297912e-04 1.91395194e+01 7.14567419e+00 6.49883871e+00\n",
      "  1.67687355e+01 2.12076774e+00 1.78552935e+01 7.06967742e-02\n",
      "  1.18547097e+00]\n",
      " [3.11634094e-04 2.43861059e+01 5.66349412e+00 3.82642353e+00\n",
      "  2.40146118e+01 9.94952941e-01 4.02042118e+01 9.33882353e+00\n",
      "  2.43905882e-01]\n",
      " [6.99112154e-05 2.02827385e+01 2.91115385e+00 7.40769615e+00\n",
      "  1.09731538e+01 9.08940385e+00 1.48170654e+01 1.24418615e+01\n",
      "  2.42500000e-02]]\n",
      "###########################################################################################################\n",
      "###########################################################################################################\n",
      "[[9.71934967e-05 2.71002547e+01 3.42432721e+00 1.88839019e+01\n",
      "  2.19062515e+01 9.24509667e+00 3.71952686e+01 1.56214000e+01\n",
      "  2.53752792e-02]\n",
      " [1.37291354e-04 1.08880133e+01 3.84879990e+01 3.04020851e+00\n",
      "  3.78997500e+00 3.35126302e+01 9.85289431e+01 6.50555333e-01\n",
      "  2.89500000e-01]\n",
      " [2.87618000e-05 1.39068000e+00 2.28049005e+01 1.76119175e+01\n",
      "  5.67292433e+01 5.78021548e+01 8.25094412e+01 8.92389773e+00\n",
      "  9.94347904e-04]\n",
      " [1.23847434e-03 1.41204801e+02 3.79628575e+02 6.11242613e+00\n",
      "  8.99145289e+00 1.29689047e+00 1.19064966e+01 3.09851724e+00\n",
      "  4.84185773e-01]\n",
      " [1.35998539e-03 1.81845160e+01 4.56045546e+00 6.08467899e+00\n",
      "  1.57410437e+01 7.47307444e+00 1.47471395e+01 7.05579832e-02\n",
      "  1.17935541e+00]\n",
      " [4.64883506e-04 1.86041600e+01 3.84693689e+01 2.66860000e+00\n",
      "  1.98538046e+01 8.33293333e-01 3.44410400e+01 1.26152687e+01\n",
      "  2.30240000e-01]]\n",
      "[[9.71934967e-05 2.12658667e+01 3.42432000e+00 1.19416667e+01\n",
      "  1.33640967e+01 9.24509667e+00 3.19434300e+01 1.56214000e+01\n",
      "  2.50300000e-02]\n",
      " [3.30979000e-05 5.44339375e+00 4.70060000e+00 1.52540000e+00\n",
      "  3.78997500e+00 1.12360000e+00 5.80009375e+00 6.07293750e-01\n",
      "  2.89500000e-01]\n",
      " [2.87618000e-05 1.39068000e+00 1.13420800e+01 1.87888000e+00\n",
      "  4.92772000e+00 2.51833200e+01 1.98032000e+00 3.87292000e+00\n",
      "  0.00000000e+00]\n",
      " [1.08000000e-04 9.68025517e+00 7.22070345e+00 3.55174483e+00\n",
      "  7.41877931e+00 9.75496552e-01 1.19064966e+01 3.09851724e+00\n",
      "  2.11882759e-01]\n",
      " [1.90397499e-04 1.81845160e+01 4.56045546e+00 6.08467899e+00\n",
      "  1.57410437e+01 2.05163193e+00 1.47471395e+01 7.05579832e-02\n",
      "  1.15389916e+00]\n",
      " [2.54856000e-04 1.86041600e+01 5.54297333e+00 2.66860000e+00\n",
      "  1.89679733e+01 8.33293333e-01 3.44410400e+01 9.26100000e+00\n",
      "  2.30240000e-01]]\n",
      "###########################################################################################################\n"
     ]
    }
   ],
   "source": [
    "def mutation(candidate_array,mutation_random):\n",
    "    New_candidate = copy.deepcopy(candidate_array)\n",
    "    Mutant_candidate = copy.deepcopy(candidate_array)\n",
    "    Trial_candidate = copy.deepcopy(candidate_array)\n",
    "    for x in range(len(candidate_array)):\n",
    "        a = np.full(len(candidate_array), 1/(len(candidate_array)-1))\n",
    "        a[x] = 0\n",
    "        temp = np.random.choice(len(candidate_array), 3, replace = False, p=a)\n",
    "        for i in range(len(candidate_array[0].centers)):\n",
    "            for j in range(len(candidate_array[0].centers[i])):\n",
    "                Mutant_candidate[x].centers[i][j] = candidate_array[temp[0]].centers[i][j]+ random.random()*(candidate_array[temp[1]].centers[i][j] - candidate_array[temp[2]].centers[i][j])\n",
    "                if random.random() < mutation_random:\n",
    "                    Trial_candidate[x].centers[i][j] = Mutant_candidate[x].centers[i][j] #Trial & Mutant must be copy of same candidate\n",
    "                    \n",
    "                    \n",
    "        Trial_candidate[x].fitness = sum_of_squares(Trial_candidate[x].nodes,Trial_candidate[x].centers,Trial_candidate[x].labels)\n",
    "        \n",
    "        if Trial_candidate[x].fitness < sum_of_squares(candidate_array[x].nodes,candidates_array[2].centers,candidates_array[2].labels):\n",
    "            New_candidate[x] = Trial_candidate[x]\n",
    "            print(\"sakjfnr\")\n",
    "        else:\n",
    "            New_candidate[x] = candidate_array[x]\n",
    "        #print(Trial_candidate[x].centers)\n",
    "        #print(candidate_array[x].centers)\n",
    "        #print(New_candidate[x].centers)\n",
    "        #print(Mutant_candidate[x].centers)\n",
    "        print(\"###########################################################################################################\")\n",
    "        Trial_candidate[x].each_fitness = each_fitness(Trial_candidate[x])\n",
    "        print(Trial_candidate[x].each_fitness)\n",
    "        candidate_array[x].each_fitness = each_fitness(candidate_array[x])\n",
    "        print(candidate_array[x].each_fitness)\n",
    "        print(\"###########################################################################################################\")\n",
    "        \n",
    "    return New_candidate\n",
    "#print(candidates_array[1].fitness)\n",
    "#for i in range(0,3500):\n",
    "New_candidates_array = mutation(candidates_array,mutation_random)\n",
    "    #if New_candidates_array[1].fitness != candidates_array[1].fitness:\n",
    "     #   print(New_candidates_array[1].fitness)#never happen"
   ]
  },
  {
   "cell_type": "markdown",
   "metadata": {},
   "source": [
    "# Probability Equation"
   ]
  },
  {
   "cell_type": "code",
   "execution_count": 59,
   "metadata": {},
   "outputs": [],
   "source": [
    "def probability(candidates):\n",
    "    for c in range(0,len(candidates)):\n",
    "        temp_array = []\n",
    "        for clusters in range(0,len(candidates[c].centers)):\n",
    "            temp_array.append((1/np.sum(candidates[c].each_fitness[clusters]))/(np.sum(1/(np.sum(x.each_fitness[clusters])) for x in candidates)))\n",
    "        print(temp_array)    \n",
    "        candidates[c].probability = temp_array\n",
    "    return"
   ]
  },
  {
   "cell_type": "markdown",
   "metadata": {},
   "source": [
    "### Roulette Wheel Selection\n",
    "This is a logic for selecting targets with higher probability.<br>\n",
    "In this article, each candidate want to follow the other candidate with higher fitness. So in the previous section <strong><em>Probability Equation<strong><em>, we calculated all probabilities of candidates based on their fitnesses."
   ]
  },
  {
   "cell_type": "code",
   "execution_count": 60,
   "metadata": {},
   "outputs": [],
   "source": [
    "def roulette_wheel_selection(inertia_array):\n",
    "    maximum = np.sum(inertia_array)\n",
    "    pick = random.uniform(0, maximum)\n",
    "    current = 0\n",
    "    for fitness in inertia_array:\n",
    "        current += fitness\n",
    "        if current > pick:\n",
    "            return fitness"
   ]
  },
  {
   "cell_type": "markdown",
   "metadata": {},
   "source": [
    "# Shrink sampling interval\n",
    "**here we shrink sampeling interval using reduction factor ro creat neighborhood of each center**"
   ]
  },
  {
   "cell_type": "code",
   "execution_count": 61,
   "metadata": {},
   "outputs": [
    {
     "name": "stdout",
     "output_type": "stream",
     "text": [
      "[[[1.5052605714285714, 1.5269015714285716], [11.396964285714287, 17.714464285714286], [-1.9791785714285708, 2.2863214285714295], [0.6688214285714287, 3.7183214285714286], [70.45928571428571, 75.7792857142857], [-2.4404642857142855, 3.459035714285714], [3.3525714285714283, 13.57457142857143], [-0.5798214285714285, 2.4126785714285712], [-0.22832142857142856, 0.2561785714285714]], [[1.5063851910569106, 1.5280261910569104], [9.971331300813008, 16.288831300813005], [1.3614776422764225, 5.626977642276422], [-0.12304268292682918, 2.9264573170731705], [70.14178861788618, 75.46178861788617], [-2.352758130081301, 3.5467418699186988], [3.204040650406503, 13.426040650406504], [-1.4514532520325203, 1.5410467479674794], [-0.17891666666666667, 0.3055833333333333]], [[1.5069445, 1.5285855000000002], [10.113750000000001, 16.43125], [-2.13275, 2.13275], [-0.4897499999999997, 2.55975], [71.5875, 76.9075], [-2.03225, 3.86725], [5.2165, 15.438500000000001], [-1.4962499999999999, 1.4962499999999999], [-0.24225, 0.24225]], [[1.5174466428571427, 1.539087642857143], [8.708392857142858, 15.025892857142857], [-2.1327500000000006, 2.1327499999999997], [-0.3061785714285712, 2.7433214285714285], [69.01285714285714, 74.33285714285714], [-2.6983214285714285, 3.201178571428571], [9.204714285714285, 19.426714285714286], [-1.0462500000000001, 1.9462499999999996], [-0.10510714285714287, 0.3793928571428571]], [[1.5100441153846154, 1.5316851153846156], [9.932019230769232, 16.24951923076923], [-1.3835192307692306, 2.8819807692307697], [0.1006346153846156, 3.1501346153846153], [70.04538461538462, 75.36538461538461], [-2.575903846153846, 3.323596153846154], [6.102846153846153, 16.324846153846153], [-1.4777884615384613, 1.5147115384615384], [-0.16148076923076923, 0.3230192307692308]], [[1.510293858974359, 1.5319348589743589], [10.697147435897437, 17.014647435897434], [1.21750641025641, 5.48300641025641], [-0.4585961538461538, 2.5909038461538456], [69.17256410256411, 74.4925641025641], [-2.734621794871795, 3.164878205128205], [4.37002564102564, 14.592025641025641], [-1.4218910256410255, 1.5706089743589742], [-0.19071153846153846, 0.29378846153846155]]]\n"
     ]
    }
   ],
   "source": [
    "def shrinked_sampling_interval(candidates_array):\n",
    "    for i in range(0,len(candidates_array)):\n",
    "        shrinked_sampling_interval = []\n",
    "        for j in range(0,len(candidates_array[i].centers)):\n",
    "            Second_layer = []\n",
    "            for k in range(0,len(candidates_array[i].centers[j])):\n",
    "                Third_layer = []\n",
    "                Temp = abs(candidates_array[i].sampling_interval[0][k] - candidates_array[i].sampling_interval[1][k]) * sampling_interval_reduction_factor\n",
    "                Third_layer.append(candidates_array[i].centers[j][k] - (Temp/2))\n",
    "                Third_layer.append(candidates_array[i].centers[j][k] + (Temp/2))\n",
    "                Second_layer.append(Third_layer)\n",
    "            shrinked_sampling_interval.append(Second_layer)\n",
    "        candidates_array[i].sampling_interval = shrinked_sampling_interval\n",
    "    return\n",
    "shrinked_sampling_interval(New_candidates_array)\n",
    "print(New_candidates_array[0].sampling_interval)"
   ]
  },
  {
   "cell_type": "markdown",
   "metadata": {},
   "source": [
    "# variations\n",
    "**Choose t diffrent random center of each cluster's center in shrinked sampling interval neghborhood**"
   ]
  },
  {
   "cell_type": "code",
   "execution_count": 62,
   "metadata": {},
   "outputs": [
    {
     "name": "stdout",
     "output_type": "stream",
     "text": [
      "[[1.516982127244662, 15.69056842817885, 0.5367816619608734, 0.782233794638898, 70.24063976214724, 3.0636930250318906, 5.015910803422227, -1.19364347733935, -0.05370504466052724], [1.505513785547688, 12.495609534429542, 0.6067408910463781, 4.030927720493845, 71.51633790683854, 2.7703194080597884, 7.757277461975906, 2.0988079009658103, -0.10660166614720834], [1.525690704461719, 16.360247935719446, 2.0708467490495335, 2.082737338023547, 72.29556740405863, -2.4289476770010756, 5.399062147962279, 0.6856117651197755, 0.11411610831240279], [1.5237310416604186, 15.039314013259677, 2.5215103353648205, 2.339344646442405, 71.89504841113592, 2.352117522536313, 6.3160729915052745, -0.8801731053554455, -0.055876443741311344], [1.5177572223242457, 13.458125716772138, -0.7996986428180157, 2.7558178646138574, 70.76513497522484, 3.0982701505621244, 14.788646757642372, -0.374810133096123, 0.0766544228858666], [1.520904277672892, 14.540632545360033, 1.8282342724637846, 2.251415654193006, 75.32991887942613, -2.144814339346824, 8.36703833750417, 1.6413395536231226, 0.21851673202769706]]\n"
     ]
    }
   ],
   "source": [
    "def variation(candidates_array):\n",
    "    for candidate in candidates_array:\n",
    "        variations = []\n",
    "        for i in range(0,variations_count):\n",
    "            Second_layer = []\n",
    "            for j in candidate.sampling_interval:\n",
    "                Third_layer = []\n",
    "                for k in range(0,len(j)):\n",
    "                    #print(k)\n",
    "                    Third_layer.append(random.uniform(j[k][0],j[k][1]))\n",
    "                Second_layer.append(Third_layer)\n",
    "            variations.append(Second_layer)\n",
    "        candidate.variation = variations    \n",
    "variation(New_candidates_array)\n",
    "print(New_candidates_array[3].variation[1])"
   ]
  },
  {
   "cell_type": "code",
   "execution_count": null,
   "metadata": {},
   "outputs": [],
   "source": []
  }
 ],
 "metadata": {
  "kernelspec": {
   "display_name": "Python 3",
   "language": "python",
   "name": "python3"
  },
  "language_info": {
   "codemirror_mode": {
    "name": "ipython",
    "version": 3
   },
   "file_extension": ".py",
   "mimetype": "text/x-python",
   "name": "python",
   "nbconvert_exporter": "python",
   "pygments_lexer": "ipython3",
   "version": "3.6.6"
  }
 },
 "nbformat": 4,
 "nbformat_minor": 2
}
